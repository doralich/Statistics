{
 "cells": [
  {
   "cell_type": "code",
   "execution_count": 1,
   "metadata": {},
   "outputs": [],
   "source": [
    "import pandas as pd"
   ]
  },
  {
   "cell_type": "code",
   "execution_count": 2,
   "metadata": {},
   "outputs": [
    {
     "data": {
      "text/html": [
       "<div>\n",
       "<style scoped>\n",
       "    .dataframe tbody tr th:only-of-type {\n",
       "        vertical-align: middle;\n",
       "    }\n",
       "\n",
       "    .dataframe tbody tr th {\n",
       "        vertical-align: top;\n",
       "    }\n",
       "\n",
       "    .dataframe thead th {\n",
       "        text-align: right;\n",
       "    }\n",
       "</style>\n",
       "<table border=\"1\" class=\"dataframe\">\n",
       "  <thead>\n",
       "    <tr style=\"text-align: right;\">\n",
       "      <th></th>\n",
       "      <th>respondent</th>\n",
       "      <th>main_branch</th>\n",
       "      <th>hobbyist</th>\n",
       "      <th>age</th>\n",
       "      <th>age_1st_code</th>\n",
       "      <th>age_first_code_cut</th>\n",
       "      <th>comp_freq</th>\n",
       "      <th>comp_total</th>\n",
       "      <th>converted_comp</th>\n",
       "      <th>country</th>\n",
       "      <th>...</th>\n",
       "      <th>survey_length</th>\n",
       "      <th>trans</th>\n",
       "      <th>undergrad_major</th>\n",
       "      <th>webframe_desire_next_year</th>\n",
       "      <th>webframe_worked_with</th>\n",
       "      <th>welcome_change</th>\n",
       "      <th>work_week_hrs</th>\n",
       "      <th>years_code</th>\n",
       "      <th>years_code_pro</th>\n",
       "      <th>age_cat</th>\n",
       "    </tr>\n",
       "  </thead>\n",
       "  <tbody>\n",
       "    <tr>\n",
       "      <th>0</th>\n",
       "      <td>36.0</td>\n",
       "      <td>I am not primarily a developer, but I write co...</td>\n",
       "      <td>Yes</td>\n",
       "      <td>34.0</td>\n",
       "      <td>30.0</td>\n",
       "      <td>adult</td>\n",
       "      <td>Yearly</td>\n",
       "      <td>60000.0</td>\n",
       "      <td>77556.0</td>\n",
       "      <td>United Kingdom</td>\n",
       "      <td>...</td>\n",
       "      <td>Appropriate in length</td>\n",
       "      <td>No</td>\n",
       "      <td>Computer science, computer engineering, or sof...</td>\n",
       "      <td>Express;React.js</td>\n",
       "      <td>Express;React.js</td>\n",
       "      <td>Just as welcome now as I felt last year</td>\n",
       "      <td>40.0</td>\n",
       "      <td>4.0</td>\n",
       "      <td>3.0</td>\n",
       "      <td>At least 30</td>\n",
       "    </tr>\n",
       "    <tr>\n",
       "      <th>1</th>\n",
       "      <td>47.0</td>\n",
       "      <td>I am a developer by profession</td>\n",
       "      <td>Yes</td>\n",
       "      <td>53.0</td>\n",
       "      <td>10.0</td>\n",
       "      <td>child</td>\n",
       "      <td>Yearly</td>\n",
       "      <td>58000.0</td>\n",
       "      <td>74970.0</td>\n",
       "      <td>United Kingdom</td>\n",
       "      <td>...</td>\n",
       "      <td>Appropriate in length</td>\n",
       "      <td>No</td>\n",
       "      <td>A natural science (such as biology, chemistry,...</td>\n",
       "      <td>Flask;Spring</td>\n",
       "      <td>Flask;Spring</td>\n",
       "      <td>Just as welcome now as I felt last year</td>\n",
       "      <td>40.0</td>\n",
       "      <td>43.0</td>\n",
       "      <td>28.0</td>\n",
       "      <td>At least 30</td>\n",
       "    </tr>\n",
       "    <tr>\n",
       "      <th>2</th>\n",
       "      <td>69.0</td>\n",
       "      <td>I am a developer by profession</td>\n",
       "      <td>Yes</td>\n",
       "      <td>25.0</td>\n",
       "      <td>12.0</td>\n",
       "      <td>child</td>\n",
       "      <td>Yearly</td>\n",
       "      <td>550000.0</td>\n",
       "      <td>594539.0</td>\n",
       "      <td>France</td>\n",
       "      <td>...</td>\n",
       "      <td>Too short</td>\n",
       "      <td>No</td>\n",
       "      <td>Computer science, computer engineering, or sof...</td>\n",
       "      <td>Django;Flask</td>\n",
       "      <td>Django;Flask</td>\n",
       "      <td>Just as welcome now as I felt last year</td>\n",
       "      <td>40.0</td>\n",
       "      <td>13.0</td>\n",
       "      <td>3.0</td>\n",
       "      <td>Under 30</td>\n",
       "    </tr>\n",
       "    <tr>\n",
       "      <th>3</th>\n",
       "      <td>125.0</td>\n",
       "      <td>I am not primarily a developer, but I write co...</td>\n",
       "      <td>Yes</td>\n",
       "      <td>41.0</td>\n",
       "      <td>30.0</td>\n",
       "      <td>adult</td>\n",
       "      <td>Monthly</td>\n",
       "      <td>200000.0</td>\n",
       "      <td>2000000.0</td>\n",
       "      <td>United States</td>\n",
       "      <td>...</td>\n",
       "      <td>Appropriate in length</td>\n",
       "      <td>No</td>\n",
       "      <td>None</td>\n",
       "      <td>None</td>\n",
       "      <td>None</td>\n",
       "      <td>Just as welcome now as I felt last year</td>\n",
       "      <td>40.0</td>\n",
       "      <td>11.0</td>\n",
       "      <td>11.0</td>\n",
       "      <td>At least 30</td>\n",
       "    </tr>\n",
       "    <tr>\n",
       "      <th>4</th>\n",
       "      <td>147.0</td>\n",
       "      <td>I am not primarily a developer, but I write co...</td>\n",
       "      <td>No</td>\n",
       "      <td>28.0</td>\n",
       "      <td>15.0</td>\n",
       "      <td>adult</td>\n",
       "      <td>Yearly</td>\n",
       "      <td>50000.0</td>\n",
       "      <td>37816.0</td>\n",
       "      <td>Canada</td>\n",
       "      <td>...</td>\n",
       "      <td>Appropriate in length</td>\n",
       "      <td>No</td>\n",
       "      <td>Another engineering discipline (such as civil,...</td>\n",
       "      <td>None</td>\n",
       "      <td>Express;Flask</td>\n",
       "      <td>Just as welcome now as I felt last year</td>\n",
       "      <td>40.0</td>\n",
       "      <td>5.0</td>\n",
       "      <td>3.0</td>\n",
       "      <td>Under 30</td>\n",
       "    </tr>\n",
       "  </tbody>\n",
       "</table>\n",
       "<p>5 rows × 63 columns</p>\n",
       "</div>"
      ],
      "text/plain": [
       "   respondent                                        main_branch hobbyist  \\\n",
       "0        36.0  I am not primarily a developer, but I write co...      Yes   \n",
       "1        47.0                     I am a developer by profession      Yes   \n",
       "2        69.0                     I am a developer by profession      Yes   \n",
       "3       125.0  I am not primarily a developer, but I write co...      Yes   \n",
       "4       147.0  I am not primarily a developer, but I write co...       No   \n",
       "\n",
       "    age  age_1st_code age_first_code_cut comp_freq  comp_total  \\\n",
       "0  34.0          30.0              adult    Yearly     60000.0   \n",
       "1  53.0          10.0              child    Yearly     58000.0   \n",
       "2  25.0          12.0              child    Yearly    550000.0   \n",
       "3  41.0          30.0              adult   Monthly    200000.0   \n",
       "4  28.0          15.0              adult    Yearly     50000.0   \n",
       "\n",
       "   converted_comp         country  ...          survey_length trans  \\\n",
       "0         77556.0  United Kingdom  ...  Appropriate in length    No   \n",
       "1         74970.0  United Kingdom  ...  Appropriate in length    No   \n",
       "2        594539.0          France  ...              Too short    No   \n",
       "3       2000000.0   United States  ...  Appropriate in length    No   \n",
       "4         37816.0          Canada  ...  Appropriate in length    No   \n",
       "\n",
       "                                     undergrad_major  \\\n",
       "0  Computer science, computer engineering, or sof...   \n",
       "1  A natural science (such as biology, chemistry,...   \n",
       "2  Computer science, computer engineering, or sof...   \n",
       "3                                               None   \n",
       "4  Another engineering discipline (such as civil,...   \n",
       "\n",
       "  webframe_desire_next_year webframe_worked_with  \\\n",
       "0          Express;React.js     Express;React.js   \n",
       "1              Flask;Spring         Flask;Spring   \n",
       "2              Django;Flask         Django;Flask   \n",
       "3                      None                 None   \n",
       "4                      None        Express;Flask   \n",
       "\n",
       "                            welcome_change work_week_hrs years_code  \\\n",
       "0  Just as welcome now as I felt last year          40.0        4.0   \n",
       "1  Just as welcome now as I felt last year          40.0       43.0   \n",
       "2  Just as welcome now as I felt last year          40.0       13.0   \n",
       "3  Just as welcome now as I felt last year          40.0       11.0   \n",
       "4  Just as welcome now as I felt last year          40.0        5.0   \n",
       "\n",
       "  years_code_pro      age_cat  \n",
       "0            3.0  At least 30  \n",
       "1           28.0  At least 30  \n",
       "2            3.0     Under 30  \n",
       "3           11.0  At least 30  \n",
       "4            3.0     Under 30  \n",
       "\n",
       "[5 rows x 63 columns]"
      ]
     },
     "execution_count": 2,
     "metadata": {},
     "output_type": "execute_result"
    }
   ],
   "source": [
    "stack_overflow = pd.read_feather('data/stack_overflow.feather')\n",
    "stack_overflow.head()"
   ]
  },
  {
   "attachments": {},
   "cell_type": "markdown",
   "metadata": {},
   "source": [
    "### A hypothesis:\n",
    "- The mean annual compensation of the population of data scientists is $110,000"
   ]
  },
  {
   "cell_type": "code",
   "execution_count": 3,
   "metadata": {},
   "outputs": [
    {
     "data": {
      "text/plain": [
       "119574.71738168952"
      ]
     },
     "execution_count": 3,
     "metadata": {},
     "output_type": "execute_result"
    }
   ],
   "source": [
    "# The point estimate (sample statistic)\n",
    "mean_comp_samp = stack_overflow['converted_comp'].mean()\n",
    "mean_comp_samp"
   ]
  },
  {
   "attachments": {},
   "cell_type": "markdown",
   "metadata": {},
   "source": [
    "    The result is different from our hypothesis, but is it meaningfully different?"
   ]
  },
  {
   "cell_type": "code",
   "execution_count": 4,
   "metadata": {},
   "outputs": [],
   "source": [
    "import numpy as np\n",
    "### Generating a bootstrap distribution\n",
    "\n",
    "boot_distn = []\n",
    "for i in range(5000):\n",
    "    boot_distn.append(\n",
    "# step 1. Resample\n",
    "            np.mean(\n",
    "            stack_overflow.sample(frac=1,replace=True)['converted_comp']\n",
    "                    )\n",
    "\n",
    "    )"
   ]
  },
  {
   "cell_type": "code",
   "execution_count": 5,
   "metadata": {},
   "outputs": [
    {
     "data": {
      "image/png": "[encoded data removed]",
      "text/plain": [
       "<Figure size 640x480 with 1 Axes>"
      ]
     },
     "metadata": {},
     "output_type": "display_data"
    }
   ],
   "source": [
    "import matplotlib.pyplot as plt\n",
    "\n",
    "plt.hist(boot_distn,bins=50)\n",
    "plt.show()"
   ]
  },
  {
   "attachments": {},
   "cell_type": "markdown",
   "metadata": {},
   "source": [
    "It's bell shape, meaning that it's roughly normally distributed. Notice that $110,000 is on the left of the distribution."
   ]
  },
  {
   "attachments": {},
   "cell_type": "markdown",
   "metadata": {},
   "source": [
    "The standard deviation of the sample statistics in the bootstrap distribution estimates the standard error of the statistic."
   ]
  },
  {
   "cell_type": "code",
   "execution_count": 6,
   "metadata": {},
   "outputs": [
    {
     "data": {
      "text/plain": [
       "5545.449864336373"
      ]
     },
     "execution_count": 6,
     "metadata": {},
     "output_type": "execute_result"
    }
   ],
   "source": [
    "# Standard error\n",
    "std_error = np.std(boot_distn,ddof=1)\n",
    "std_error"
   ]
  },
  {
   "attachments": {},
   "cell_type": "markdown",
   "metadata": {},
   "source": [
    "### Z-Scores\n",
    "Since variables have arbitrary units and ranges, before we test our hypothesis, we need to standardize the values.\n",
    "\n",
    "standardized value = (value - mean) / standard deviation\n",
    "\n",
    "z = (sample stat - hypoth.param.value) / standard error"
   ]
  },
  {
   "cell_type": "code",
   "execution_count": 7,
   "metadata": {},
   "outputs": [
    {
     "data": {
      "text/plain": [
       "1.7265898377814177"
      ]
     },
     "execution_count": 7,
     "metadata": {},
     "output_type": "execute_result"
    }
   ],
   "source": [
    "mean_comp_hyp = 110000\n",
    "\n",
    "z_score = (mean_comp_samp - mean_comp_hyp)/std_error\n",
    "z_score"
   ]
  },
  {
   "attachments": {},
   "cell_type": "markdown",
   "metadata": {},
   "source": [
    "### Hypothesis testing use case:\n",
    "\n",
    "Determine whether sample statistics are close to or far away from expected (or 'hypothesized' values)"
   ]
  },
  {
   "attachments": {},
   "cell_type": "markdown",
   "metadata": {},
   "source": [
    "    Standard normal (z) distribution = Z distribution"
   ]
  },
  {
   "cell_type": "code",
   "execution_count": 8,
   "metadata": {},
   "outputs": [
    {
     "data": {
      "text/html": [
       "<div>\n",
       "<style scoped>\n",
       "    .dataframe tbody tr th:only-of-type {\n",
       "        vertical-align: middle;\n",
       "    }\n",
       "\n",
       "    .dataframe tbody tr th {\n",
       "        vertical-align: top;\n",
       "    }\n",
       "\n",
       "    .dataframe thead th {\n",
       "        text-align: right;\n",
       "    }\n",
       "</style>\n",
       "<table border=\"1\" class=\"dataframe\">\n",
       "  <thead>\n",
       "    <tr style=\"text-align: right;\">\n",
       "      <th></th>\n",
       "      <th>id</th>\n",
       "      <th>country</th>\n",
       "      <th>managed_by</th>\n",
       "      <th>fulfill_via</th>\n",
       "      <th>vendor_inco_term</th>\n",
       "      <th>shipment_mode</th>\n",
       "      <th>late_delivery</th>\n",
       "      <th>late</th>\n",
       "      <th>product_group</th>\n",
       "      <th>sub_classification</th>\n",
       "      <th>...</th>\n",
       "      <th>line_item_quantity</th>\n",
       "      <th>line_item_value</th>\n",
       "      <th>pack_price</th>\n",
       "      <th>unit_price</th>\n",
       "      <th>manufacturing_site</th>\n",
       "      <th>first_line_designation</th>\n",
       "      <th>weight_kilograms</th>\n",
       "      <th>freight_cost_usd</th>\n",
       "      <th>freight_cost_groups</th>\n",
       "      <th>line_item_insurance_usd</th>\n",
       "    </tr>\n",
       "  </thead>\n",
       "  <tbody>\n",
       "    <tr>\n",
       "      <th>0</th>\n",
       "      <td>36203.0</td>\n",
       "      <td>Nigeria</td>\n",
       "      <td>PMO - US</td>\n",
       "      <td>Direct Drop</td>\n",
       "      <td>EXW</td>\n",
       "      <td>Air</td>\n",
       "      <td>1.0</td>\n",
       "      <td>Yes</td>\n",
       "      <td>HRDT</td>\n",
       "      <td>HIV test</td>\n",
       "      <td>...</td>\n",
       "      <td>2996.0</td>\n",
       "      <td>266644.00</td>\n",
       "      <td>89.00</td>\n",
       "      <td>0.89</td>\n",
       "      <td>Alere Medical Co., Ltd.</td>\n",
       "      <td>Yes</td>\n",
       "      <td>1426.0</td>\n",
       "      <td>33279.83</td>\n",
       "      <td>expensive</td>\n",
       "      <td>373.83</td>\n",
       "    </tr>\n",
       "    <tr>\n",
       "      <th>1</th>\n",
       "      <td>30998.0</td>\n",
       "      <td>Botswana</td>\n",
       "      <td>PMO - US</td>\n",
       "      <td>Direct Drop</td>\n",
       "      <td>EXW</td>\n",
       "      <td>Air</td>\n",
       "      <td>0.0</td>\n",
       "      <td>No</td>\n",
       "      <td>HRDT</td>\n",
       "      <td>HIV test</td>\n",
       "      <td>...</td>\n",
       "      <td>25.0</td>\n",
       "      <td>800.00</td>\n",
       "      <td>32.00</td>\n",
       "      <td>1.60</td>\n",
       "      <td>Trinity Biotech, Plc</td>\n",
       "      <td>Yes</td>\n",
       "      <td>10.0</td>\n",
       "      <td>559.89</td>\n",
       "      <td>reasonable</td>\n",
       "      <td>1.72</td>\n",
       "    </tr>\n",
       "    <tr>\n",
       "      <th>2</th>\n",
       "      <td>69871.0</td>\n",
       "      <td>Vietnam</td>\n",
       "      <td>PMO - US</td>\n",
       "      <td>Direct Drop</td>\n",
       "      <td>EXW</td>\n",
       "      <td>Air</td>\n",
       "      <td>0.0</td>\n",
       "      <td>No</td>\n",
       "      <td>ARV</td>\n",
       "      <td>Adult</td>\n",
       "      <td>...</td>\n",
       "      <td>22925.0</td>\n",
       "      <td>110040.00</td>\n",
       "      <td>4.80</td>\n",
       "      <td>0.08</td>\n",
       "      <td>Hetero Unit III Hyderabad IN</td>\n",
       "      <td>Yes</td>\n",
       "      <td>3723.0</td>\n",
       "      <td>19056.13</td>\n",
       "      <td>expensive</td>\n",
       "      <td>181.57</td>\n",
       "    </tr>\n",
       "    <tr>\n",
       "      <th>3</th>\n",
       "      <td>17648.0</td>\n",
       "      <td>South Africa</td>\n",
       "      <td>PMO - US</td>\n",
       "      <td>Direct Drop</td>\n",
       "      <td>DDP</td>\n",
       "      <td>Ocean</td>\n",
       "      <td>0.0</td>\n",
       "      <td>No</td>\n",
       "      <td>ARV</td>\n",
       "      <td>Adult</td>\n",
       "      <td>...</td>\n",
       "      <td>152535.0</td>\n",
       "      <td>361507.95</td>\n",
       "      <td>2.37</td>\n",
       "      <td>0.04</td>\n",
       "      <td>Aurobindo Unit III, India</td>\n",
       "      <td>Yes</td>\n",
       "      <td>7698.0</td>\n",
       "      <td>11372.23</td>\n",
       "      <td>expensive</td>\n",
       "      <td>779.41</td>\n",
       "    </tr>\n",
       "    <tr>\n",
       "      <th>4</th>\n",
       "      <td>5647.0</td>\n",
       "      <td>Uganda</td>\n",
       "      <td>PMO - US</td>\n",
       "      <td>Direct Drop</td>\n",
       "      <td>EXW</td>\n",
       "      <td>Air</td>\n",
       "      <td>0.0</td>\n",
       "      <td>No</td>\n",
       "      <td>HRDT</td>\n",
       "      <td>HIV test - Ancillary</td>\n",
       "      <td>...</td>\n",
       "      <td>850.0</td>\n",
       "      <td>8.50</td>\n",
       "      <td>0.01</td>\n",
       "      <td>0.00</td>\n",
       "      <td>Inverness Japan</td>\n",
       "      <td>Yes</td>\n",
       "      <td>56.0</td>\n",
       "      <td>360.00</td>\n",
       "      <td>reasonable</td>\n",
       "      <td>0.01</td>\n",
       "    </tr>\n",
       "  </tbody>\n",
       "</table>\n",
       "<p>5 rows × 27 columns</p>\n",
       "</div>"
      ],
      "text/plain": [
       "        id       country managed_by  fulfill_via vendor_inco_term  \\\n",
       "0  36203.0       Nigeria   PMO - US  Direct Drop              EXW   \n",
       "1  30998.0      Botswana   PMO - US  Direct Drop              EXW   \n",
       "2  69871.0       Vietnam   PMO - US  Direct Drop              EXW   \n",
       "3  17648.0  South Africa   PMO - US  Direct Drop              DDP   \n",
       "4   5647.0        Uganda   PMO - US  Direct Drop              EXW   \n",
       "\n",
       "  shipment_mode  late_delivery late product_group    sub_classification  ...  \\\n",
       "0           Air            1.0  Yes          HRDT              HIV test  ...   \n",
       "1           Air            0.0   No          HRDT              HIV test  ...   \n",
       "2           Air            0.0   No           ARV                 Adult  ...   \n",
       "3         Ocean            0.0   No           ARV                 Adult  ...   \n",
       "4           Air            0.0   No          HRDT  HIV test - Ancillary  ...   \n",
       "\n",
       "  line_item_quantity line_item_value pack_price unit_price  \\\n",
       "0             2996.0       266644.00      89.00       0.89   \n",
       "1               25.0          800.00      32.00       1.60   \n",
       "2            22925.0       110040.00       4.80       0.08   \n",
       "3           152535.0       361507.95       2.37       0.04   \n",
       "4              850.0            8.50       0.01       0.00   \n",
       "\n",
       "             manufacturing_site first_line_designation  weight_kilograms  \\\n",
       "0       Alere Medical Co., Ltd.                    Yes            1426.0   \n",
       "1          Trinity Biotech, Plc                    Yes              10.0   \n",
       "2  Hetero Unit III Hyderabad IN                    Yes            3723.0   \n",
       "3     Aurobindo Unit III, India                    Yes            7698.0   \n",
       "4               Inverness Japan                    Yes              56.0   \n",
       "\n",
       "   freight_cost_usd  freight_cost_groups  line_item_insurance_usd  \n",
       "0          33279.83            expensive                   373.83  \n",
       "1            559.89           reasonable                     1.72  \n",
       "2          19056.13            expensive                   181.57  \n",
       "3          11372.23            expensive                   779.41  \n",
       "4            360.00           reasonable                     0.01  \n",
       "\n",
       "[5 rows x 27 columns]"
      ]
     },
     "execution_count": 8,
     "metadata": {},
     "output_type": "execute_result"
    }
   ],
   "source": [
    "late_shipments = pd.read_feather('data/avocado.feather')\n",
    "late_shipments.head()"
   ]
  },
  {
   "cell_type": "code",
   "execution_count": 9,
   "metadata": {},
   "outputs": [
    {
     "name": "stdout",
     "output_type": "stream",
     "text": [
      "0.061\n"
     ]
    }
   ],
   "source": [
    "# Calculate the proportion of late shipments\n",
    "late_prop_samp = (late_shipments['late'] == 'Yes').mean()\n",
    "\n",
    "# Print the results\n",
    "print(late_prop_samp)"
   ]
  },
  {
   "cell_type": "code",
   "execution_count": 10,
   "metadata": {},
   "outputs": [],
   "source": [
    "late_shipments_boot_distn=[]\n",
    "for i in range(5000):\n",
    "    ships_samp = late_shipments.sample(frac=1,replace=True)\n",
    "    late_shipments_boot_distn.append(\n",
    "        (ships_samp['late']=='Yes').mean()\n",
    "    )"
   ]
  },
  {
   "cell_type": "code",
   "execution_count": 11,
   "metadata": {},
   "outputs": [],
   "source": [
    "# Hypothesize that the proportion is 6%\n",
    "late_prop_hyp = 0.06"
   ]
  },
  {
   "cell_type": "code",
   "execution_count": 12,
   "metadata": {},
   "outputs": [
    {
     "data": {
      "text/plain": [
       "0.007551955866362138"
      ]
     },
     "execution_count": 12,
     "metadata": {},
     "output_type": "execute_result"
    }
   ],
   "source": [
    "# Calculate the standard error\n",
    "std_error = np.std(late_shipments_boot_distn,ddof=1)\n",
    "std_error"
   ]
  },
  {
   "cell_type": "code",
   "execution_count": 13,
   "metadata": {},
   "outputs": [
    {
     "data": {
      "text/plain": [
       "0.1324160280721704"
      ]
     },
     "execution_count": 13,
     "metadata": {},
     "output_type": "execute_result"
    }
   ],
   "source": [
    "# Find z-score of late_prop_samp\n",
    "z_score = (late_prop_samp-late_prop_hyp)/std_error\n",
    "z_score"
   ]
  },
  {
   "attachments": {},
   "cell_type": "markdown",
   "metadata": {},
   "source": [
    "### P-Value\n",
    "A hypothesis is a statement about a population parameter. We don't know the true value of this population parameter; we can only make inferences about it from the data.\n",
    "\n",
    "p-values: Probability of obtaining a result, assuming the null hypothesis is true.\n",
    "- large p-value,large support for H0\n",
    "    - Statistic likely ***not in*** the tail of the null distribution\n",
    "- Small p-value, strong evidence against H0\n",
    "    - Statistic likely in the tail of the null distribution\n",
    "\n",
    "\n",
    "Hypothesis tests compare two competing hypotheses.\n",
    "    - The null hypothesis is the existing idea\n",
    "    - The alternative hypothesis is the new challenger idea of the researcher"
   ]
  },
  {
   "attachments": {},
   "cell_type": "markdown",
   "metadata": {},
   "source": [
    "***\n",
    "### Problems:\n",
    "- H0: The proportion of data scientists starting programming as children is 35%\n",
    "- HA: The proportion of data scientists starting programming as children is greater than 35% - Right-Tailed test\n",
    "***\n",
    "\n",
    "- Either HA or H0 is true (not both)\n",
    "- initally, H0 is assumed to be true - This only changes if the sample provides enough evidence to reject it.\n",
    "- If the evidence from the sample is 'significant' that HA is true, reject H0, else choose H0.\n",
    "- Significance level is 'beyond a reasonable doubt' for hypothesis testing.\n",
    "***\n",
    "- Hypothesis tests check if the sample statistics lie in the tails of the null distribution, which is the distribution of the statistic if the null hypothesis was true.\n",
    "***\n",
    "- alternative different from null --> two tailed\n",
    "- alternative greater than null -->  right tailed\n",
    "- alternative less than null -->  left tailed"
   ]
  },
  {
   "cell_type": "code",
   "execution_count": 14,
   "metadata": {},
   "outputs": [
    {
     "data": {
      "text/plain": [
       "0.39141972578505085"
      ]
     },
     "execution_count": 14,
     "metadata": {},
     "output_type": "execute_result"
    }
   ],
   "source": [
    "prop_child_samp = (stack_overflow['age_first_code_cut']=='child').mean()\n",
    "prop_child_samp"
   ]
  },
  {
   "cell_type": "code",
   "execution_count": 15,
   "metadata": {},
   "outputs": [],
   "source": [
    "prop_child_hyp = 0.35"
   ]
  },
  {
   "cell_type": "code",
   "execution_count": 16,
   "metadata": {},
   "outputs": [],
   "source": [
    "first_code_boot_distn = []\n",
    "for i in range(2000):\n",
    "    samp = stack_overflow.sample(frac=1,replace=True)\n",
    "    first_code_boot_distn.append((samp['age_first_code_cut']=='child').mean())"
   ]
  },
  {
   "cell_type": "code",
   "execution_count": 17,
   "metadata": {},
   "outputs": [
    {
     "data": {
      "text/plain": [
       "0.010197694695424975"
      ]
     },
     "execution_count": 17,
     "metadata": {},
     "output_type": "execute_result"
    }
   ],
   "source": [
    "std_error = np.std(first_code_boot_distn,ddof=1)\n",
    "std_error"
   ]
  },
  {
   "cell_type": "code",
   "execution_count": 18,
   "metadata": {},
   "outputs": [
    {
     "data": {
      "text/plain": [
       "4.06167541019179"
      ]
     },
     "execution_count": 18,
     "metadata": {},
     "output_type": "execute_result"
    }
   ],
   "source": [
    "z_score = (prop_child_samp - prop_child_hyp)/std_error\n",
    "z_score"
   ]
  },
  {
   "cell_type": "code",
   "execution_count": 19,
   "metadata": {},
   "outputs": [
    {
     "data": {
      "text/plain": [
       "2.436089457436008e-05"
      ]
     },
     "execution_count": 19,
     "metadata": {},
     "output_type": "execute_result"
    }
   ],
   "source": [
    "# p-value\n",
    "from scipy.stats import norm\n",
    "1 -norm.cdf(z_score,loc=0,scale=1)"
   ]
  },
  {
   "attachments": {},
   "cell_type": "markdown",
   "metadata": {},
   "source": [
    "    Conclusion:\n",
    "\n",
    "    We reject the null hypothesis. We have strong evidence for the alternative hypothesis that the proportion of data scientists that started programming as children is greater than 35 percent."
   ]
  },
  {
   "attachments": {},
   "cell_type": "markdown",
   "metadata": {},
   "source": [
    "### Confidence intervals\n",
    "\n",
    "For a significance level of $\\alpha$, it's common to choose a confidence interval level of 1-$\\alpha$\n",
    "- $\\alpha$ = 0.05 -> 95%"
   ]
  },
  {
   "cell_type": "code",
   "execution_count": 20,
   "metadata": {},
   "outputs": [
    {
     "name": "stdout",
     "output_type": "stream",
     "text": [
      "(0.3710747456877488, 0.4117647058823529)\n"
     ]
    }
   ],
   "source": [
    "import numpy as np\n",
    "\n",
    "lower = np.quantile(first_code_boot_distn,0.025)\n",
    "upper = np.quantile(first_code_boot_distn,0.975)\n",
    "print((lower,upper))"
   ]
  },
  {
   "attachments": {},
   "cell_type": "markdown",
   "metadata": {},
   "source": [
    "if the hypothesized population parameter(0.35) is within the confidence interval, you should fail to reject the null hypothesis.\n",
    "In this case, 0.35 is outside of the confidence interval[0.37,0.41],thus we should reject the null hypothesis due to large p-value."
   ]
  },
  {
   "attachments": {},
   "cell_type": "markdown",
   "metadata": {},
   "source": [
    "The confidence interval provides a range of plausible values for the population proportion of data scientists that programmed as children."
   ]
  },
  {
   "attachments": {},
   "cell_type": "markdown",
   "metadata": {},
   "source": [
    "### Types of errors\n",
    "\n",
    "- if we support the alternative hypothesis when the null hypothesis was correct, we made ***False Positive Error*** (type 1)\n",
    "- if we support the null hypothesis when the alternative was correct, we made ***False Negative Error*** (type 2)\n",
    "***\n",
    "- In the case of data scientists coding as children, if we had a p-value less than or equal to the significance level, and reject the null hypothesis, it's possible we made a false positive error. Although we thought data scientists started coding as children at a higher rate, it may not be true in the whole population.\n",
    "- Conversely, if the p-value was greater than the significance level, and we failed to reject the null hypothesis, it's possible we made a false negative error.\n"
   ]
  },
  {
   "attachments": {},
   "cell_type": "markdown",
   "metadata": {},
   "source": [
    "### Two-sample problems\n",
    "\n",
    "The hypothesis test for determining if there is a difference between the means of two populations (t-Test)\n",
    "- compare sample statistics across groups of a variable\n",
    "- converted_comp is a numerical variable\n",
    "- age_first_code_cut is a categorical variable with level('child' and 'adult')\n",
    "***\n",
    "***Hypotheses***:\n",
    "\n",
    ">H<sub>0</sub>: The mean compensation(in USD) is the ***same*** for those that coded first as a child and those that coded first as an adult: $\\mu$<sub>child</sub> = $\\mu$<sub>adult</sub>\n",
    "\n",
    ">H<sub>A</sub>: The mean compensation(in USD) is the ***greater*** for those that coded first as a child and those that coded first as an adult:$\\mu$<sub>child</sub> > $\\mu$<sub>adult</sub>"
   ]
  },
  {
   "cell_type": "code",
   "execution_count": 21,
   "metadata": {},
   "outputs": [
    {
     "data": {
      "text/plain": [
       "age_first_code_cut\n",
       "adult    111313.311047\n",
       "child    132419.570621\n",
       "Name: converted_comp, dtype: float64"
      ]
     },
     "execution_count": 21,
     "metadata": {},
     "output_type": "execute_result"
    }
   ],
   "source": [
    "# Calculating groupwise summary stats\n",
    "stack_overflow.groupby('age_first_code_cut')['converted_comp'].mean()"
   ]
  },
  {
   "attachments": {},
   "cell_type": "markdown",
   "metadata": {},
   "source": [
    "Here, the child programmers have a mean compensation of 132,000 dollars compared to around 111,000 for adult programmers. Is that increase statistically significant or could it be explained by sampling variability?\n",
    "\n",
    "- $\\bar{x}$: a sample mean\n",
    "- $\\bar{x}$<sub>child</sub>: sample mean compensation for coding first as a child\n",
    "- $\\bar{x}$<sub>adult</sub>: sample mean compensation for coding first as an adult\n",
    "- $\\bar{x}$<sub>child</sub> - $\\bar{x}$<sub>adult</sub> : a test statistic\n",
    "\n",
    "- $$Z =\\frac{sample~stat - population~parameter}{standard~error}$$\n",
    "<br/><br/>\n",
    "\n",
    "- $$t =\\frac{difference~in~sample~stats - difference~in~population~parameters}{standard~error}$$\n",
    "<br/><br/>\n",
    "\n",
    "- $$t =\\frac{(\\bar{x}_{child}- \\bar{x}_{adult}) - (\\mu_{child}- \\mu_{adult})}{SE(\\bar{x}_{child}- \\bar{x}_{adult})}$$\n",
    "<br/><br/>\n",
    "\n",
    "- $$SE{(\\bar{x}_{child}- \\bar{x}_{adult})} \\approx \\sqrt{\\frac{s^2_{child}}{n_{child}}+\\frac{s^2_{adult}}{n_{adult}}}$$ \n",
    "    - s is the standard deviation of the variable\n",
    "    - n is the sample size(number of observations/rows in sample)\n",
    "    - Using a sample standard deviation to estimate the standard error is computationally easier than using bootstrapping\n",
    "<br/><br/>\n",
    "***\n",
    "***Assuming the null hypothesis is true***\n",
    "\n",
    ">$$H_{0}: \\mu_{child} - \\mu_{adult} = 0  ~\\rightarrow~ t = \\frac{\\bar{x}_{child}-\\bar{x}_{adult}}{SE(\\bar{x}_{child}-\\bar{x}_{adult})} = \\sqrt{\\frac{s^2_{child}}{n_{child}}+\\frac{s^2_{adult}}{n_{adult}}} $$\n",
    "\n"
   ]
  },
  {
   "cell_type": "code",
   "execution_count": 22,
   "metadata": {},
   "outputs": [
    {
     "data": {
      "text/plain": [
       "age_first_code_cut\n",
       "adult    111313.311047\n",
       "child    132419.570621\n",
       "Name: converted_comp, dtype: float64"
      ]
     },
     "execution_count": 22,
     "metadata": {},
     "output_type": "execute_result"
    }
   ],
   "source": [
    "x_bar = stack_overflow.groupby('age_first_code_cut')['converted_comp'].mean()\n",
    "x_bar"
   ]
  },
  {
   "cell_type": "code",
   "execution_count": 23,
   "metadata": {},
   "outputs": [
    {
     "data": {
      "text/plain": [
       "age_first_code_cut\n",
       "adult    271546.521729\n",
       "child    255585.240115\n",
       "Name: converted_comp, dtype: float64"
      ]
     },
     "execution_count": 23,
     "metadata": {},
     "output_type": "execute_result"
    }
   ],
   "source": [
    "s = stack_overflow.groupby('age_first_code_cut')['converted_comp'].std()\n",
    "s"
   ]
  },
  {
   "cell_type": "code",
   "execution_count": 24,
   "metadata": {},
   "outputs": [
    {
     "data": {
      "text/plain": [
       "age_first_code_cut\n",
       "adult    1376\n",
       "child     885\n",
       "Name: converted_comp, dtype: int64"
      ]
     },
     "execution_count": 24,
     "metadata": {},
     "output_type": "execute_result"
    }
   ],
   "source": [
    "n = stack_overflow.groupby('age_first_code_cut')['converted_comp'].count()\n",
    "n"
   ]
  },
  {
   "cell_type": "code",
   "execution_count": 25,
   "metadata": {},
   "outputs": [
    {
     "data": {
      "text/plain": [
       "1.8699313316221844"
      ]
     },
     "execution_count": 25,
     "metadata": {},
     "output_type": "execute_result"
    }
   ],
   "source": [
    "numerator = x_bar['child'] - x_bar['adult']\n",
    "denominator = np.sqrt(s['child']**2/n['child'] + s['adult']**2/n['adult'])\n",
    "t_stat = numerator/denominator\n",
    "t_stat"
   ]
  },
  {
   "cell_type": "code",
   "execution_count": 26,
   "metadata": {},
   "outputs": [
    {
     "data": {
      "text/plain": [
       "0.030811302165157595"
      ]
     },
     "execution_count": 26,
     "metadata": {},
     "output_type": "execute_result"
    }
   ],
   "source": [
    "# Significance level\n",
    "alpha = 0.1\n",
    "\n",
    "# degrees of freedom\n",
    "dof = n['child'] + n['adult'] -2\n",
    "\n",
    "# calculate p-value\n",
    "from scipy.stats import t\n",
    "1 - t.cdf(t_stat,df = dof)"
   ]
  },
  {
   "attachments": {},
   "cell_type": "markdown",
   "metadata": {},
   "source": [
    ">***This p-value is less than the significance level of 0.1, so we should reject the null hypothesis in favor of the alternative hypothesis that Stack Overflow data scientists who started coding as children earn more.***"
   ]
  },
  {
   "cell_type": "code",
   "execution_count": null,
   "metadata": {},
   "outputs": [],
   "source": []
  },
  {
   "attachments": {},
   "cell_type": "markdown",
   "metadata": {},
   "source": [
    ">While trying to determine why some shipments are late, you may wonder if the weight of the shipments that were on time is less than the weight of the shipments that were late. \n",
    "\n",
    "***Hypotheses***:\n",
    "\n",
    ">H<sub>0</sub>: The mean weight of shipments that weren't late is the same as the mean weight of shipments that were late.\n",
    "\n",
    ">H<sub>A</sub>: The mean weight of shipments that weren't late is less than the mean weight of shipments that were late."
   ]
  },
  {
   "cell_type": "code",
   "execution_count": 27,
   "metadata": {},
   "outputs": [
    {
     "data": {
      "text/plain": [
       "late\n",
       "No     1897.791267\n",
       "Yes    2715.672131\n",
       "Name: weight_kilograms, dtype: float64"
      ]
     },
     "execution_count": 27,
     "metadata": {},
     "output_type": "execute_result"
    }
   ],
   "source": [
    "late_shipments.groupby('late')['weight_kilograms'].mean()"
   ]
  },
  {
   "cell_type": "code",
   "execution_count": 28,
   "metadata": {},
   "outputs": [],
   "source": [
    "xbar_no = late_shipments.groupby('late')['weight_kilograms'].mean()['No']\n",
    "xbar_yes = late_shipments.groupby('late')['weight_kilograms'].mean()['Yes']"
   ]
  },
  {
   "cell_type": "code",
   "execution_count": 29,
   "metadata": {},
   "outputs": [
    {
     "data": {
      "text/plain": [
       "late\n",
       "No     3154.039507\n",
       "Yes    2544.688211\n",
       "Name: weight_kilograms, dtype: float64"
      ]
     },
     "execution_count": 29,
     "metadata": {},
     "output_type": "execute_result"
    }
   ],
   "source": [
    "s = late_shipments.groupby('late')['weight_kilograms'].std()\n",
    "s"
   ]
  },
  {
   "cell_type": "code",
   "execution_count": 30,
   "metadata": {},
   "outputs": [],
   "source": [
    "n_no = late_shipments.groupby('late')['weight_kilograms'].count()['No']\n",
    "n_yes = late_shipments.groupby('late')['weight_kilograms'].count()['Yes']\n"
   ]
  },
  {
   "cell_type": "code",
   "execution_count": 31,
   "metadata": {},
   "outputs": [],
   "source": [
    "s_no = s['No']\n",
    "s_yes = s['Yes']"
   ]
  },
  {
   "cell_type": "code",
   "execution_count": 32,
   "metadata": {},
   "outputs": [
    {
     "name": "stdout",
     "output_type": "stream",
     "text": [
      "-2.473788456276661\n"
     ]
    }
   ],
   "source": [
    "numerator = xbar_no - xbar_yes\n",
    "denominator = np.sqrt(s_no**2/s_no + s_yes**2/n_yes)\n",
    "t_stat = numerator/denominator\n",
    "print(t_stat)"
   ]
  },
  {
   "attachments": {},
   "cell_type": "markdown",
   "metadata": {},
   "source": [
    "alpha = 0.05"
   ]
  },
  {
   "cell_type": "code",
   "execution_count": 33,
   "metadata": {},
   "outputs": [
    {
     "name": "stdout",
     "output_type": "stream",
     "text": [
      "0.006767173524295259\n"
     ]
    }
   ],
   "source": [
    "# Calculate the degrees of freedom\n",
    "degrees_of_freedom = n_no + n_yes - 2\n",
    "# Calculate the p-value from the test stat\n",
    "p_value = t.cdf(t_stat,df=degrees_of_freedom)\n",
    "print(p_value)"
   ]
  },
  {
   "attachments": {},
   "cell_type": "markdown",
   "metadata": {},
   "source": [
    ">***This p-value is less than the significance level of 0.05, so we should reject the null hypothesis in favor of the alternative hypothesis that the weight of shipments that weren't late is less than the mean weight of shipments that were late.***"
   ]
  },
  {
   "attachments": {},
   "cell_type": "markdown",
   "metadata": {},
   "source": [
    "***"
   ]
  },
  {
   "cell_type": "code",
   "execution_count": 34,
   "metadata": {},
   "outputs": [
    {
     "data": {
      "text/html": [
       "<div>\n",
       "<style scoped>\n",
       "    .dataframe tbody tr th:only-of-type {\n",
       "        vertical-align: middle;\n",
       "    }\n",
       "\n",
       "    .dataframe tbody tr th {\n",
       "        vertical-align: top;\n",
       "    }\n",
       "\n",
       "    .dataframe thead th {\n",
       "        text-align: right;\n",
       "    }\n",
       "</style>\n",
       "<table border=\"1\" class=\"dataframe\">\n",
       "  <thead>\n",
       "    <tr style=\"text-align: right;\">\n",
       "      <th></th>\n",
       "      <th>state</th>\n",
       "      <th>county</th>\n",
       "      <th>repub_percent_08</th>\n",
       "      <th>repub_percent_12</th>\n",
       "    </tr>\n",
       "  </thead>\n",
       "  <tbody>\n",
       "    <tr>\n",
       "      <th>0</th>\n",
       "      <td>Alabama</td>\n",
       "      <td>Hale</td>\n",
       "      <td>38.957877</td>\n",
       "      <td>37.139882</td>\n",
       "    </tr>\n",
       "    <tr>\n",
       "      <th>1</th>\n",
       "      <td>Arkansas</td>\n",
       "      <td>Nevada</td>\n",
       "      <td>56.726272</td>\n",
       "      <td>58.983452</td>\n",
       "    </tr>\n",
       "    <tr>\n",
       "      <th>2</th>\n",
       "      <td>California</td>\n",
       "      <td>Lake</td>\n",
       "      <td>38.896719</td>\n",
       "      <td>39.331367</td>\n",
       "    </tr>\n",
       "    <tr>\n",
       "      <th>3</th>\n",
       "      <td>California</td>\n",
       "      <td>Ventura</td>\n",
       "      <td>42.923190</td>\n",
       "      <td>45.250693</td>\n",
       "    </tr>\n",
       "    <tr>\n",
       "      <th>4</th>\n",
       "      <td>Colorado</td>\n",
       "      <td>Lincoln</td>\n",
       "      <td>74.522569</td>\n",
       "      <td>73.764757</td>\n",
       "    </tr>\n",
       "  </tbody>\n",
       "</table>\n",
       "</div>"
      ],
      "text/plain": [
       "        state   county  repub_percent_08  repub_percent_12\n",
       "0     Alabama     Hale         38.957877         37.139882\n",
       "1    Arkansas   Nevada         56.726272         58.983452\n",
       "2  California     Lake         38.896719         39.331367\n",
       "3  California  Ventura         42.923190         45.250693\n",
       "4    Colorado  Lincoln         74.522569         73.764757"
      ]
     },
     "execution_count": 34,
     "metadata": {},
     "output_type": "execute_result"
    }
   ],
   "source": [
    "rep_vote = pd.read_feather('data/repub_votes_potus_08_12.feather')\n",
    "rep_vote.head()"
   ]
  },
  {
   "attachments": {},
   "cell_type": "markdown",
   "metadata": {},
   "source": [
    "### Paired t-test\n",
    "    Hypotheses:\n",
    "        Question: Was the percentage of Republican candidate votes lower in 2008 than 2012?\n",
    "        \n",
    ">$H_{0}$: $\\mu_{2008}$ - $\\mu_{2012}$ = 0\n",
    "<br>\n",
    "<br>\n",
    ">$H_{A}$: $\\mu_{2008}$ - $\\mu_{2012}$ < 0\n",
    "\n",
    "- Set $\\alpha$ = 0.05 significance level\n",
    "- Data is paired $~\\rightarrow~$ each voter percentage refers to the same county, which means they aren't independent.\n",
    "    - want to capture voting patterns in model"
   ]
  },
  {
   "cell_type": "code",
   "execution_count": 35,
   "metadata": {},
   "outputs": [
    {
     "data": {
      "text/plain": [
       "<AxesSubplot: >"
      ]
     },
     "execution_count": 35,
     "metadata": {},
     "output_type": "execute_result"
    },
    {
     "data": {
      "image/png": "[encoded data removed]",
      "text/plain": [
       "<Figure size 640x480 with 1 Axes>"
      ]
     },
     "metadata": {},
     "output_type": "display_data"
    }
   ],
   "source": [
    "rep_vote['diff'] = rep_vote['repub_percent_08'] - rep_vote['repub_percent_12']\n",
    "rep_vote['diff'].hist(bins=20)"
   ]
  },
  {
   "cell_type": "code",
   "execution_count": 36,
   "metadata": {},
   "outputs": [
    {
     "data": {
      "text/plain": [
       "-2.877109041242944"
      ]
     },
     "execution_count": 36,
     "metadata": {},
     "output_type": "execute_result"
    }
   ],
   "source": [
    "xbar_diff = rep_vote['diff'].mean()\n",
    "xbar_diff"
   ]
  },
  {
   "attachments": {},
   "cell_type": "markdown",
   "metadata": {},
   "source": [
    "    New Hypotheses:\n",
    "        \n",
    ">$H_{0}$: $\\mu_{diff}$  = 0\n",
    "<br>\n",
    "<br>\n",
    ">$H_{A}$: $\\mu_{diff}$  < 0\n",
    "\n",
    "$$ t = \\frac{\\bar{x}_{diff}-\\mu_{diff}}{\\sqrt{\\frac{s^2_{diff}}{n_{diff}}}} $$\n",
    "- Assuming $H_{0}$ is true $~\\rightarrow~$ $\\mu_{diff}$ = 0\n",
    "<br>\n",
    "- We have on statistic, so the number of degrees of freedom is the number of pairs minus one\n",
    "\n",
    "- $$ df = n_{diff} -1 $$"
   ]
  },
  {
   "cell_type": "code",
   "execution_count": 37,
   "metadata": {},
   "outputs": [
    {
     "data": {
      "text/plain": [
       "100"
      ]
     },
     "execution_count": 37,
     "metadata": {},
     "output_type": "execute_result"
    }
   ],
   "source": [
    "n_diff = len(rep_vote)\n",
    "n_diff"
   ]
  },
  {
   "cell_type": "code",
   "execution_count": 38,
   "metadata": {},
   "outputs": [
    {
     "data": {
      "text/plain": [
       "5.136737887231852"
      ]
     },
     "execution_count": 38,
     "metadata": {},
     "output_type": "execute_result"
    }
   ],
   "source": [
    "s_diff = rep_vote['diff'].std()\n",
    "s_diff"
   ]
  },
  {
   "cell_type": "code",
   "execution_count": 39,
   "metadata": {},
   "outputs": [
    {
     "data": {
      "text/plain": [
       "-5.601043121928489"
      ]
     },
     "execution_count": 39,
     "metadata": {},
     "output_type": "execute_result"
    }
   ],
   "source": [
    "t_stat = (xbar_diff - 0)/np.sqrt(s_diff**2/n_diff)\n",
    "t_stat"
   ]
  },
  {
   "cell_type": "code",
   "execution_count": 40,
   "metadata": {},
   "outputs": [],
   "source": [
    "degrees_of_freedom = n_diff -1"
   ]
  },
  {
   "cell_type": "code",
   "execution_count": 41,
   "metadata": {},
   "outputs": [
    {
     "data": {
      "text/plain": [
       "9.572537285272413e-08"
      ]
     },
     "execution_count": 41,
     "metadata": {},
     "output_type": "execute_result"
    }
   ],
   "source": [
    "p_value = t.cdf(t_stat,df=degrees_of_freedom)\n",
    "p_value"
   ]
  },
  {
   "attachments": {},
   "cell_type": "markdown",
   "metadata": {},
   "source": [
    "The p-value is really small at around 9.56 x $10^{-8}$. That means we reject the null hypothesis in favor of the alternative hypothesis that the Republican candidates got a smaller percentage of the vote in 2008 compared to 2012."
   ]
  },
  {
   "cell_type": "code",
   "execution_count": 42,
   "metadata": {},
   "outputs": [
    {
     "data": {
      "text/html": [
       "<div>\n",
       "<style scoped>\n",
       "    .dataframe tbody tr th:only-of-type {\n",
       "        vertical-align: middle;\n",
       "    }\n",
       "\n",
       "    .dataframe tbody tr th {\n",
       "        vertical-align: top;\n",
       "    }\n",
       "\n",
       "    .dataframe thead th {\n",
       "        text-align: right;\n",
       "    }\n",
       "</style>\n",
       "<table border=\"1\" class=\"dataframe\">\n",
       "  <thead>\n",
       "    <tr style=\"text-align: right;\">\n",
       "      <th></th>\n",
       "      <th>T</th>\n",
       "      <th>dof</th>\n",
       "      <th>alternative</th>\n",
       "      <th>p-val</th>\n",
       "      <th>CI95%</th>\n",
       "      <th>cohen-d</th>\n",
       "      <th>BF10</th>\n",
       "      <th>power</th>\n",
       "    </tr>\n",
       "  </thead>\n",
       "  <tbody>\n",
       "    <tr>\n",
       "      <th>T-test</th>\n",
       "      <td>-5.601043</td>\n",
       "      <td>99</td>\n",
       "      <td>less</td>\n",
       "      <td>9.572537e-08</td>\n",
       "      <td>[-inf, -2.02]</td>\n",
       "      <td>0.560104</td>\n",
       "      <td>1.323e+05</td>\n",
       "      <td>1.0</td>\n",
       "    </tr>\n",
       "  </tbody>\n",
       "</table>\n",
       "</div>"
      ],
      "text/plain": [
       "               T  dof alternative         p-val          CI95%   cohen-d  \\\n",
       "T-test -5.601043   99        less  9.572537e-08  [-inf, -2.02]  0.560104   \n",
       "\n",
       "             BF10  power  \n",
       "T-test  1.323e+05    1.0  "
      ]
     },
     "execution_count": 42,
     "metadata": {},
     "output_type": "execute_result"
    }
   ],
   "source": [
    "import pingouin\n",
    "# y specifies the hypothesized difference value from the null hypothesis, which is zero\n",
    "pingouin.ttest(x = rep_vote['diff'],y=0,alternative='less')"
   ]
  },
  {
   "cell_type": "code",
   "execution_count": 43,
   "metadata": {},
   "outputs": [
    {
     "data": {
      "text/html": [
       "<div>\n",
       "<style scoped>\n",
       "    .dataframe tbody tr th:only-of-type {\n",
       "        vertical-align: middle;\n",
       "    }\n",
       "\n",
       "    .dataframe tbody tr th {\n",
       "        vertical-align: top;\n",
       "    }\n",
       "\n",
       "    .dataframe thead th {\n",
       "        text-align: right;\n",
       "    }\n",
       "</style>\n",
       "<table border=\"1\" class=\"dataframe\">\n",
       "  <thead>\n",
       "    <tr style=\"text-align: right;\">\n",
       "      <th></th>\n",
       "      <th>T</th>\n",
       "      <th>dof</th>\n",
       "      <th>alternative</th>\n",
       "      <th>p-val</th>\n",
       "      <th>CI95%</th>\n",
       "      <th>cohen-d</th>\n",
       "      <th>BF10</th>\n",
       "      <th>power</th>\n",
       "    </tr>\n",
       "  </thead>\n",
       "  <tbody>\n",
       "    <tr>\n",
       "      <th>T-test</th>\n",
       "      <td>-5.601043</td>\n",
       "      <td>99</td>\n",
       "      <td>less</td>\n",
       "      <td>9.572537e-08</td>\n",
       "      <td>[-inf, -2.02]</td>\n",
       "      <td>0.217364</td>\n",
       "      <td>1.323e+05</td>\n",
       "      <td>0.696338</td>\n",
       "    </tr>\n",
       "  </tbody>\n",
       "</table>\n",
       "</div>"
      ],
      "text/plain": [
       "               T  dof alternative         p-val          CI95%   cohen-d  \\\n",
       "T-test -5.601043   99        less  9.572537e-08  [-inf, -2.02]  0.217364   \n",
       "\n",
       "             BF10     power  \n",
       "T-test  1.323e+05  0.696338  "
      ]
     },
     "execution_count": 43,
     "metadata": {},
     "output_type": "execute_result"
    }
   ],
   "source": [
    "pingouin.ttest(x=rep_vote['repub_percent_08'],\n",
    "               y=rep_vote['repub_percent_12'], \n",
    "               paired=True, \n",
    "               alternative='less')"
   ]
  },
  {
   "cell_type": "code",
   "execution_count": 44,
   "metadata": {},
   "outputs": [
    {
     "data": {
      "text/html": [
       "<div>\n",
       "<style scoped>\n",
       "    .dataframe tbody tr th:only-of-type {\n",
       "        vertical-align: middle;\n",
       "    }\n",
       "\n",
       "    .dataframe tbody tr th {\n",
       "        vertical-align: top;\n",
       "    }\n",
       "\n",
       "    .dataframe thead th {\n",
       "        text-align: right;\n",
       "    }\n",
       "</style>\n",
       "<table border=\"1\" class=\"dataframe\">\n",
       "  <thead>\n",
       "    <tr style=\"text-align: right;\">\n",
       "      <th></th>\n",
       "      <th>T</th>\n",
       "      <th>dof</th>\n",
       "      <th>alternative</th>\n",
       "      <th>p-val</th>\n",
       "      <th>CI95%</th>\n",
       "      <th>cohen-d</th>\n",
       "      <th>BF10</th>\n",
       "      <th>power</th>\n",
       "    </tr>\n",
       "  </thead>\n",
       "  <tbody>\n",
       "    <tr>\n",
       "      <th>T-test</th>\n",
       "      <td>-1.536997</td>\n",
       "      <td>198</td>\n",
       "      <td>less</td>\n",
       "      <td>0.062945</td>\n",
       "      <td>[-inf, 0.22]</td>\n",
       "      <td>0.217364</td>\n",
       "      <td>0.927</td>\n",
       "      <td>0.454972</td>\n",
       "    </tr>\n",
       "  </tbody>\n",
       "</table>\n",
       "</div>"
      ],
      "text/plain": [
       "               T  dof alternative     p-val         CI95%   cohen-d   BF10  \\\n",
       "T-test -1.536997  198        less  0.062945  [-inf, 0.22]  0.217364  0.927   \n",
       "\n",
       "           power  \n",
       "T-test  0.454972  "
      ]
     },
     "execution_count": 44,
     "metadata": {},
     "output_type": "execute_result"
    }
   ],
   "source": [
    "# unpaired ttest\n",
    "pingouin.ttest(x=rep_vote['repub_percent_08'],\n",
    "               y=rep_vote['repub_percent_12'], \n",
    "               alternative='less')"
   ]
  },
  {
   "attachments": {},
   "cell_type": "markdown",
   "metadata": {},
   "source": [
    "    When you have paired data, a paired t-test is preferable to the unpaired version because it reduces the chance of a false negative error."
   ]
  },
  {
   "attachments": {},
   "cell_type": "markdown",
   "metadata": {},
   "source": [
    "***"
   ]
  },
  {
   "cell_type": "code",
   "execution_count": 45,
   "metadata": {},
   "outputs": [
    {
     "data": {
      "text/plain": [
       "Very satisfied           879\n",
       "Slightly satisfied       680\n",
       "Slightly dissatisfied    342\n",
       "Neither                  201\n",
       "Very dissatisfied        159\n",
       "Name: job_sat, dtype: int64"
      ]
     },
     "execution_count": 45,
     "metadata": {},
     "output_type": "execute_result"
    }
   ],
   "source": [
    "stack_overflow['job_sat'].value_counts()"
   ]
  },
  {
   "attachments": {},
   "cell_type": "markdown",
   "metadata": {},
   "source": [
    "> Is mean annual compensation different for different levels of job satisfaction?"
   ]
  },
  {
   "cell_type": "code",
   "execution_count": 46,
   "metadata": {},
   "outputs": [
    {
     "data": {
      "image/png": "[encoded data removed]",
      "text/plain": [
       "<Figure size 640x480 with 1 Axes>"
      ]
     },
     "metadata": {},
     "output_type": "display_data"
    }
   ],
   "source": [
    "import seaborn as sns\n",
    "sns.boxplot(x='converted_comp',y='job_sat',data=stack_overflow)\n",
    "plt.show()"
   ]
  },
  {
   "attachments": {},
   "cell_type": "markdown",
   "metadata": {},
   "source": [
    "### Analysis of variance (ANAOVA)\n",
    "\n",
    "So far in this chapter, we've only considered the case of differences in a numeric variable between two categories. Of course, many datasets contain more categories. Before you get to conducting tests on many categories, it's often helpful to perform exploratory data analysis (EDA), calculating summary statistics for each group and visualizing the distributions of the numeric variable for each category using box plots.\n",
    "\n",
    "\n",
    "- A test for differences between groups"
   ]
  },
  {
   "cell_type": "code",
   "execution_count": 47,
   "metadata": {},
   "outputs": [],
   "source": [
    "alpha = 0.2"
   ]
  },
  {
   "cell_type": "code",
   "execution_count": 48,
   "metadata": {},
   "outputs": [
    {
     "data": {
      "text/html": [
       "<div>\n",
       "<style scoped>\n",
       "    .dataframe tbody tr th:only-of-type {\n",
       "        vertical-align: middle;\n",
       "    }\n",
       "\n",
       "    .dataframe tbody tr th {\n",
       "        vertical-align: top;\n",
       "    }\n",
       "\n",
       "    .dataframe thead th {\n",
       "        text-align: right;\n",
       "    }\n",
       "</style>\n",
       "<table border=\"1\" class=\"dataframe\">\n",
       "  <thead>\n",
       "    <tr style=\"text-align: right;\">\n",
       "      <th></th>\n",
       "      <th>Source</th>\n",
       "      <th>ddof1</th>\n",
       "      <th>ddof2</th>\n",
       "      <th>F</th>\n",
       "      <th>p-unc</th>\n",
       "      <th>np2</th>\n",
       "    </tr>\n",
       "  </thead>\n",
       "  <tbody>\n",
       "    <tr>\n",
       "      <th>0</th>\n",
       "      <td>job_sat</td>\n",
       "      <td>4</td>\n",
       "      <td>2256</td>\n",
       "      <td>4.480485</td>\n",
       "      <td>0.001315</td>\n",
       "      <td>0.007882</td>\n",
       "    </tr>\n",
       "  </tbody>\n",
       "</table>\n",
       "</div>"
      ],
      "text/plain": [
       "    Source  ddof1  ddof2         F     p-unc       np2\n",
       "0  job_sat      4   2256  4.480485  0.001315  0.007882"
      ]
     },
     "execution_count": 48,
     "metadata": {},
     "output_type": "execute_result"
    }
   ],
   "source": [
    "pingouin.anova(data=stack_overflow,dv='converted_comp',between='job_sat')"
   ]
  },
  {
   "attachments": {},
   "cell_type": "markdown",
   "metadata": {},
   "source": [
    "- 0.001315 < $\\alpha$ \n",
    "- At least two categories have significantly different compensation\n",
    "- But doesn't tell us which two categories they are"
   ]
  },
  {
   "attachments": {},
   "cell_type": "markdown",
   "metadata": {},
   "source": [
    "### pairwise_tests()\n",
    "- to run all these hypothesis tests in one go, we can use pairwise_tests"
   ]
  },
  {
   "cell_type": "code",
   "execution_count": 49,
   "metadata": {},
   "outputs": [
    {
     "data": {
      "text/html": [
       "<div>\n",
       "<style scoped>\n",
       "    .dataframe tbody tr th:only-of-type {\n",
       "        vertical-align: middle;\n",
       "    }\n",
       "\n",
       "    .dataframe tbody tr th {\n",
       "        vertical-align: top;\n",
       "    }\n",
       "\n",
       "    .dataframe thead th {\n",
       "        text-align: right;\n",
       "    }\n",
       "</style>\n",
       "<table border=\"1\" class=\"dataframe\">\n",
       "  <thead>\n",
       "    <tr style=\"text-align: right;\">\n",
       "      <th></th>\n",
       "      <th>Contrast</th>\n",
       "      <th>A</th>\n",
       "      <th>B</th>\n",
       "      <th>Paired</th>\n",
       "      <th>Parametric</th>\n",
       "      <th>T</th>\n",
       "      <th>dof</th>\n",
       "      <th>alternative</th>\n",
       "      <th>p-unc</th>\n",
       "      <th>BF10</th>\n",
       "      <th>hedges</th>\n",
       "    </tr>\n",
       "  </thead>\n",
       "  <tbody>\n",
       "    <tr>\n",
       "      <th>0</th>\n",
       "      <td>job_sat</td>\n",
       "      <td>Slightly satisfied</td>\n",
       "      <td>Very satisfied</td>\n",
       "      <td>False</td>\n",
       "      <td>True</td>\n",
       "      <td>-4.009935</td>\n",
       "      <td>1478.622799</td>\n",
       "      <td>two-sided</td>\n",
       "      <td>0.000064</td>\n",
       "      <td>158.564</td>\n",
       "      <td>-0.192931</td>\n",
       "    </tr>\n",
       "    <tr>\n",
       "      <th>1</th>\n",
       "      <td>job_sat</td>\n",
       "      <td>Slightly satisfied</td>\n",
       "      <td>Neither</td>\n",
       "      <td>False</td>\n",
       "      <td>True</td>\n",
       "      <td>-0.700752</td>\n",
       "      <td>258.204546</td>\n",
       "      <td>two-sided</td>\n",
       "      <td>0.484088</td>\n",
       "      <td>0.114</td>\n",
       "      <td>-0.068513</td>\n",
       "    </tr>\n",
       "    <tr>\n",
       "      <th>2</th>\n",
       "      <td>job_sat</td>\n",
       "      <td>Slightly satisfied</td>\n",
       "      <td>Very dissatisfied</td>\n",
       "      <td>False</td>\n",
       "      <td>True</td>\n",
       "      <td>-1.243665</td>\n",
       "      <td>187.153329</td>\n",
       "      <td>two-sided</td>\n",
       "      <td>0.215179</td>\n",
       "      <td>0.208</td>\n",
       "      <td>-0.145624</td>\n",
       "    </tr>\n",
       "    <tr>\n",
       "      <th>3</th>\n",
       "      <td>job_sat</td>\n",
       "      <td>Slightly satisfied</td>\n",
       "      <td>Slightly dissatisfied</td>\n",
       "      <td>False</td>\n",
       "      <td>True</td>\n",
       "      <td>-0.038264</td>\n",
       "      <td>569.926329</td>\n",
       "      <td>two-sided</td>\n",
       "      <td>0.969491</td>\n",
       "      <td>0.074</td>\n",
       "      <td>-0.002719</td>\n",
       "    </tr>\n",
       "    <tr>\n",
       "      <th>4</th>\n",
       "      <td>job_sat</td>\n",
       "      <td>Very satisfied</td>\n",
       "      <td>Neither</td>\n",
       "      <td>False</td>\n",
       "      <td>True</td>\n",
       "      <td>1.662901</td>\n",
       "      <td>328.326639</td>\n",
       "      <td>two-sided</td>\n",
       "      <td>0.097286</td>\n",
       "      <td>0.337</td>\n",
       "      <td>0.120115</td>\n",
       "    </tr>\n",
       "    <tr>\n",
       "      <th>5</th>\n",
       "      <td>job_sat</td>\n",
       "      <td>Very satisfied</td>\n",
       "      <td>Very dissatisfied</td>\n",
       "      <td>False</td>\n",
       "      <td>True</td>\n",
       "      <td>0.747379</td>\n",
       "      <td>221.666205</td>\n",
       "      <td>two-sided</td>\n",
       "      <td>0.455627</td>\n",
       "      <td>0.126</td>\n",
       "      <td>0.063479</td>\n",
       "    </tr>\n",
       "    <tr>\n",
       "      <th>6</th>\n",
       "      <td>job_sat</td>\n",
       "      <td>Very satisfied</td>\n",
       "      <td>Slightly dissatisfied</td>\n",
       "      <td>False</td>\n",
       "      <td>True</td>\n",
       "      <td>3.076222</td>\n",
       "      <td>821.303063</td>\n",
       "      <td>two-sided</td>\n",
       "      <td>0.002166</td>\n",
       "      <td>7.43</td>\n",
       "      <td>0.173247</td>\n",
       "    </tr>\n",
       "    <tr>\n",
       "      <th>7</th>\n",
       "      <td>job_sat</td>\n",
       "      <td>Neither</td>\n",
       "      <td>Very dissatisfied</td>\n",
       "      <td>False</td>\n",
       "      <td>True</td>\n",
       "      <td>-0.545948</td>\n",
       "      <td>321.165726</td>\n",
       "      <td>two-sided</td>\n",
       "      <td>0.585481</td>\n",
       "      <td>0.135</td>\n",
       "      <td>-0.058537</td>\n",
       "    </tr>\n",
       "    <tr>\n",
       "      <th>8</th>\n",
       "      <td>job_sat</td>\n",
       "      <td>Neither</td>\n",
       "      <td>Slightly dissatisfied</td>\n",
       "      <td>False</td>\n",
       "      <td>True</td>\n",
       "      <td>0.602209</td>\n",
       "      <td>367.730081</td>\n",
       "      <td>two-sided</td>\n",
       "      <td>0.547406</td>\n",
       "      <td>0.118</td>\n",
       "      <td>0.055707</td>\n",
       "    </tr>\n",
       "    <tr>\n",
       "      <th>9</th>\n",
       "      <td>job_sat</td>\n",
       "      <td>Very dissatisfied</td>\n",
       "      <td>Slightly dissatisfied</td>\n",
       "      <td>False</td>\n",
       "      <td>True</td>\n",
       "      <td>1.129951</td>\n",
       "      <td>247.570187</td>\n",
       "      <td>two-sided</td>\n",
       "      <td>0.259590</td>\n",
       "      <td>0.197</td>\n",
       "      <td>0.119131</td>\n",
       "    </tr>\n",
       "  </tbody>\n",
       "</table>\n",
       "</div>"
      ],
      "text/plain": [
       "  Contrast                   A                      B  Paired  Parametric  \\\n",
       "0  job_sat  Slightly satisfied         Very satisfied   False        True   \n",
       "1  job_sat  Slightly satisfied                Neither   False        True   \n",
       "2  job_sat  Slightly satisfied      Very dissatisfied   False        True   \n",
       "3  job_sat  Slightly satisfied  Slightly dissatisfied   False        True   \n",
       "4  job_sat      Very satisfied                Neither   False        True   \n",
       "5  job_sat      Very satisfied      Very dissatisfied   False        True   \n",
       "6  job_sat      Very satisfied  Slightly dissatisfied   False        True   \n",
       "7  job_sat             Neither      Very dissatisfied   False        True   \n",
       "8  job_sat             Neither  Slightly dissatisfied   False        True   \n",
       "9  job_sat   Very dissatisfied  Slightly dissatisfied   False        True   \n",
       "\n",
       "          T          dof alternative     p-unc     BF10    hedges  \n",
       "0 -4.009935  1478.622799   two-sided  0.000064  158.564 -0.192931  \n",
       "1 -0.700752   258.204546   two-sided  0.484088    0.114 -0.068513  \n",
       "2 -1.243665   187.153329   two-sided  0.215179    0.208 -0.145624  \n",
       "3 -0.038264   569.926329   two-sided  0.969491    0.074 -0.002719  \n",
       "4  1.662901   328.326639   two-sided  0.097286    0.337  0.120115  \n",
       "5  0.747379   221.666205   two-sided  0.455627    0.126  0.063479  \n",
       "6  3.076222   821.303063   two-sided  0.002166     7.43  0.173247  \n",
       "7 -0.545948   321.165726   two-sided  0.585481    0.135 -0.058537  \n",
       "8  0.602209   367.730081   two-sided  0.547406    0.118  0.055707  \n",
       "9  1.129951   247.570187   two-sided  0.259590    0.197  0.119131  "
      ]
     },
     "execution_count": 49,
     "metadata": {},
     "output_type": "execute_result"
    }
   ],
   "source": [
    "pingouin.pairwise_tests(data=stack_overflow, \n",
    "                        dv='converted_comp', \n",
    "                        between = 'job_sat', \n",
    "                        padjust = 'none')"
   ]
  },
  {
   "attachments": {},
   "cell_type": "markdown",
   "metadata": {},
   "source": [
    "Looking at p-unc column, three of these are less than our significance level of 0.2"
   ]
  },
  {
   "attachments": {},
   "cell_type": "markdown",
   "metadata": {},
   "source": [
    "As the number of groups increases, the more tests we run, the higher the chance that at least one of them will give a false positive significant result."
   ]
  },
  {
   "attachments": {},
   "cell_type": "markdown",
   "metadata": {},
   "source": [
    "### Bonferroni correction"
   ]
  },
  {
   "cell_type": "code",
   "execution_count": 50,
   "metadata": {},
   "outputs": [
    {
     "data": {
      "text/html": [
       "<div>\n",
       "<style scoped>\n",
       "    .dataframe tbody tr th:only-of-type {\n",
       "        vertical-align: middle;\n",
       "    }\n",
       "\n",
       "    .dataframe tbody tr th {\n",
       "        vertical-align: top;\n",
       "    }\n",
       "\n",
       "    .dataframe thead th {\n",
       "        text-align: right;\n",
       "    }\n",
       "</style>\n",
       "<table border=\"1\" class=\"dataframe\">\n",
       "  <thead>\n",
       "    <tr style=\"text-align: right;\">\n",
       "      <th></th>\n",
       "      <th>Contrast</th>\n",
       "      <th>A</th>\n",
       "      <th>B</th>\n",
       "      <th>Paired</th>\n",
       "      <th>Parametric</th>\n",
       "      <th>T</th>\n",
       "      <th>dof</th>\n",
       "      <th>alternative</th>\n",
       "      <th>p-unc</th>\n",
       "      <th>p-corr</th>\n",
       "      <th>p-adjust</th>\n",
       "      <th>BF10</th>\n",
       "      <th>hedges</th>\n",
       "    </tr>\n",
       "  </thead>\n",
       "  <tbody>\n",
       "    <tr>\n",
       "      <th>0</th>\n",
       "      <td>job_sat</td>\n",
       "      <td>Slightly satisfied</td>\n",
       "      <td>Very satisfied</td>\n",
       "      <td>False</td>\n",
       "      <td>True</td>\n",
       "      <td>-4.009935</td>\n",
       "      <td>1478.622799</td>\n",
       "      <td>two-sided</td>\n",
       "      <td>0.000064</td>\n",
       "      <td>0.000638</td>\n",
       "      <td>bonf</td>\n",
       "      <td>158.564</td>\n",
       "      <td>-0.192931</td>\n",
       "    </tr>\n",
       "    <tr>\n",
       "      <th>1</th>\n",
       "      <td>job_sat</td>\n",
       "      <td>Slightly satisfied</td>\n",
       "      <td>Neither</td>\n",
       "      <td>False</td>\n",
       "      <td>True</td>\n",
       "      <td>-0.700752</td>\n",
       "      <td>258.204546</td>\n",
       "      <td>two-sided</td>\n",
       "      <td>0.484088</td>\n",
       "      <td>1.000000</td>\n",
       "      <td>bonf</td>\n",
       "      <td>0.114</td>\n",
       "      <td>-0.068513</td>\n",
       "    </tr>\n",
       "    <tr>\n",
       "      <th>2</th>\n",
       "      <td>job_sat</td>\n",
       "      <td>Slightly satisfied</td>\n",
       "      <td>Very dissatisfied</td>\n",
       "      <td>False</td>\n",
       "      <td>True</td>\n",
       "      <td>-1.243665</td>\n",
       "      <td>187.153329</td>\n",
       "      <td>two-sided</td>\n",
       "      <td>0.215179</td>\n",
       "      <td>1.000000</td>\n",
       "      <td>bonf</td>\n",
       "      <td>0.208</td>\n",
       "      <td>-0.145624</td>\n",
       "    </tr>\n",
       "    <tr>\n",
       "      <th>3</th>\n",
       "      <td>job_sat</td>\n",
       "      <td>Slightly satisfied</td>\n",
       "      <td>Slightly dissatisfied</td>\n",
       "      <td>False</td>\n",
       "      <td>True</td>\n",
       "      <td>-0.038264</td>\n",
       "      <td>569.926329</td>\n",
       "      <td>two-sided</td>\n",
       "      <td>0.969491</td>\n",
       "      <td>1.000000</td>\n",
       "      <td>bonf</td>\n",
       "      <td>0.074</td>\n",
       "      <td>-0.002719</td>\n",
       "    </tr>\n",
       "    <tr>\n",
       "      <th>4</th>\n",
       "      <td>job_sat</td>\n",
       "      <td>Very satisfied</td>\n",
       "      <td>Neither</td>\n",
       "      <td>False</td>\n",
       "      <td>True</td>\n",
       "      <td>1.662901</td>\n",
       "      <td>328.326639</td>\n",
       "      <td>two-sided</td>\n",
       "      <td>0.097286</td>\n",
       "      <td>0.972864</td>\n",
       "      <td>bonf</td>\n",
       "      <td>0.337</td>\n",
       "      <td>0.120115</td>\n",
       "    </tr>\n",
       "    <tr>\n",
       "      <th>5</th>\n",
       "      <td>job_sat</td>\n",
       "      <td>Very satisfied</td>\n",
       "      <td>Very dissatisfied</td>\n",
       "      <td>False</td>\n",
       "      <td>True</td>\n",
       "      <td>0.747379</td>\n",
       "      <td>221.666205</td>\n",
       "      <td>two-sided</td>\n",
       "      <td>0.455627</td>\n",
       "      <td>1.000000</td>\n",
       "      <td>bonf</td>\n",
       "      <td>0.126</td>\n",
       "      <td>0.063479</td>\n",
       "    </tr>\n",
       "    <tr>\n",
       "      <th>6</th>\n",
       "      <td>job_sat</td>\n",
       "      <td>Very satisfied</td>\n",
       "      <td>Slightly dissatisfied</td>\n",
       "      <td>False</td>\n",
       "      <td>True</td>\n",
       "      <td>3.076222</td>\n",
       "      <td>821.303063</td>\n",
       "      <td>two-sided</td>\n",
       "      <td>0.002166</td>\n",
       "      <td>0.021659</td>\n",
       "      <td>bonf</td>\n",
       "      <td>7.43</td>\n",
       "      <td>0.173247</td>\n",
       "    </tr>\n",
       "    <tr>\n",
       "      <th>7</th>\n",
       "      <td>job_sat</td>\n",
       "      <td>Neither</td>\n",
       "      <td>Very dissatisfied</td>\n",
       "      <td>False</td>\n",
       "      <td>True</td>\n",
       "      <td>-0.545948</td>\n",
       "      <td>321.165726</td>\n",
       "      <td>two-sided</td>\n",
       "      <td>0.585481</td>\n",
       "      <td>1.000000</td>\n",
       "      <td>bonf</td>\n",
       "      <td>0.135</td>\n",
       "      <td>-0.058537</td>\n",
       "    </tr>\n",
       "    <tr>\n",
       "      <th>8</th>\n",
       "      <td>job_sat</td>\n",
       "      <td>Neither</td>\n",
       "      <td>Slightly dissatisfied</td>\n",
       "      <td>False</td>\n",
       "      <td>True</td>\n",
       "      <td>0.602209</td>\n",
       "      <td>367.730081</td>\n",
       "      <td>two-sided</td>\n",
       "      <td>0.547406</td>\n",
       "      <td>1.000000</td>\n",
       "      <td>bonf</td>\n",
       "      <td>0.118</td>\n",
       "      <td>0.055707</td>\n",
       "    </tr>\n",
       "    <tr>\n",
       "      <th>9</th>\n",
       "      <td>job_sat</td>\n",
       "      <td>Very dissatisfied</td>\n",
       "      <td>Slightly dissatisfied</td>\n",
       "      <td>False</td>\n",
       "      <td>True</td>\n",
       "      <td>1.129951</td>\n",
       "      <td>247.570187</td>\n",
       "      <td>two-sided</td>\n",
       "      <td>0.259590</td>\n",
       "      <td>1.000000</td>\n",
       "      <td>bonf</td>\n",
       "      <td>0.197</td>\n",
       "      <td>0.119131</td>\n",
       "    </tr>\n",
       "  </tbody>\n",
       "</table>\n",
       "</div>"
      ],
      "text/plain": [
       "  Contrast                   A                      B  Paired  Parametric  \\\n",
       "0  job_sat  Slightly satisfied         Very satisfied   False        True   \n",
       "1  job_sat  Slightly satisfied                Neither   False        True   \n",
       "2  job_sat  Slightly satisfied      Very dissatisfied   False        True   \n",
       "3  job_sat  Slightly satisfied  Slightly dissatisfied   False        True   \n",
       "4  job_sat      Very satisfied                Neither   False        True   \n",
       "5  job_sat      Very satisfied      Very dissatisfied   False        True   \n",
       "6  job_sat      Very satisfied  Slightly dissatisfied   False        True   \n",
       "7  job_sat             Neither      Very dissatisfied   False        True   \n",
       "8  job_sat             Neither  Slightly dissatisfied   False        True   \n",
       "9  job_sat   Very dissatisfied  Slightly dissatisfied   False        True   \n",
       "\n",
       "          T          dof alternative     p-unc    p-corr p-adjust     BF10  \\\n",
       "0 -4.009935  1478.622799   two-sided  0.000064  0.000638     bonf  158.564   \n",
       "1 -0.700752   258.204546   two-sided  0.484088  1.000000     bonf    0.114   \n",
       "2 -1.243665   187.153329   two-sided  0.215179  1.000000     bonf    0.208   \n",
       "3 -0.038264   569.926329   two-sided  0.969491  1.000000     bonf    0.074   \n",
       "4  1.662901   328.326639   two-sided  0.097286  0.972864     bonf    0.337   \n",
       "5  0.747379   221.666205   two-sided  0.455627  1.000000     bonf    0.126   \n",
       "6  3.076222   821.303063   two-sided  0.002166  0.021659     bonf     7.43   \n",
       "7 -0.545948   321.165726   two-sided  0.585481  1.000000     bonf    0.135   \n",
       "8  0.602209   367.730081   two-sided  0.547406  1.000000     bonf    0.118   \n",
       "9  1.129951   247.570187   two-sided  0.259590  1.000000     bonf    0.197   \n",
       "\n",
       "     hedges  \n",
       "0 -0.192931  \n",
       "1 -0.068513  \n",
       "2 -0.145624  \n",
       "3 -0.002719  \n",
       "4  0.120115  \n",
       "5  0.063479  \n",
       "6  0.173247  \n",
       "7 -0.058537  \n",
       "8  0.055707  \n",
       "9  0.119131  "
      ]
     },
     "execution_count": 50,
     "metadata": {},
     "output_type": "execute_result"
    }
   ],
   "source": [
    "pingouin.pairwise_tests(data=stack_overflow, \n",
    "                        dv='converted_comp', \n",
    "                        between = 'job_sat', \n",
    "                        padjust = 'bonf')"
   ]
  },
  {
   "attachments": {},
   "cell_type": "markdown",
   "metadata": {},
   "source": [
    "Looking at the p-corr column corresponding to corrected p-values, as opposed to the p-unc column for uncorrected, only two of the pairs appear to have significant differences."
   ]
  },
  {
   "cell_type": "code",
   "execution_count": 51,
   "metadata": {},
   "outputs": [
    {
     "name": "stdout",
     "output_type": "stream",
     "text": [
      "shipment_mode\n",
      "Air            39.712395\n",
      "Air Charter     4.226667\n",
      "Ocean           6.432273\n",
      "Name: pack_price, dtype: float64\n",
      "shipment_mode\n",
      "Air            48.932861\n",
      "Air Charter     0.992969\n",
      "Ocean           5.303047\n",
      "Name: pack_price, dtype: float64\n"
     ]
    }
   ],
   "source": [
    "# Calculate the mean pack_price for each shipment_mode\n",
    "xbar_pack_by_mode = late_shipments.groupby('shipment_mode')['pack_price'].mean()\n",
    "\n",
    "# Print the grouped means\n",
    "print(xbar_pack_by_mode)\n",
    "\n",
    "# Calculate the standard deviation of the pack_price for each shipment_mode\n",
    "s_pack_by_mode = late_shipments.groupby(\"shipment_mode\")['pack_price'].std()\n",
    "print(s_pack_by_mode)"
   ]
  },
  {
   "cell_type": "code",
   "execution_count": 52,
   "metadata": {},
   "outputs": [
    {
     "data": {
      "image/png": "[encoded data removed]",
      "text/plain": [
       "<Figure size 640x480 with 1 Axes>"
      ]
     },
     "metadata": {},
     "output_type": "display_data"
    }
   ],
   "source": [
    "# Boxplot of shipment_mode vs. pack_price\n",
    "sns.boxplot(x='pack_price',y='shipment_mode',data=late_shipments)\n",
    "plt.show()"
   ]
  },
  {
   "attachments": {},
   "cell_type": "markdown",
   "metadata": {},
   "source": [
    "    There certainly looks to be a difference in the pack price between each of the three shipment modes. Do you think the differences are statistically significant?"
   ]
  },
  {
   "attachments": {},
   "cell_type": "markdown",
   "metadata": {},
   "source": [
    ">$H_{0}$: Pack prices for every category of shipment mode are the same.\n",
    "<br>\n",
    "<br>\n",
    ">$H_{A}$: Pack prices for some categories of shipment mode are different."
   ]
  },
  {
   "cell_type": "code",
   "execution_count": 53,
   "metadata": {},
   "outputs": [
    {
     "name": "stdout",
     "output_type": "stream",
     "text": [
      "          Source  ddof1  ddof2        F         p-unc       np2\n",
      "0  shipment_mode      2    997  21.8646  5.089479e-10  0.042018\n"
     ]
    }
   ],
   "source": [
    "alpha = 0.1\n",
    "# Run an ANOVA for pack_price across shipment_mode\n",
    "anova_results = pingouin.anova(data=late_shipments,dv='pack_price',between='shipment_mode') #dv: dependent variable\n",
    "\n",
    "# Print anova_results\n",
    "print(anova_results)"
   ]
  },
  {
   "attachments": {},
   "cell_type": "markdown",
   "metadata": {},
   "source": [
    "    There is a significant difference in pack prices between the shipment modes. However, we don't know which shipment modes this applies to.\n",
    "\n",
    "    The ANOVA test didn't tell you which categories of shipment mode had significant differences in pack prices. To pinpoint which categories had differences, you could instead use pairwise t-tests."
   ]
  },
  {
   "cell_type": "code",
   "execution_count": 54,
   "metadata": {},
   "outputs": [
    {
     "name": "stdout",
     "output_type": "stream",
     "text": [
      "        Contrast            A            B  Paired  Parametric          T  \\\n",
      "0  shipment_mode          Air  Air Charter   False        True  21.179625   \n",
      "1  shipment_mode          Air        Ocean   False        True  19.335760   \n",
      "2  shipment_mode  Air Charter        Ocean   False        True  -3.170654   \n",
      "\n",
      "          dof alternative         p-unc        p-corr p-adjust       BF10  \\\n",
      "0  600.685682   two-sided  8.748346e-75  2.624504e-74     bonf  5.809e+76   \n",
      "1  986.979785   two-sided  6.934555e-71  2.080367e-70     bonf  1.129e+67   \n",
      "2   35.615026   two-sided  3.123012e-03  9.369037e-03     bonf     15.277   \n",
      "\n",
      "     hedges  \n",
      "0  0.726592  \n",
      "1  0.711119  \n",
      "2 -0.423775  \n"
     ]
    }
   ],
   "source": [
    "pairwise_results = pingouin.pairwise_tests(data=late_shipments, \n",
    "                                           dv=\"pack_price\",\n",
    "                                           between=\"shipment_mode\",\n",
    "                                           padjust=\"bonf\")\n",
    "\n",
    "# Print pairwise_results\n",
    "print(pairwise_results)"
   ]
  },
  {
   "attachments": {},
   "cell_type": "markdown",
   "metadata": {},
   "source": [
    "    After applying the Bonferroni adjustment, the p-values for the t-tests between each of the three groups are all less than 0.1."
   ]
  },
  {
   "attachments": {},
   "cell_type": "markdown",
   "metadata": {},
   "source": [
    "****\n",
    "### Using Z-score for test for single proportions\n",
    "\n",
    "$$z=\\frac{\\hat{p}-p_{0}}{\\sqrt{\\frac{p_{0}*(1-p_{0})}{n}}}$$"
   ]
  },
  {
   "cell_type": "code",
   "execution_count": 55,
   "metadata": {},
   "outputs": [
    {
     "name": "stdout",
     "output_type": "stream",
     "text": [
      "0.44703503936503364\n"
     ]
    }
   ],
   "source": [
    "# Hypothesize that the proportion of late shipments is 6%\n",
    "p_0 = 0.06\n",
    "\n",
    "# Calculate the sample proportion of late shipments\n",
    "p_hat = (late_shipments['late'] == \"Yes\").mean()\n",
    "\n",
    "# Calculate the sample size\n",
    "n = len(late_shipments)\n",
    "\n",
    "# Calculate the numerator and denominator of the test statistic\n",
    "numerator = p_hat - p_0\n",
    "denominator = np.sqrt(p_0 * (1 - p_0) / n)\n",
    "\n",
    "# Calculate the test statistic\n",
    "z_score = numerator / denominator\n",
    "\n",
    "# Calculate the p-value from the z-score\n",
    "p_value = 1-norm.cdf(z_score,loc=0,scale=1)\n",
    "\n",
    "# Print the p-value\n",
    "print(p_value)"
   ]
  },
  {
   "attachments": {},
   "cell_type": "markdown",
   "metadata": {},
   "source": [
    "    While bootstrapping can be used to estimate the standard error of any statistic, it is computationally intensive. For proportions, using a simple equation of the hypothesized proportion and sample size is easier to compute."
   ]
  },
  {
   "attachments": {},
   "cell_type": "markdown",
   "metadata": {},
   "source": [
    "### Comparing two proportions\n",
    "$H_{0}$: Proportion of hobbist user is the same for those under thirty as those at least thirty\n",
    "<br>\n",
    "$H_{0}$: $p_{\\ge30}$ - $p_{<30}$ = 0\n",
    "<br>\n",
    "<br>\n",
    "$H_{A}$: Proportion of hobbist user is different for those under thirty to those at least thirty\n",
    "<br>\n",
    "$H_{A}$: $p_{\\ge30}$ - $p_{<30}$ $\\neq$ 0\n",
    "<br>\n",
    "<br>\n",
    "- z-score equation for a proportion test:\n",
    "$$ z = \\frac{(\\hat{p}_{\\ge30}-\\hat{p}_{<30})-0}{SE(\\hat{p}_{\\ge30}-\\hat{p}_{<30})}$$\n",
    "\n",
    "- Standard error equation:\n",
    "$$ SE(\\hat{p}_{\\ge30}-\\hat{p}_{<30}) = \\sqrt{\\frac{\\hat{p}*(1-\\hat{p})}{n_{\\ge30}}+\\frac{\\hat{p}*(1-\\hat{p})}{n_{<30}}}$$\n",
    "\n",
    "- $\\hat{p}~~$ $\\rightarrow~~$ weighted mean of $\\hat{p}_{\\ge30}$ and $\\hat{p}_{<30}$:\n",
    "$$ \\hat{p} = \\frac{n_{\\ge30}*\\hat{p}_{\\ge30} + n_{<30}*\\hat{p}_{<30}}{n_{\\ge30} + n_{<30}}"
   ]
  },
  {
   "cell_type": "code",
   "execution_count": 56,
   "metadata": {},
   "outputs": [
    {
     "data": {
      "text/plain": [
       "age_cat      hobbyist\n",
       "At least 30  Yes         0.773333\n",
       "             No          0.226667\n",
       "Under 30     Yes         0.843105\n",
       "             No          0.156895\n",
       "Name: hobbyist, dtype: float64"
      ]
     },
     "execution_count": 56,
     "metadata": {},
     "output_type": "execute_result"
    }
   ],
   "source": [
    "p_hats = stack_overflow.groupby('age_cat')['hobbyist'].value_counts(normalize=True)\n",
    "p_hats"
   ]
  },
  {
   "cell_type": "code",
   "execution_count": 57,
   "metadata": {},
   "outputs": [
    {
     "name": "stdout",
     "output_type": "stream",
     "text": [
      "0.7733333333333333 0.8431048720066061\n"
     ]
    }
   ],
   "source": [
    "p_hat_at_least_30 = p_hats[('At least 30','Yes')]\n",
    "p_hat_under_30 = p_hats[('Under 30','Yes')]\n",
    "print(p_hat_at_least_30,p_hat_under_30)"
   ]
  },
  {
   "cell_type": "code",
   "execution_count": 58,
   "metadata": {},
   "outputs": [
    {
     "data": {
      "text/plain": [
       "age_cat\n",
       "At least 30    1050\n",
       "Under 30       1211\n",
       "Name: hobbyist, dtype: int64"
      ]
     },
     "execution_count": 58,
     "metadata": {},
     "output_type": "execute_result"
    }
   ],
   "source": [
    "n = stack_overflow.groupby('age_cat')['hobbyist'].count()\n",
    "n"
   ]
  },
  {
   "cell_type": "code",
   "execution_count": 59,
   "metadata": {},
   "outputs": [
    {
     "name": "stdout",
     "output_type": "stream",
     "text": [
      "1050 1211\n"
     ]
    }
   ],
   "source": [
    "n_at_least_30 = n['At least 30']\n",
    "n_under_30 = n['Under 30']\n",
    "print(n_at_least_30,n_under_30)"
   ]
  },
  {
   "cell_type": "code",
   "execution_count": 60,
   "metadata": {},
   "outputs": [
    {
     "name": "stdout",
     "output_type": "stream",
     "text": [
      "-4.223691463320559\n"
     ]
    }
   ],
   "source": [
    "p_hat = (n_at_least_30 * p_hat_at_least_30 + n_under_30 * p_hat_under_30) / (n_at_least_30 + n_under_30)\n",
    "std_error = np.sqrt(p_hat * (1-p_hat)/n_at_least_30 + p_hat * (1-p_hat)/n_under_30)\n",
    "z_score = (p_hat_at_least_30 - p_hat_under_30)/std_error\n",
    "print(z_score)"
   ]
  },
  {
   "attachments": {},
   "cell_type": "markdown",
   "metadata": {},
   "source": [
    "### using ***proportions_ztest()***"
   ]
  },
  {
   "cell_type": "code",
   "execution_count": 61,
   "metadata": {},
   "outputs": [
    {
     "data": {
      "text/plain": [
       "age_cat      hobbyist\n",
       "At least 30  Yes          812\n",
       "             No           238\n",
       "Under 30     Yes         1021\n",
       "             No           190\n",
       "Name: hobbyist, dtype: int64"
      ]
     },
     "execution_count": 61,
     "metadata": {},
     "output_type": "execute_result"
    }
   ],
   "source": [
    "stack_overflow.groupby('age_cat')['hobbyist'].value_counts()"
   ]
  },
  {
   "cell_type": "code",
   "execution_count": 69,
   "metadata": {},
   "outputs": [
    {
     "name": "stdout",
     "output_type": "stream",
     "text": [
      "-4.223691463320559 2.403330142685068e-05\n"
     ]
    }
   ],
   "source": [
    "n_hobbyists = np.array([812,1021])\n",
    "n_rows = np.array([812+238,1021+190])\n",
    "\n",
    "from statsmodels.stats.proportion import proportions_ztest\n",
    "z_score,p_value = proportions_ztest(count=n_hobbyists,nobs=n_rows,alternative='two-sided')\n",
    "print(z_score,p_value)"
   ]
  },
  {
   "attachments": {},
   "cell_type": "markdown",
   "metadata": {},
   "source": [
    "    We can conclude that there is a difference in the proportion of hobbyists between the two age groups."
   ]
  },
  {
   "cell_type": "code",
   "execution_count": 63,
   "metadata": {},
   "outputs": [
    {
     "data": {
      "text/plain": [
       "freight_cost_groups  late\n",
       "expensive            No      0.920904\n",
       "                     Yes     0.079096\n",
       "reasonable           No      0.964835\n",
       "                     Yes     0.035165\n",
       "Name: late, dtype: float64"
      ]
     },
     "execution_count": 63,
     "metadata": {},
     "output_type": "execute_result"
    }
   ],
   "source": [
    "late_shipments.groupby('freight_cost_groups')['late'].value_counts(normalize=True)"
   ]
  },
  {
   "cell_type": "code",
   "execution_count": 64,
   "metadata": {},
   "outputs": [
    {
     "data": {
      "text/plain": [
       "freight_cost_groups\n",
       "expensive     531\n",
       "reasonable    455\n",
       "Name: late, dtype: int64"
      ]
     },
     "execution_count": 64,
     "metadata": {},
     "output_type": "execute_result"
    }
   ],
   "source": [
    "late_shipments.groupby('freight_cost_groups')['late'].count()"
   ]
  },
  {
   "attachments": {},
   "cell_type": "markdown",
   "metadata": {},
   "source": [
    "### Chi-Square test of independence\n",
    "Just as ANOVA extends t-tests to more than two groups, chi-square tests of independence extend proportion tests to more than two groups."
   ]
  },
  {
   "cell_type": "code",
   "execution_count": 70,
   "metadata": {},
   "outputs": [
    {
     "data": {
      "text/plain": [
       "Under 30       1211\n",
       "At least 30    1050\n",
       "Name: age_cat, dtype: int64"
      ]
     },
     "execution_count": 70,
     "metadata": {},
     "output_type": "execute_result"
    }
   ],
   "source": [
    "stack_overflow['age_cat'].value_counts()"
   ]
  },
  {
   "cell_type": "code",
   "execution_count": 71,
   "metadata": {},
   "outputs": [
    {
     "data": {
      "text/plain": [
       "Very satisfied           879\n",
       "Slightly satisfied       680\n",
       "Slightly dissatisfied    342\n",
       "Neither                  201\n",
       "Very dissatisfied        159\n",
       "Name: job_sat, dtype: int64"
      ]
     },
     "execution_count": 71,
     "metadata": {},
     "output_type": "execute_result"
    }
   ],
   "source": [
    "stack_overflow['job_sat'].value_counts()"
   ]
  },
  {
   "cell_type": "code",
   "execution_count": 72,
   "metadata": {},
   "outputs": [
    {
     "data": {
      "text/plain": [
       "job_sat                age_cat    \n",
       "Very dissatisfied      Under 30       0.509434\n",
       "                       At least 30    0.490566\n",
       "Slightly dissatisfied  Under 30       0.532164\n",
       "                       At least 30    0.467836\n",
       "Neither                Under 30       0.567164\n",
       "                       At least 30    0.432836\n",
       "Slightly satisfied     Under 30       0.564706\n",
       "                       At least 30    0.435294\n",
       "Very satisfied         Under 30       0.511945\n",
       "                       At least 30    0.488055\n",
       "Name: age_cat, dtype: float64"
      ]
     },
     "execution_count": 72,
     "metadata": {},
     "output_type": "execute_result"
    }
   ],
   "source": [
    "props = stack_overflow.groupby('job_sat')['age_cat'].value_counts(normalize=True)\n",
    "props"
   ]
  },
  {
   "cell_type": "code",
   "execution_count": 73,
   "metadata": {},
   "outputs": [
    {
     "data": {
      "text/html": [
       "<div>\n",
       "<style scoped>\n",
       "    .dataframe tbody tr th:only-of-type {\n",
       "        vertical-align: middle;\n",
       "    }\n",
       "\n",
       "    .dataframe tbody tr th {\n",
       "        vertical-align: top;\n",
       "    }\n",
       "\n",
       "    .dataframe thead th {\n",
       "        text-align: right;\n",
       "    }\n",
       "</style>\n",
       "<table border=\"1\" class=\"dataframe\">\n",
       "  <thead>\n",
       "    <tr style=\"text-align: right;\">\n",
       "      <th>age_cat</th>\n",
       "      <th>At least 30</th>\n",
       "      <th>Under 30</th>\n",
       "    </tr>\n",
       "    <tr>\n",
       "      <th>job_sat</th>\n",
       "      <th></th>\n",
       "      <th></th>\n",
       "    </tr>\n",
       "  </thead>\n",
       "  <tbody>\n",
       "    <tr>\n",
       "      <th>Very dissatisfied</th>\n",
       "      <td>0.490566</td>\n",
       "      <td>0.509434</td>\n",
       "    </tr>\n",
       "    <tr>\n",
       "      <th>Slightly dissatisfied</th>\n",
       "      <td>0.467836</td>\n",
       "      <td>0.532164</td>\n",
       "    </tr>\n",
       "    <tr>\n",
       "      <th>Neither</th>\n",
       "      <td>0.432836</td>\n",
       "      <td>0.567164</td>\n",
       "    </tr>\n",
       "    <tr>\n",
       "      <th>Slightly satisfied</th>\n",
       "      <td>0.435294</td>\n",
       "      <td>0.564706</td>\n",
       "    </tr>\n",
       "    <tr>\n",
       "      <th>Very satisfied</th>\n",
       "      <td>0.488055</td>\n",
       "      <td>0.511945</td>\n",
       "    </tr>\n",
       "  </tbody>\n",
       "</table>\n",
       "</div>"
      ],
      "text/plain": [
       "age_cat                At least 30  Under 30\n",
       "job_sat                                     \n",
       "Very dissatisfied         0.490566  0.509434\n",
       "Slightly dissatisfied     0.467836  0.532164\n",
       "Neither                   0.432836  0.567164\n",
       "Slightly satisfied        0.435294  0.564706\n",
       "Very satisfied            0.488055  0.511945"
      ]
     },
     "execution_count": 73,
     "metadata": {},
     "output_type": "execute_result"
    }
   ],
   "source": [
    "wide_props = props.unstack()\n",
    "wide_props"
   ]
  },
  {
   "cell_type": "code",
   "execution_count": 75,
   "metadata": {},
   "outputs": [
    {
     "data": {
      "text/plain": [
       "<AxesSubplot: xlabel='job_sat'>"
      ]
     },
     "execution_count": 75,
     "metadata": {},
     "output_type": "execute_result"
    },
    {
     "data": {
      "image/png": "[encoded data removed]",
      "text/plain": [
       "<Figure size 640x480 with 1 Axes>"
      ]
     },
     "metadata": {},
     "output_type": "display_data"
    }
   ],
   "source": [
    "wide_props.plot(kind='bar',stacked=True)"
   ]
  },
  {
   "attachments": {},
   "cell_type": "markdown",
   "metadata": {},
   "source": [
    "If the age category was independent of job satisfaction, the split between the age categories would be at the same height in each of the five bars. We'll need a chi-square independent test to determine whether it's a significant difference."
   ]
  },
  {
   "cell_type": "code",
   "execution_count": 76,
   "metadata": {},
   "outputs": [
    {
     "name": "stdout",
     "output_type": "stream",
     "text": [
      "                 test    lambda      chi2  dof      pval    cramer     power\n",
      "0             pearson  1.000000  5.552373  4.0  0.235164  0.049555  0.437417\n",
      "1        cressie-read  0.666667  5.554106  4.0  0.235014  0.049563  0.437545\n",
      "2      log-likelihood  0.000000  5.558529  4.0  0.234632  0.049583  0.437871\n",
      "3       freeman-tukey -0.500000  5.562688  4.0  0.234274  0.049601  0.438178\n",
      "4  mod-log-likelihood -1.000000  5.567570  4.0  0.233854  0.049623  0.438538\n",
      "5              neyman -2.000000  5.579519  4.0  0.232828  0.049676  0.439419\n"
     ]
    }
   ],
   "source": [
    "expected, observed, stats = pingouin.chi2_independence(data=stack_overflow,x='job_sat',y='age_cat',correction=False)\n",
    "print(stats)"
   ]
  },
  {
   "attachments": {},
   "cell_type": "markdown",
   "metadata": {},
   "source": [
    "The p-values are 0.23, so we conclude that age categories are independent of job satisfaction."
   ]
  },
  {
   "attachments": {},
   "cell_type": "markdown",
   "metadata": {},
   "source": [
    "### Swapping the variables"
   ]
  },
  {
   "cell_type": "code",
   "execution_count": 77,
   "metadata": {},
   "outputs": [
    {
     "data": {
      "text/plain": [
       "<AxesSubplot: xlabel='age_cat'>"
      ]
     },
     "execution_count": 77,
     "metadata": {},
     "output_type": "execute_result"
    },
    {
     "data": {
      "image/png": "[encoded data removed]",
      "text/plain": [
       "<Figure size 640x480 with 1 Axes>"
      ]
     },
     "metadata": {},
     "output_type": "display_data"
    }
   ],
   "source": [
    "props = stack_overflow.groupby('age_cat')['job_sat'].value_counts(normalize=True)\n",
    "wide_props = props.unstack()\n",
    "wide_props.plot(kind='bar',stacked=True)"
   ]
  },
  {
   "cell_type": "code",
   "execution_count": 78,
   "metadata": {},
   "outputs": [
    {
     "name": "stdout",
     "output_type": "stream",
     "text": [
      "                 test    lambda      chi2  dof      pval    cramer     power\n",
      "0             pearson  1.000000  5.552373  4.0  0.235164  0.049555  0.437417\n",
      "1        cressie-read  0.666667  5.554106  4.0  0.235014  0.049563  0.437545\n",
      "2      log-likelihood  0.000000  5.558529  4.0  0.234632  0.049583  0.437871\n",
      "3       freeman-tukey -0.500000  5.562688  4.0  0.234274  0.049601  0.438178\n",
      "4  mod-log-likelihood -1.000000  5.567570  4.0  0.233854  0.049623  0.438538\n",
      "5              neyman -2.000000  5.579519  4.0  0.232828  0.049676  0.439419\n"
     ]
    }
   ],
   "source": [
    "expected, observed, stats = pingouin.chi2_independence(data=stack_overflow,x='age_cat',y='job_sat',correction=False)\n",
    "print(stats)"
   ]
  },
  {
   "attachments": {},
   "cell_type": "markdown",
   "metadata": {},
   "source": [
    "If we run the chi-square test with the variables swapped, then the results are identical,since the order doesn't matter.\n",
    "\n",
    "\n",
    "    The Question should be: Are the variable X and Y independent?\n",
    "\n",
    "What about diretion and tails?\n",
    "> This is because the chi-square test statistic is based on the squar4e of observed and expected counts, and square numbers are non-negative. Chi-square tests are almost always right-tailed.\n",
    "\n",
    ">  Like the t-distribution, the chi-square distribution has degrees of freedom and non-centrality parameters. When these numbers are large, the chi-square distribution can be approximated by a normal distribution.\n",
    "\n"
   ]
  },
  {
   "cell_type": "code",
   "execution_count": 98,
   "metadata": {},
   "outputs": [
    {
     "data": {
      "text/html": [
       "<div>\n",
       "<style scoped>\n",
       "    .dataframe tbody tr th:only-of-type {\n",
       "        vertical-align: middle;\n",
       "    }\n",
       "\n",
       "    .dataframe tbody tr th {\n",
       "        vertical-align: top;\n",
       "    }\n",
       "\n",
       "    .dataframe thead th {\n",
       "        text-align: right;\n",
       "    }\n",
       "</style>\n",
       "<table border=\"1\" class=\"dataframe\">\n",
       "  <thead>\n",
       "    <tr style=\"text-align: right;\">\n",
       "      <th></th>\n",
       "      <th>id</th>\n",
       "      <th>country</th>\n",
       "      <th>managed_by</th>\n",
       "      <th>fulfill_via</th>\n",
       "      <th>vendor_inco_term</th>\n",
       "      <th>shipment_mode</th>\n",
       "      <th>late_delivery</th>\n",
       "      <th>late</th>\n",
       "      <th>product_group</th>\n",
       "      <th>sub_classification</th>\n",
       "      <th>...</th>\n",
       "      <th>line_item_quantity</th>\n",
       "      <th>line_item_value</th>\n",
       "      <th>pack_price</th>\n",
       "      <th>unit_price</th>\n",
       "      <th>manufacturing_site</th>\n",
       "      <th>first_line_designation</th>\n",
       "      <th>weight_kilograms</th>\n",
       "      <th>freight_cost_usd</th>\n",
       "      <th>freight_cost_groups</th>\n",
       "      <th>line_item_insurance_usd</th>\n",
       "    </tr>\n",
       "  </thead>\n",
       "  <tbody>\n",
       "    <tr>\n",
       "      <th>0</th>\n",
       "      <td>36203.0</td>\n",
       "      <td>Nigeria</td>\n",
       "      <td>PMO - US</td>\n",
       "      <td>Direct Drop</td>\n",
       "      <td>EXW</td>\n",
       "      <td>Air</td>\n",
       "      <td>1.0</td>\n",
       "      <td>Yes</td>\n",
       "      <td>HRDT</td>\n",
       "      <td>HIV test</td>\n",
       "      <td>...</td>\n",
       "      <td>2996.0</td>\n",
       "      <td>266644.00</td>\n",
       "      <td>89.00</td>\n",
       "      <td>0.89</td>\n",
       "      <td>Alere Medical Co., Ltd.</td>\n",
       "      <td>Yes</td>\n",
       "      <td>1426.0</td>\n",
       "      <td>33279.83</td>\n",
       "      <td>expensive</td>\n",
       "      <td>373.83</td>\n",
       "    </tr>\n",
       "    <tr>\n",
       "      <th>1</th>\n",
       "      <td>30998.0</td>\n",
       "      <td>Botswana</td>\n",
       "      <td>PMO - US</td>\n",
       "      <td>Direct Drop</td>\n",
       "      <td>EXW</td>\n",
       "      <td>Air</td>\n",
       "      <td>0.0</td>\n",
       "      <td>No</td>\n",
       "      <td>HRDT</td>\n",
       "      <td>HIV test</td>\n",
       "      <td>...</td>\n",
       "      <td>25.0</td>\n",
       "      <td>800.00</td>\n",
       "      <td>32.00</td>\n",
       "      <td>1.60</td>\n",
       "      <td>Trinity Biotech, Plc</td>\n",
       "      <td>Yes</td>\n",
       "      <td>10.0</td>\n",
       "      <td>559.89</td>\n",
       "      <td>reasonable</td>\n",
       "      <td>1.72</td>\n",
       "    </tr>\n",
       "    <tr>\n",
       "      <th>2</th>\n",
       "      <td>69871.0</td>\n",
       "      <td>Vietnam</td>\n",
       "      <td>PMO - US</td>\n",
       "      <td>Direct Drop</td>\n",
       "      <td>EXW</td>\n",
       "      <td>Air</td>\n",
       "      <td>0.0</td>\n",
       "      <td>No</td>\n",
       "      <td>ARV</td>\n",
       "      <td>Adult</td>\n",
       "      <td>...</td>\n",
       "      <td>22925.0</td>\n",
       "      <td>110040.00</td>\n",
       "      <td>4.80</td>\n",
       "      <td>0.08</td>\n",
       "      <td>Hetero Unit III Hyderabad IN</td>\n",
       "      <td>Yes</td>\n",
       "      <td>3723.0</td>\n",
       "      <td>19056.13</td>\n",
       "      <td>expensive</td>\n",
       "      <td>181.57</td>\n",
       "    </tr>\n",
       "    <tr>\n",
       "      <th>3</th>\n",
       "      <td>17648.0</td>\n",
       "      <td>South Africa</td>\n",
       "      <td>PMO - US</td>\n",
       "      <td>Direct Drop</td>\n",
       "      <td>DDP</td>\n",
       "      <td>Ocean</td>\n",
       "      <td>0.0</td>\n",
       "      <td>No</td>\n",
       "      <td>ARV</td>\n",
       "      <td>Adult</td>\n",
       "      <td>...</td>\n",
       "      <td>152535.0</td>\n",
       "      <td>361507.95</td>\n",
       "      <td>2.37</td>\n",
       "      <td>0.04</td>\n",
       "      <td>Aurobindo Unit III, India</td>\n",
       "      <td>Yes</td>\n",
       "      <td>7698.0</td>\n",
       "      <td>11372.23</td>\n",
       "      <td>expensive</td>\n",
       "      <td>779.41</td>\n",
       "    </tr>\n",
       "    <tr>\n",
       "      <th>4</th>\n",
       "      <td>5647.0</td>\n",
       "      <td>Uganda</td>\n",
       "      <td>PMO - US</td>\n",
       "      <td>Direct Drop</td>\n",
       "      <td>EXW</td>\n",
       "      <td>Air</td>\n",
       "      <td>0.0</td>\n",
       "      <td>No</td>\n",
       "      <td>HRDT</td>\n",
       "      <td>HIV test - Ancillary</td>\n",
       "      <td>...</td>\n",
       "      <td>850.0</td>\n",
       "      <td>8.50</td>\n",
       "      <td>0.01</td>\n",
       "      <td>0.00</td>\n",
       "      <td>Inverness Japan</td>\n",
       "      <td>Yes</td>\n",
       "      <td>56.0</td>\n",
       "      <td>360.00</td>\n",
       "      <td>reasonable</td>\n",
       "      <td>0.01</td>\n",
       "    </tr>\n",
       "    <tr>\n",
       "      <th>...</th>\n",
       "      <td>...</td>\n",
       "      <td>...</td>\n",
       "      <td>...</td>\n",
       "      <td>...</td>\n",
       "      <td>...</td>\n",
       "      <td>...</td>\n",
       "      <td>...</td>\n",
       "      <td>...</td>\n",
       "      <td>...</td>\n",
       "      <td>...</td>\n",
       "      <td>...</td>\n",
       "      <td>...</td>\n",
       "      <td>...</td>\n",
       "      <td>...</td>\n",
       "      <td>...</td>\n",
       "      <td>...</td>\n",
       "      <td>...</td>\n",
       "      <td>...</td>\n",
       "      <td>...</td>\n",
       "      <td>...</td>\n",
       "      <td>...</td>\n",
       "    </tr>\n",
       "    <tr>\n",
       "      <th>995</th>\n",
       "      <td>13608.0</td>\n",
       "      <td>Uganda</td>\n",
       "      <td>PMO - US</td>\n",
       "      <td>Direct Drop</td>\n",
       "      <td>DDP</td>\n",
       "      <td>Air</td>\n",
       "      <td>0.0</td>\n",
       "      <td>No</td>\n",
       "      <td>ARV</td>\n",
       "      <td>Adult</td>\n",
       "      <td>...</td>\n",
       "      <td>121.0</td>\n",
       "      <td>9075.00</td>\n",
       "      <td>75.00</td>\n",
       "      <td>0.62</td>\n",
       "      <td>Janssen-Cilag, Latina, IT</td>\n",
       "      <td>Yes</td>\n",
       "      <td>43.0</td>\n",
       "      <td>199.00</td>\n",
       "      <td>reasonable</td>\n",
       "      <td>12.72</td>\n",
       "    </tr>\n",
       "    <tr>\n",
       "      <th>996</th>\n",
       "      <td>80394.0</td>\n",
       "      <td>Congo, DRC</td>\n",
       "      <td>PMO - US</td>\n",
       "      <td>Direct Drop</td>\n",
       "      <td>EXW</td>\n",
       "      <td>Air</td>\n",
       "      <td>0.0</td>\n",
       "      <td>No</td>\n",
       "      <td>HRDT</td>\n",
       "      <td>HIV test</td>\n",
       "      <td>...</td>\n",
       "      <td>292.0</td>\n",
       "      <td>9344.00</td>\n",
       "      <td>32.00</td>\n",
       "      <td>1.60</td>\n",
       "      <td>Trinity Biotech, Plc</td>\n",
       "      <td>Yes</td>\n",
       "      <td>99.0</td>\n",
       "      <td>2162.55</td>\n",
       "      <td>reasonable</td>\n",
       "      <td>13.10</td>\n",
       "    </tr>\n",
       "    <tr>\n",
       "      <th>997</th>\n",
       "      <td>61675.0</td>\n",
       "      <td>Zambia</td>\n",
       "      <td>PMO - US</td>\n",
       "      <td>Direct Drop</td>\n",
       "      <td>EXW</td>\n",
       "      <td>Air</td>\n",
       "      <td>1.0</td>\n",
       "      <td>Yes</td>\n",
       "      <td>HRDT</td>\n",
       "      <td>HIV test</td>\n",
       "      <td>...</td>\n",
       "      <td>2127.0</td>\n",
       "      <td>170160.00</td>\n",
       "      <td>80.00</td>\n",
       "      <td>0.80</td>\n",
       "      <td>Alere Medical Co., Ltd.</td>\n",
       "      <td>Yes</td>\n",
       "      <td>881.0</td>\n",
       "      <td>14019.38</td>\n",
       "      <td>expensive</td>\n",
       "      <td>210.49</td>\n",
       "    </tr>\n",
       "    <tr>\n",
       "      <th>998</th>\n",
       "      <td>39182.0</td>\n",
       "      <td>South Africa</td>\n",
       "      <td>PMO - US</td>\n",
       "      <td>Direct Drop</td>\n",
       "      <td>DDP</td>\n",
       "      <td>Ocean</td>\n",
       "      <td>0.0</td>\n",
       "      <td>No</td>\n",
       "      <td>ARV</td>\n",
       "      <td>Adult</td>\n",
       "      <td>...</td>\n",
       "      <td>191011.0</td>\n",
       "      <td>861459.61</td>\n",
       "      <td>4.51</td>\n",
       "      <td>0.15</td>\n",
       "      <td>Aurobindo Unit III, India</td>\n",
       "      <td>Yes</td>\n",
       "      <td>16234.0</td>\n",
       "      <td>14439.17</td>\n",
       "      <td>expensive</td>\n",
       "      <td>1421.41</td>\n",
       "    </tr>\n",
       "    <tr>\n",
       "      <th>999</th>\n",
       "      <td>5645.0</td>\n",
       "      <td>Botswana</td>\n",
       "      <td>PMO - US</td>\n",
       "      <td>Direct Drop</td>\n",
       "      <td>EXW</td>\n",
       "      <td>Air</td>\n",
       "      <td>0.0</td>\n",
       "      <td>No</td>\n",
       "      <td>HRDT</td>\n",
       "      <td>HIV test</td>\n",
       "      <td>...</td>\n",
       "      <td>200.0</td>\n",
       "      <td>14398.00</td>\n",
       "      <td>71.99</td>\n",
       "      <td>0.72</td>\n",
       "      <td>Inverness Japan</td>\n",
       "      <td>Yes</td>\n",
       "      <td>46.0</td>\n",
       "      <td>1028.18</td>\n",
       "      <td>reasonable</td>\n",
       "      <td>23.04</td>\n",
       "    </tr>\n",
       "  </tbody>\n",
       "</table>\n",
       "<p>999 rows × 27 columns</p>\n",
       "</div>"
      ],
      "text/plain": [
       "          id       country managed_by  fulfill_via vendor_inco_term  \\\n",
       "0    36203.0       Nigeria   PMO - US  Direct Drop              EXW   \n",
       "1    30998.0      Botswana   PMO - US  Direct Drop              EXW   \n",
       "2    69871.0       Vietnam   PMO - US  Direct Drop              EXW   \n",
       "3    17648.0  South Africa   PMO - US  Direct Drop              DDP   \n",
       "4     5647.0        Uganda   PMO - US  Direct Drop              EXW   \n",
       "..       ...           ...        ...          ...              ...   \n",
       "995  13608.0        Uganda   PMO - US  Direct Drop              DDP   \n",
       "996  80394.0    Congo, DRC   PMO - US  Direct Drop              EXW   \n",
       "997  61675.0        Zambia   PMO - US  Direct Drop              EXW   \n",
       "998  39182.0  South Africa   PMO - US  Direct Drop              DDP   \n",
       "999   5645.0      Botswana   PMO - US  Direct Drop              EXW   \n",
       "\n",
       "    shipment_mode  late_delivery late product_group    sub_classification  \\\n",
       "0             Air            1.0  Yes          HRDT              HIV test   \n",
       "1             Air            0.0   No          HRDT              HIV test   \n",
       "2             Air            0.0   No           ARV                 Adult   \n",
       "3           Ocean            0.0   No           ARV                 Adult   \n",
       "4             Air            0.0   No          HRDT  HIV test - Ancillary   \n",
       "..            ...            ...  ...           ...                   ...   \n",
       "995           Air            0.0   No           ARV                 Adult   \n",
       "996           Air            0.0   No          HRDT              HIV test   \n",
       "997           Air            1.0  Yes          HRDT              HIV test   \n",
       "998         Ocean            0.0   No           ARV                 Adult   \n",
       "999           Air            0.0   No          HRDT              HIV test   \n",
       "\n",
       "     ... line_item_quantity line_item_value pack_price unit_price  \\\n",
       "0    ...             2996.0       266644.00      89.00       0.89   \n",
       "1    ...               25.0          800.00      32.00       1.60   \n",
       "2    ...            22925.0       110040.00       4.80       0.08   \n",
       "3    ...           152535.0       361507.95       2.37       0.04   \n",
       "4    ...              850.0            8.50       0.01       0.00   \n",
       "..   ...                ...             ...        ...        ...   \n",
       "995  ...              121.0         9075.00      75.00       0.62   \n",
       "996  ...              292.0         9344.00      32.00       1.60   \n",
       "997  ...             2127.0       170160.00      80.00       0.80   \n",
       "998  ...           191011.0       861459.61       4.51       0.15   \n",
       "999  ...              200.0        14398.00      71.99       0.72   \n",
       "\n",
       "               manufacturing_site first_line_designation  weight_kilograms  \\\n",
       "0         Alere Medical Co., Ltd.                    Yes            1426.0   \n",
       "1            Trinity Biotech, Plc                    Yes              10.0   \n",
       "2    Hetero Unit III Hyderabad IN                    Yes            3723.0   \n",
       "3       Aurobindo Unit III, India                    Yes            7698.0   \n",
       "4                 Inverness Japan                    Yes              56.0   \n",
       "..                            ...                    ...               ...   \n",
       "995     Janssen-Cilag, Latina, IT                    Yes              43.0   \n",
       "996          Trinity Biotech, Plc                    Yes              99.0   \n",
       "997       Alere Medical Co., Ltd.                    Yes             881.0   \n",
       "998     Aurobindo Unit III, India                    Yes           16234.0   \n",
       "999               Inverness Japan                    Yes              46.0   \n",
       "\n",
       "     freight_cost_usd  freight_cost_groups  line_item_insurance_usd  \n",
       "0            33279.83            expensive                   373.83  \n",
       "1              559.89           reasonable                     1.72  \n",
       "2            19056.13            expensive                   181.57  \n",
       "3            11372.23            expensive                   779.41  \n",
       "4              360.00           reasonable                     0.01  \n",
       "..                ...                  ...                      ...  \n",
       "995            199.00           reasonable                    12.72  \n",
       "996           2162.55           reasonable                    13.10  \n",
       "997          14019.38            expensive                   210.49  \n",
       "998          14439.17            expensive                  1421.41  \n",
       "999           1028.18           reasonable                    23.04  \n",
       "\n",
       "[999 rows x 27 columns]"
      ]
     },
     "execution_count": 98,
     "metadata": {},
     "output_type": "execute_result"
    }
   ],
   "source": [
    "late_shipments = late_shipments.loc[~(late_shipments['vendor_inco_term']=='DDU')]\n",
    "late_shipments"
   ]
  },
  {
   "attachments": {},
   "cell_type": "markdown",
   "metadata": {},
   "source": [
    "The late_shipments dataset includes a vendor_inco_term that describes the incoterms that applied to a given shipment. The choices are:\n",
    "\n",
    "- EXW: \"Ex works\". The buyer pays for transportation of the goods.\n",
    "- CIP: \"Carriage and insurance paid to\". The seller pays for freight and insurance until the goods board a ship.\n",
    "- DDP: \"Delivered duty paid\". The seller pays for transportation of the goods until they reach a destination port.\n",
    "- FCA: \"Free carrier\". The seller pays for transportation of the goods.\n"
   ]
  },
  {
   "attachments": {},
   "cell_type": "markdown",
   "metadata": {},
   "source": [
    ">$H_{0}$: vendor_inco_term and freight_cost_group are independent.\n",
    "\n",
    ">$H_{A}$: vendor_inco_term and freight_cost_group are associate.\n"
   ]
  },
  {
   "cell_type": "code",
   "execution_count": 102,
   "metadata": {},
   "outputs": [],
   "source": [
    "props = late_shipments.groupby('vendor_inco_term')['freight_cost_groups'].value_counts(normalize=True)"
   ]
  },
  {
   "cell_type": "code",
   "execution_count": 103,
   "metadata": {},
   "outputs": [],
   "source": [
    "wide_props = props.unstack()"
   ]
  },
  {
   "cell_type": "code",
   "execution_count": 104,
   "metadata": {},
   "outputs": [
    {
     "data": {
      "text/plain": [
       "<AxesSubplot: xlabel='vendor_inco_term'>"
      ]
     },
     "execution_count": 104,
     "metadata": {},
     "output_type": "execute_result"
    },
    {
     "data": {
      "image/png": "[encoded data removed]",
      "text/plain": [
       "<Figure size 640x480 with 1 Axes>"
      ]
     },
     "metadata": {},
     "output_type": "display_data"
    }
   ],
   "source": [
    "wide_props.plot(kind='bar',stacked=True)"
   ]
  },
  {
   "cell_type": "code",
   "execution_count": 106,
   "metadata": {},
   "outputs": [
    {
     "name": "stdout",
     "output_type": "stream",
     "text": [
      "      test  lambda     chi2  dof          pval    cramer     power\n",
      "0  pearson     1.0  33.6426  3.0  2.357026e-07  0.183511  0.999424\n"
     ]
    }
   ],
   "source": [
    "# Determine if freight_cost_group and vendor_inco_term are independent\n",
    "expected, observed, stats = pingouin.chi2_independence(data=late_shipments,x='vendor_inco_term',y='freight_cost_groups',correction=False)\n",
    "# Print results\n",
    "print(stats[stats['test'] == 'pearson']) "
   ]
  },
  {
   "attachments": {},
   "cell_type": "markdown",
   "metadata": {},
   "source": [
    "    Reject the null hypothesis and conclude that vendor_inco_term and freight_cost_group are associated."
   ]
  },
  {
   "cell_type": "code",
   "execution_count": 138,
   "metadata": {},
   "outputs": [
    {
     "data": {
      "text/plain": [
       "Hello, old friend    1225\n",
       "Indifferent           405\n",
       "Amused                368\n",
       "Annoyed               263\n",
       "Name: purple_link, dtype: int64"
      ]
     },
     "execution_count": 138,
     "metadata": {},
     "output_type": "execute_result"
    }
   ],
   "source": [
    "purple_link_counts = stack_overflow['purple_link'].value_counts()\n",
    "purple_link_counts"
   ]
  },
  {
   "cell_type": "code",
   "execution_count": 139,
   "metadata": {},
   "outputs": [
    {
     "data": {
      "text/html": [
       "<div>\n",
       "<style scoped>\n",
       "    .dataframe tbody tr th:only-of-type {\n",
       "        vertical-align: middle;\n",
       "    }\n",
       "\n",
       "    .dataframe tbody tr th {\n",
       "        vertical-align: top;\n",
       "    }\n",
       "\n",
       "    .dataframe thead th {\n",
       "        text-align: right;\n",
       "    }\n",
       "</style>\n",
       "<table border=\"1\" class=\"dataframe\">\n",
       "  <thead>\n",
       "    <tr style=\"text-align: right;\">\n",
       "      <th></th>\n",
       "      <th>purple_link</th>\n",
       "      <th>n</th>\n",
       "    </tr>\n",
       "  </thead>\n",
       "  <tbody>\n",
       "    <tr>\n",
       "      <th>2</th>\n",
       "      <td>Amused</td>\n",
       "      <td>368</td>\n",
       "    </tr>\n",
       "    <tr>\n",
       "      <th>3</th>\n",
       "      <td>Annoyed</td>\n",
       "      <td>263</td>\n",
       "    </tr>\n",
       "    <tr>\n",
       "      <th>0</th>\n",
       "      <td>Hello, old friend</td>\n",
       "      <td>1225</td>\n",
       "    </tr>\n",
       "    <tr>\n",
       "      <th>1</th>\n",
       "      <td>Indifferent</td>\n",
       "      <td>405</td>\n",
       "    </tr>\n",
       "  </tbody>\n",
       "</table>\n",
       "</div>"
      ],
      "text/plain": [
       "         purple_link     n\n",
       "2             Amused   368\n",
       "3            Annoyed   263\n",
       "0  Hello, old friend  1225\n",
       "1        Indifferent   405"
      ]
     },
     "execution_count": 139,
     "metadata": {},
     "output_type": "execute_result"
    }
   ],
   "source": [
    "purple_link_counts = purple_link_counts.reset_index().rename(columns={'index':'purple_link','purple_link':'n'}).sort_values(by='purple_link')\n",
    "purple_link_counts"
   ]
  },
  {
   "cell_type": "code",
   "execution_count": 141,
   "metadata": {},
   "outputs": [
    {
     "data": {
      "text/html": [
       "<div>\n",
       "<style scoped>\n",
       "    .dataframe tbody tr th:only-of-type {\n",
       "        vertical-align: middle;\n",
       "    }\n",
       "\n",
       "    .dataframe tbody tr th {\n",
       "        vertical-align: top;\n",
       "    }\n",
       "\n",
       "    .dataframe thead th {\n",
       "        text-align: right;\n",
       "    }\n",
       "</style>\n",
       "<table border=\"1\" class=\"dataframe\">\n",
       "  <thead>\n",
       "    <tr style=\"text-align: right;\">\n",
       "      <th></th>\n",
       "      <th>purple_link</th>\n",
       "      <th>prop</th>\n",
       "    </tr>\n",
       "  </thead>\n",
       "  <tbody>\n",
       "    <tr>\n",
       "      <th>0</th>\n",
       "      <td>Amused</td>\n",
       "      <td>0.166667</td>\n",
       "    </tr>\n",
       "    <tr>\n",
       "      <th>1</th>\n",
       "      <td>Annoyed</td>\n",
       "      <td>0.166667</td>\n",
       "    </tr>\n",
       "    <tr>\n",
       "      <th>2</th>\n",
       "      <td>Hello, old friend</td>\n",
       "      <td>0.500000</td>\n",
       "    </tr>\n",
       "    <tr>\n",
       "      <th>3</th>\n",
       "      <td>Indifferent</td>\n",
       "      <td>0.166667</td>\n",
       "    </tr>\n",
       "  </tbody>\n",
       "</table>\n",
       "</div>"
      ],
      "text/plain": [
       "         purple_link      prop\n",
       "0             Amused  0.166667\n",
       "1            Annoyed  0.166667\n",
       "2  Hello, old friend  0.500000\n",
       "3        Indifferent  0.166667"
      ]
     },
     "execution_count": 141,
     "metadata": {},
     "output_type": "execute_result"
    }
   ],
   "source": [
    "hypothesized = pd.DataFrame({\n",
    "    'purple_link':['Amused','Annoyed','Hello, old friend','Indifferent'],\n",
    "    'prop':[1/6,1/6,1/2,1/6]\n",
    "})\n",
    "hypothesized"
   ]
  },
  {
   "cell_type": "code",
   "execution_count": 144,
   "metadata": {},
   "outputs": [
    {
     "data": {
      "text/html": [
       "<div>\n",
       "<style scoped>\n",
       "    .dataframe tbody tr th:only-of-type {\n",
       "        vertical-align: middle;\n",
       "    }\n",
       "\n",
       "    .dataframe tbody tr th {\n",
       "        vertical-align: top;\n",
       "    }\n",
       "\n",
       "    .dataframe thead th {\n",
       "        text-align: right;\n",
       "    }\n",
       "</style>\n",
       "<table border=\"1\" class=\"dataframe\">\n",
       "  <thead>\n",
       "    <tr style=\"text-align: right;\">\n",
       "      <th></th>\n",
       "      <th>purple_link</th>\n",
       "      <th>prop</th>\n",
       "      <th>n</th>\n",
       "    </tr>\n",
       "  </thead>\n",
       "  <tbody>\n",
       "    <tr>\n",
       "      <th>0</th>\n",
       "      <td>Amused</td>\n",
       "      <td>0.166667</td>\n",
       "      <td>376.833333</td>\n",
       "    </tr>\n",
       "    <tr>\n",
       "      <th>1</th>\n",
       "      <td>Annoyed</td>\n",
       "      <td>0.166667</td>\n",
       "      <td>376.833333</td>\n",
       "    </tr>\n",
       "    <tr>\n",
       "      <th>2</th>\n",
       "      <td>Hello, old friend</td>\n",
       "      <td>0.500000</td>\n",
       "      <td>1130.500000</td>\n",
       "    </tr>\n",
       "    <tr>\n",
       "      <th>3</th>\n",
       "      <td>Indifferent</td>\n",
       "      <td>0.166667</td>\n",
       "      <td>376.833333</td>\n",
       "    </tr>\n",
       "  </tbody>\n",
       "</table>\n",
       "</div>"
      ],
      "text/plain": [
       "         purple_link      prop            n\n",
       "0             Amused  0.166667   376.833333\n",
       "1            Annoyed  0.166667   376.833333\n",
       "2  Hello, old friend  0.500000  1130.500000\n",
       "3        Indifferent  0.166667   376.833333"
      ]
     },
     "execution_count": 144,
     "metadata": {},
     "output_type": "execute_result"
    }
   ],
   "source": [
    "n_total = len(stack_overflow)\n",
    "hypothesized['n'] = hypothesized['prop'] * n_total\n",
    "hypothesized"
   ]
  },
  {
   "cell_type": "code",
   "execution_count": 147,
   "metadata": {},
   "outputs": [
    {
     "data": {
      "image/png": "[encoded data removed]",
      "text/plain": [
       "<Figure size 640x480 with 1 Axes>"
      ]
     },
     "metadata": {},
     "output_type": "display_data"
    }
   ],
   "source": [
    "plt.bar(purple_link_counts['purple_link'],purple_link_counts['n'],color = 'red',label='Observed')\n",
    "plt.bar(hypothesized['purple_link'],hypothesized['n'],alpha=0.5,color='blue',label='Hypothesized')\n",
    "plt.legend()\n",
    "plt.show()"
   ]
  },
  {
   "attachments": {},
   "cell_type": "markdown",
   "metadata": {},
   "source": [
    "You'll need to perform a chi-square goodness of fit test to see whether the differences are statistically significant."
   ]
  },
  {
   "attachments": {},
   "cell_type": "markdown",
   "metadata": {},
   "source": [
    "### Chi-square goodness of fit\n",
    "\n",
    "The chi-square goodness of fit test compares proportions of each level of a categorical variable to hypothesized values.\n",
    "The one-sample chi-square test is called a goodness of fit test, as we're testing how well our hypothesized data fits the observed data."
   ]
  },
  {
   "cell_type": "code",
   "execution_count": 148,
   "metadata": {},
   "outputs": [
    {
     "data": {
      "text/plain": [
       "Power_divergenceResult(statistic=44.59840778416629, pvalue=1.1261810719413759e-09)"
      ]
     },
     "execution_count": 148,
     "metadata": {},
     "output_type": "execute_result"
    }
   ],
   "source": [
    "from scipy.stats import chisquare\n",
    "chisquare(f_obs=purple_link_counts['n'],f_exp=hypothesized['n'])"
   ]
  },
  {
   "attachments": {},
   "cell_type": "markdown",
   "metadata": {},
   "source": [
    "    The p-value is very small, so we can conclude that the sample distribution of proportions is different from the hypothesized distribution."
   ]
  },
  {
   "attachments": {},
   "cell_type": "markdown",
   "metadata": {},
   "source": [
    "#### Independence of observation\n",
    "- Assumption\n",
    "> Each obeservation (row) in the dataset is independent.\n",
    "    There are some special cases like paired t-tests where dependencies between two samples are allowed, but these change the calculations, so we need to understand where such dependencies occur. \n",
    "- Consequence\n",
    "> Increased chance of false negative/postive errors\n",
    "\n",
    "#### Large sample size\n",
    "- Assumption\n",
    "> the sample is big enough to mitigate uncertainty, so that the central limit theorem applies  \n",
    "- Consequence\n",
    "> Wider confidence intervals on the parameter we are trying to estimate: if the central limit theorem does not apply, the calculations on the sample, and conclusions draw from them, could be nonsense, which increases the chance of false negative/positve errors\n",
    "> 1. one sample:at least 30 observations in the sample | The number of success in sample is n x $\\hat{p}$ $\\ge$ 10;The number of success in sample is n x (1-$\\hat{p}$) $\\ge$ 10\n",
    "> 2. two samples: at least 30 observations in each sample | The number of success in sample is $n_{i}$ x $\\hat{p}$ $\\ge$ 10;The number of success in sample is $n_{i}$ x (1-$\\hat{p}$) $\\ge$ 10\n",
    "> 3. paired samples: at least 30 pairs of observations across the samples\n",
    "> 4. ANOVA: at least 30 observations in each sample\n",
    "> 5. Chisquare tests: $n_{i}$ x $\\hat{p}$ $\\ge$ 5;The number of success in sample is $n_{i}$ x (1-$\\hat{p}$) $\\ge$ 5\n",
    "#### Sanity Check\n",
    "> if the bootstrap distribution doesn't look normal, assumptions(randomness, independence and sample size) likely aren't valid\n",
    "\n",
    "\n"
   ]
  },
  {
   "cell_type": "code",
   "execution_count": 150,
   "metadata": {},
   "outputs": [
    {
     "name": "stdout",
     "output_type": "stream",
     "text": [
      "expensive     531\n",
      "reasonable    454\n",
      "Name: freight_cost_groups, dtype: int64\n",
      "True\n"
     ]
    }
   ],
   "source": [
    "# Count the freight_cost_group values\n",
    "counts = late_shipments.freight_cost_groups.value_counts()\n",
    "\n",
    "# Print the result\n",
    "print(counts)\n",
    "\n",
    "# Inspect whether the counts are big enough\n",
    "print((counts >= 30).all())"
   ]
  },
  {
   "cell_type": "code",
   "execution_count": 151,
   "metadata": {},
   "outputs": [
    {
     "name": "stdout",
     "output_type": "stream",
     "text": [
      "Air            905\n",
      "Ocean           88\n",
      "Air Charter      6\n",
      "Name: shipment_mode, dtype: int64\n",
      "False\n"
     ]
    }
   ],
   "source": [
    "# ANOVA\n",
    "# Count the shipment_mode values\n",
    "counts = late_shipments.shipment_mode.value_counts()\n",
    "\n",
    "# Print the result\n",
    "print(counts)\n",
    "\n",
    "# Inspect whether the counts are big enough\n",
    "print((counts >= 30).all())"
   ]
  },
  {
   "cell_type": "code",
   "execution_count": 152,
   "metadata": {},
   "outputs": [
    {
     "name": "stdout",
     "output_type": "stream",
     "text": [
      "vendor_inco_term  freight_cost_groups\n",
      "CIP               reasonable              34\n",
      "                  expensive               16\n",
      "DDP               expensive               55\n",
      "                  reasonable              45\n",
      "EXW               expensive              423\n",
      "                  reasonable             302\n",
      "FCA               reasonable              73\n",
      "                  expensive               37\n",
      "Name: freight_cost_groups, dtype: int64\n",
      "True\n"
     ]
    }
   ],
   "source": [
    "# Chi-Square\n",
    "# Count the values of freight_cost_group grouped by vendor_inco_term\n",
    "counts = late_shipments.groupby('vendor_inco_term').freight_cost_groups.value_counts()\n",
    "\n",
    "# Print the result\n",
    "print(counts)\n",
    "\n",
    "# Inspect whether the counts are big enough\n",
    "print((counts >= 5).all())"
   ]
  },
  {
   "cell_type": "code",
   "execution_count": 153,
   "metadata": {},
   "outputs": [
    {
     "name": "stdout",
     "output_type": "stream",
     "text": [
      "No     938\n",
      "Yes     61\n",
      "Name: late, dtype: int64\n",
      "True\n"
     ]
    }
   ],
   "source": [
    "# one-sample proportion test\n",
    "# Count the late values\n",
    "counts = late_shipments.late.value_counts()\n",
    "\n",
    "# Print the result\n",
    "print(counts)\n",
    "\n",
    "# Inspect whether the counts are big enough\n",
    "print((counts >= 10).all())"
   ]
  },
  {
   "attachments": {},
   "cell_type": "markdown",
   "metadata": {},
   "source": [
    "### Parametric Tests\n",
    "- z-test,t-test, and ANOVA are all parametric tests\n",
    "- Assume a normal distribution\n",
    "- Require sufficiently large sample sizes that the central limit theorem applies"
   ]
  },
  {
   "cell_type": "code",
   "execution_count": 166,
   "metadata": {},
   "outputs": [
    {
     "data": {
      "text/html": [
       "<div>\n",
       "<style scoped>\n",
       "    .dataframe tbody tr th:only-of-type {\n",
       "        vertical-align: middle;\n",
       "    }\n",
       "\n",
       "    .dataframe tbody tr th {\n",
       "        vertical-align: top;\n",
       "    }\n",
       "\n",
       "    .dataframe thead th {\n",
       "        text-align: right;\n",
       "    }\n",
       "</style>\n",
       "<table border=\"1\" class=\"dataframe\">\n",
       "  <thead>\n",
       "    <tr style=\"text-align: right;\">\n",
       "      <th></th>\n",
       "      <th>state</th>\n",
       "      <th>county</th>\n",
       "      <th>repub_percent_08</th>\n",
       "      <th>repub_percent_12</th>\n",
       "      <th>diff</th>\n",
       "    </tr>\n",
       "  </thead>\n",
       "  <tbody>\n",
       "    <tr>\n",
       "      <th>67</th>\n",
       "      <td>Rhode Island</td>\n",
       "      <td>Kent</td>\n",
       "      <td>40.178890</td>\n",
       "      <td>39.997212</td>\n",
       "      <td>0.181678</td>\n",
       "    </tr>\n",
       "    <tr>\n",
       "      <th>34</th>\n",
       "      <td>Kentucky</td>\n",
       "      <td>Taylor</td>\n",
       "      <td>69.686924</td>\n",
       "      <td>68.958904</td>\n",
       "      <td>0.728020</td>\n",
       "    </tr>\n",
       "    <tr>\n",
       "      <th>39</th>\n",
       "      <td>Michigan</td>\n",
       "      <td>Cheboygan</td>\n",
       "      <td>49.780591</td>\n",
       "      <td>54.736684</td>\n",
       "      <td>-4.956093</td>\n",
       "    </tr>\n",
       "    <tr>\n",
       "      <th>83</th>\n",
       "      <td>Texas</td>\n",
       "      <td>Terrell</td>\n",
       "      <td>62.235067</td>\n",
       "      <td>64.504505</td>\n",
       "      <td>-2.269437</td>\n",
       "    </tr>\n",
       "    <tr>\n",
       "      <th>44</th>\n",
       "      <td>Missouri</td>\n",
       "      <td>Iron</td>\n",
       "      <td>47.349343</td>\n",
       "      <td>55.867031</td>\n",
       "      <td>-8.517688</td>\n",
       "    </tr>\n",
       "  </tbody>\n",
       "</table>\n",
       "</div>"
      ],
      "text/plain": [
       "           state     county  repub_percent_08  repub_percent_12      diff\n",
       "67  Rhode Island       Kent         40.178890         39.997212  0.181678\n",
       "34      Kentucky     Taylor         69.686924         68.958904  0.728020\n",
       "39      Michigan  Cheboygan         49.780591         54.736684 -4.956093\n",
       "83         Texas    Terrell         62.235067         64.504505 -2.269437\n",
       "44      Missouri       Iron         47.349343         55.867031 -8.517688"
      ]
     },
     "execution_count": 166,
     "metadata": {},
     "output_type": "execute_result"
    }
   ],
   "source": [
    "rep_votes_small = rep_vote.sample(5)\n",
    "rep_votes_small"
   ]
  },
  {
   "attachments": {},
   "cell_type": "markdown",
   "metadata": {},
   "source": [
    "5 pairs is not enough to meet the sample size condition for the paired t-test\n",
    "- at least 30 pairs of observations across the samples."
   ]
  },
  {
   "cell_type": "code",
   "execution_count": 167,
   "metadata": {},
   "outputs": [
    {
     "data": {
      "text/html": [
       "<div>\n",
       "<style scoped>\n",
       "    .dataframe tbody tr th:only-of-type {\n",
       "        vertical-align: middle;\n",
       "    }\n",
       "\n",
       "    .dataframe tbody tr th {\n",
       "        vertical-align: top;\n",
       "    }\n",
       "\n",
       "    .dataframe thead th {\n",
       "        text-align: right;\n",
       "    }\n",
       "</style>\n",
       "<table border=\"1\" class=\"dataframe\">\n",
       "  <thead>\n",
       "    <tr style=\"text-align: right;\">\n",
       "      <th></th>\n",
       "      <th>T</th>\n",
       "      <th>dof</th>\n",
       "      <th>alternative</th>\n",
       "      <th>p-val</th>\n",
       "      <th>CI95%</th>\n",
       "      <th>cohen-d</th>\n",
       "      <th>BF10</th>\n",
       "      <th>power</th>\n",
       "    </tr>\n",
       "  </thead>\n",
       "  <tbody>\n",
       "    <tr>\n",
       "      <th>T-test</th>\n",
       "      <td>-1.729914</td>\n",
       "      <td>4</td>\n",
       "      <td>less</td>\n",
       "      <td>0.079349</td>\n",
       "      <td>[-inf, 0.69]</td>\n",
       "      <td>0.257549</td>\n",
       "      <td>1.984</td>\n",
       "      <td>0.12303</td>\n",
       "    </tr>\n",
       "  </tbody>\n",
       "</table>\n",
       "</div>"
      ],
      "text/plain": [
       "               T  dof alternative     p-val         CI95%   cohen-d   BF10  \\\n",
       "T-test -1.729914    4        less  0.079349  [-inf, 0.69]  0.257549  1.984   \n",
       "\n",
       "          power  \n",
       "T-test  0.12303  "
      ]
     },
     "execution_count": 167,
     "metadata": {},
     "output_type": "execute_result"
    }
   ],
   "source": [
    "pingouin.ttest(x=rep_votes_small['repub_percent_08'],y=rep_votes_small['repub_percent_12'],paired=True,alternative='less')"
   ]
  },
  {
   "attachments": {},
   "cell_type": "markdown",
   "metadata": {},
   "source": [
    "### Non-parametric tests\n",
    "- Non-parametric tests avoid the parametric assumptions and conditions\n",
    "- They don't make the normal distribution assumptions or the sample size conditions\n",
    "- Many non-parametric tests use **ranks** of the data\n",
    "- Non-parametric tests are more reliable than parametric tests for small sample sizes and when data isn't normally distributed"
   ]
  },
  {
   "cell_type": "code",
   "execution_count": 178,
   "metadata": {},
   "outputs": [],
   "source": [
    "x = [1,15,3,10,6]"
   ]
  },
  {
   "cell_type": "code",
   "execution_count": 177,
   "metadata": {},
   "outputs": [
    {
     "data": {
      "text/plain": [
       "array([1., 5., 2., 4., 3.])"
      ]
     },
     "execution_count": 177,
     "metadata": {},
     "output_type": "execute_result"
    }
   ],
   "source": [
    "from scipy.stats import rankdata\n",
    "rankdata(x)"
   ]
  },
  {
   "attachments": {},
   "cell_type": "markdown",
   "metadata": {},
   "source": [
    "Wilcoxon-signed rank test\n",
    "- The Wilcoxon signed-rank test works well when the assumptions of a paired t-test aren't met\n",
    "- works on the ranked absolute differences between the pairs of data\n",
    "- incorporate the sum of the ranks for negative and positive differences"
   ]
  },
  {
   "cell_type": "code",
   "execution_count": 170,
   "metadata": {},
   "outputs": [
    {
     "data": {
      "text/html": [
       "<div>\n",
       "<style scoped>\n",
       "    .dataframe tbody tr th:only-of-type {\n",
       "        vertical-align: middle;\n",
       "    }\n",
       "\n",
       "    .dataframe tbody tr th {\n",
       "        vertical-align: top;\n",
       "    }\n",
       "\n",
       "    .dataframe thead th {\n",
       "        text-align: right;\n",
       "    }\n",
       "</style>\n",
       "<table border=\"1\" class=\"dataframe\">\n",
       "  <thead>\n",
       "    <tr style=\"text-align: right;\">\n",
       "      <th></th>\n",
       "      <th>state</th>\n",
       "      <th>county</th>\n",
       "      <th>repub_percent_08</th>\n",
       "      <th>repub_percent_12</th>\n",
       "      <th>diff</th>\n",
       "      <th>abs_diff</th>\n",
       "    </tr>\n",
       "  </thead>\n",
       "  <tbody>\n",
       "    <tr>\n",
       "      <th>67</th>\n",
       "      <td>Rhode Island</td>\n",
       "      <td>Kent</td>\n",
       "      <td>40.178890</td>\n",
       "      <td>39.997212</td>\n",
       "      <td>0.181678</td>\n",
       "      <td>0.181678</td>\n",
       "    </tr>\n",
       "    <tr>\n",
       "      <th>34</th>\n",
       "      <td>Kentucky</td>\n",
       "      <td>Taylor</td>\n",
       "      <td>69.686924</td>\n",
       "      <td>68.958904</td>\n",
       "      <td>0.728020</td>\n",
       "      <td>0.728020</td>\n",
       "    </tr>\n",
       "    <tr>\n",
       "      <th>39</th>\n",
       "      <td>Michigan</td>\n",
       "      <td>Cheboygan</td>\n",
       "      <td>49.780591</td>\n",
       "      <td>54.736684</td>\n",
       "      <td>-4.956093</td>\n",
       "      <td>4.956093</td>\n",
       "    </tr>\n",
       "    <tr>\n",
       "      <th>83</th>\n",
       "      <td>Texas</td>\n",
       "      <td>Terrell</td>\n",
       "      <td>62.235067</td>\n",
       "      <td>64.504505</td>\n",
       "      <td>-2.269437</td>\n",
       "      <td>2.269437</td>\n",
       "    </tr>\n",
       "    <tr>\n",
       "      <th>44</th>\n",
       "      <td>Missouri</td>\n",
       "      <td>Iron</td>\n",
       "      <td>47.349343</td>\n",
       "      <td>55.867031</td>\n",
       "      <td>-8.517688</td>\n",
       "      <td>8.517688</td>\n",
       "    </tr>\n",
       "  </tbody>\n",
       "</table>\n",
       "</div>"
      ],
      "text/plain": [
       "           state     county  repub_percent_08  repub_percent_12      diff  \\\n",
       "67  Rhode Island       Kent         40.178890         39.997212  0.181678   \n",
       "34      Kentucky     Taylor         69.686924         68.958904  0.728020   \n",
       "39      Michigan  Cheboygan         49.780591         54.736684 -4.956093   \n",
       "83         Texas    Terrell         62.235067         64.504505 -2.269437   \n",
       "44      Missouri       Iron         47.349343         55.867031 -8.517688   \n",
       "\n",
       "    abs_diff  \n",
       "67  0.181678  \n",
       "34  0.728020  \n",
       "39  4.956093  \n",
       "83  2.269437  \n",
       "44  8.517688  "
      ]
     },
     "execution_count": 170,
     "metadata": {},
     "output_type": "execute_result"
    }
   ],
   "source": [
    "rep_votes_small['abs_diff'] = rep_votes_small['diff'].abs()\n",
    "rep_votes_small"
   ]
  },
  {
   "cell_type": "code",
   "execution_count": 179,
   "metadata": {},
   "outputs": [
    {
     "name": "stdout",
     "output_type": "stream",
     "text": [
      "           state     county  repub_percent_08  repub_percent_12      diff  \\\n",
      "67  Rhode Island       Kent         40.178890         39.997212  0.181678   \n",
      "34      Kentucky     Taylor         69.686924         68.958904  0.728020   \n",
      "39      Michigan  Cheboygan         49.780591         54.736684 -4.956093   \n",
      "83         Texas    Terrell         62.235067         64.504505 -2.269437   \n",
      "44      Missouri       Iron         47.349343         55.867031 -8.517688   \n",
      "\n",
      "    abs_diff  rank_abs_diff  \n",
      "67  0.181678            1.0  \n",
      "34  0.728020            2.0  \n",
      "39  4.956093            4.0  \n",
      "83  2.269437            3.0  \n",
      "44  8.517688            5.0  \n"
     ]
    }
   ],
   "source": [
    "rep_votes_small['rank_abs_diff'] = rankdata(rep_votes_small['abs_diff'])\n",
    "print(rep_votes_small)"
   ]
  },
  {
   "cell_type": "code",
   "execution_count": 182,
   "metadata": {},
   "outputs": [],
   "source": [
    "T_neg_diff  = 4+3+5\n",
    "T_pos_diff = 1+2"
   ]
  },
  {
   "cell_type": "code",
   "execution_count": 183,
   "metadata": {},
   "outputs": [
    {
     "data": {
      "text/plain": [
       "3"
      ]
     },
     "execution_count": 183,
     "metadata": {},
     "output_type": "execute_result"
    }
   ],
   "source": [
    "W = np.min([T_neg_diff,T_pos_diff])\n",
    "W"
   ]
  },
  {
   "cell_type": "code",
   "execution_count": 184,
   "metadata": {},
   "outputs": [
    {
     "data": {
      "text/html": [
       "<div>\n",
       "<style scoped>\n",
       "    .dataframe tbody tr th:only-of-type {\n",
       "        vertical-align: middle;\n",
       "    }\n",
       "\n",
       "    .dataframe tbody tr th {\n",
       "        vertical-align: top;\n",
       "    }\n",
       "\n",
       "    .dataframe thead th {\n",
       "        text-align: right;\n",
       "    }\n",
       "</style>\n",
       "<table border=\"1\" class=\"dataframe\">\n",
       "  <thead>\n",
       "    <tr style=\"text-align: right;\">\n",
       "      <th></th>\n",
       "      <th>W-val</th>\n",
       "      <th>alternative</th>\n",
       "      <th>p-val</th>\n",
       "      <th>RBC</th>\n",
       "      <th>CLES</th>\n",
       "    </tr>\n",
       "  </thead>\n",
       "  <tbody>\n",
       "    <tr>\n",
       "      <th>Wilcoxon</th>\n",
       "      <td>3.0</td>\n",
       "      <td>less</td>\n",
       "      <td>0.15625</td>\n",
       "      <td>-0.6</td>\n",
       "      <td>0.56</td>\n",
       "    </tr>\n",
       "  </tbody>\n",
       "</table>\n",
       "</div>"
      ],
      "text/plain": [
       "          W-val alternative    p-val  RBC  CLES\n",
       "Wilcoxon    3.0        less  0.15625 -0.6  0.56"
      ]
     },
     "execution_count": 184,
     "metadata": {},
     "output_type": "execute_result"
    }
   ],
   "source": [
    "pingouin.wilcoxon(x=rep_votes_small['repub_percent_08'],y=rep_votes_small['repub_percent_12'],alternative='less')"
   ]
  },
  {
   "attachments": {},
   "cell_type": "markdown",
   "metadata": {},
   "source": [
    "The p-value is 2 times larger than the p-value from the ttest, so we should feel more confident with this result given the small sample size.\n",
    "The Wilcoxon test indicates that we do not have evidence that the 2008 republican percentages are smaller than 2012 percentages using this small sample of five rows."
   ]
  },
  {
   "attachments": {},
   "cell_type": "markdown",
   "metadata": {},
   "source": [
    "### Non parametric ANOVA and unpaired t-tests\n",
    "- Wilcoxon-Mann-Whitney test\n",
    "    - A t-test on the ranks of the numeric input\n",
    "    - works on unpaired data"
   ]
  },
  {
   "cell_type": "code",
   "execution_count": 185,
   "metadata": {},
   "outputs": [
    {
     "data": {
      "text/html": [
       "<div>\n",
       "<style scoped>\n",
       "    .dataframe tbody tr th:only-of-type {\n",
       "        vertical-align: middle;\n",
       "    }\n",
       "\n",
       "    .dataframe tbody tr th {\n",
       "        vertical-align: top;\n",
       "    }\n",
       "\n",
       "    .dataframe thead th {\n",
       "        text-align: right;\n",
       "    }\n",
       "</style>\n",
       "<table border=\"1\" class=\"dataframe\">\n",
       "  <thead>\n",
       "    <tr style=\"text-align: right;\">\n",
       "      <th></th>\n",
       "      <th>converted_comp</th>\n",
       "      <th>age_first_code_cut</th>\n",
       "    </tr>\n",
       "  </thead>\n",
       "  <tbody>\n",
       "    <tr>\n",
       "      <th>0</th>\n",
       "      <td>77556.0</td>\n",
       "      <td>adult</td>\n",
       "    </tr>\n",
       "    <tr>\n",
       "      <th>1</th>\n",
       "      <td>74970.0</td>\n",
       "      <td>child</td>\n",
       "    </tr>\n",
       "    <tr>\n",
       "      <th>2</th>\n",
       "      <td>594539.0</td>\n",
       "      <td>child</td>\n",
       "    </tr>\n",
       "    <tr>\n",
       "      <th>3</th>\n",
       "      <td>2000000.0</td>\n",
       "      <td>adult</td>\n",
       "    </tr>\n",
       "    <tr>\n",
       "      <th>4</th>\n",
       "      <td>37816.0</td>\n",
       "      <td>adult</td>\n",
       "    </tr>\n",
       "    <tr>\n",
       "      <th>...</th>\n",
       "      <td>...</td>\n",
       "      <td>...</td>\n",
       "    </tr>\n",
       "    <tr>\n",
       "      <th>2256</th>\n",
       "      <td>145000.0</td>\n",
       "      <td>child</td>\n",
       "    </tr>\n",
       "    <tr>\n",
       "      <th>2257</th>\n",
       "      <td>33972.0</td>\n",
       "      <td>child</td>\n",
       "    </tr>\n",
       "    <tr>\n",
       "      <th>2258</th>\n",
       "      <td>97284.0</td>\n",
       "      <td>child</td>\n",
       "    </tr>\n",
       "    <tr>\n",
       "      <th>2259</th>\n",
       "      <td>72000.0</td>\n",
       "      <td>child</td>\n",
       "    </tr>\n",
       "    <tr>\n",
       "      <th>2260</th>\n",
       "      <td>180000.0</td>\n",
       "      <td>child</td>\n",
       "    </tr>\n",
       "  </tbody>\n",
       "</table>\n",
       "<p>2261 rows × 2 columns</p>\n",
       "</div>"
      ],
      "text/plain": [
       "      converted_comp age_first_code_cut\n",
       "0            77556.0              adult\n",
       "1            74970.0              child\n",
       "2           594539.0              child\n",
       "3          2000000.0              adult\n",
       "4            37816.0              adult\n",
       "...              ...                ...\n",
       "2256        145000.0              child\n",
       "2257         33972.0              child\n",
       "2258         97284.0              child\n",
       "2259         72000.0              child\n",
       "2260        180000.0              child\n",
       "\n",
       "[2261 rows x 2 columns]"
      ]
     },
     "execution_count": 185,
     "metadata": {},
     "output_type": "execute_result"
    }
   ],
   "source": [
    "age_vs_comp = stack_overflow[['converted_comp','age_first_code_cut']]\n",
    "age_vs_comp"
   ]
  },
  {
   "cell_type": "code",
   "execution_count": 186,
   "metadata": {},
   "outputs": [
    {
     "data": {
      "text/html": [
       "<div>\n",
       "<style scoped>\n",
       "    .dataframe tbody tr th:only-of-type {\n",
       "        vertical-align: middle;\n",
       "    }\n",
       "\n",
       "    .dataframe tbody tr th {\n",
       "        vertical-align: top;\n",
       "    }\n",
       "\n",
       "    .dataframe thead th {\n",
       "        text-align: right;\n",
       "    }\n",
       "</style>\n",
       "<table border=\"1\" class=\"dataframe\">\n",
       "  <thead>\n",
       "    <tr style=\"text-align: right;\">\n",
       "      <th>age_first_code_cut</th>\n",
       "      <th>adult</th>\n",
       "      <th>child</th>\n",
       "    </tr>\n",
       "  </thead>\n",
       "  <tbody>\n",
       "    <tr>\n",
       "      <th>0</th>\n",
       "      <td>77556.0</td>\n",
       "      <td>NaN</td>\n",
       "    </tr>\n",
       "    <tr>\n",
       "      <th>1</th>\n",
       "      <td>NaN</td>\n",
       "      <td>74970.0</td>\n",
       "    </tr>\n",
       "    <tr>\n",
       "      <th>2</th>\n",
       "      <td>NaN</td>\n",
       "      <td>594539.0</td>\n",
       "    </tr>\n",
       "    <tr>\n",
       "      <th>3</th>\n",
       "      <td>2000000.0</td>\n",
       "      <td>NaN</td>\n",
       "    </tr>\n",
       "    <tr>\n",
       "      <th>4</th>\n",
       "      <td>37816.0</td>\n",
       "      <td>NaN</td>\n",
       "    </tr>\n",
       "    <tr>\n",
       "      <th>...</th>\n",
       "      <td>...</td>\n",
       "      <td>...</td>\n",
       "    </tr>\n",
       "    <tr>\n",
       "      <th>2256</th>\n",
       "      <td>NaN</td>\n",
       "      <td>145000.0</td>\n",
       "    </tr>\n",
       "    <tr>\n",
       "      <th>2257</th>\n",
       "      <td>NaN</td>\n",
       "      <td>33972.0</td>\n",
       "    </tr>\n",
       "    <tr>\n",
       "      <th>2258</th>\n",
       "      <td>NaN</td>\n",
       "      <td>97284.0</td>\n",
       "    </tr>\n",
       "    <tr>\n",
       "      <th>2259</th>\n",
       "      <td>NaN</td>\n",
       "      <td>72000.0</td>\n",
       "    </tr>\n",
       "    <tr>\n",
       "      <th>2260</th>\n",
       "      <td>NaN</td>\n",
       "      <td>180000.0</td>\n",
       "    </tr>\n",
       "  </tbody>\n",
       "</table>\n",
       "<p>2261 rows × 2 columns</p>\n",
       "</div>"
      ],
      "text/plain": [
       "age_first_code_cut      adult     child\n",
       "0                     77556.0       NaN\n",
       "1                         NaN   74970.0\n",
       "2                         NaN  594539.0\n",
       "3                   2000000.0       NaN\n",
       "4                     37816.0       NaN\n",
       "...                       ...       ...\n",
       "2256                      NaN  145000.0\n",
       "2257                      NaN   33972.0\n",
       "2258                      NaN   97284.0\n",
       "2259                      NaN   72000.0\n",
       "2260                      NaN  180000.0\n",
       "\n",
       "[2261 rows x 2 columns]"
      ]
     },
     "execution_count": 186,
     "metadata": {},
     "output_type": "execute_result"
    }
   ],
   "source": [
    "age_vs_comp_wide = age_vs_comp.pivot(columns='age_first_code_cut',values='converted_comp')\n",
    "age_vs_comp_wide\n",
    "# An adult value of NaN corresponds to a child entry and a child value of NaN corresponds to an adult entry"
   ]
  },
  {
   "cell_type": "code",
   "execution_count": 187,
   "metadata": {},
   "outputs": [
    {
     "data": {
      "text/html": [
       "<div>\n",
       "<style scoped>\n",
       "    .dataframe tbody tr th:only-of-type {\n",
       "        vertical-align: middle;\n",
       "    }\n",
       "\n",
       "    .dataframe tbody tr th {\n",
       "        vertical-align: top;\n",
       "    }\n",
       "\n",
       "    .dataframe thead th {\n",
       "        text-align: right;\n",
       "    }\n",
       "</style>\n",
       "<table border=\"1\" class=\"dataframe\">\n",
       "  <thead>\n",
       "    <tr style=\"text-align: right;\">\n",
       "      <th></th>\n",
       "      <th>U-val</th>\n",
       "      <th>alternative</th>\n",
       "      <th>p-val</th>\n",
       "      <th>RBC</th>\n",
       "      <th>CLES</th>\n",
       "    </tr>\n",
       "  </thead>\n",
       "  <tbody>\n",
       "    <tr>\n",
       "      <th>MWU</th>\n",
       "      <td>744365.5</td>\n",
       "      <td>greater</td>\n",
       "      <td>1.902723e-19</td>\n",
       "      <td>-0.222516</td>\n",
       "      <td>0.611258</td>\n",
       "    </tr>\n",
       "  </tbody>\n",
       "</table>\n",
       "</div>"
      ],
      "text/plain": [
       "        U-val alternative         p-val       RBC      CLES\n",
       "MWU  744365.5     greater  1.902723e-19 -0.222516  0.611258"
      ]
     },
     "execution_count": 187,
     "metadata": {},
     "output_type": "execute_result"
    }
   ],
   "source": [
    "pingouin.mwu(x=age_vs_comp_wide['child'],y=age_vs_comp_wide['adult'],alternative='greater')"
   ]
  },
  {
   "attachments": {},
   "cell_type": "markdown",
   "metadata": {},
   "source": [
    "### Kruskal-Wallis test\n",
    "- Kruskal-Wallis test is to Wilcoxon-Mann-Whitney test as ANOVA is to t-test (Non-Parametric version of ANOVA)\n",
    "- works on long data"
   ]
  },
  {
   "cell_type": "code",
   "execution_count": 188,
   "metadata": {},
   "outputs": [
    {
     "data": {
      "text/html": [
       "<div>\n",
       "<style scoped>\n",
       "    .dataframe tbody tr th:only-of-type {\n",
       "        vertical-align: middle;\n",
       "    }\n",
       "\n",
       "    .dataframe tbody tr th {\n",
       "        vertical-align: top;\n",
       "    }\n",
       "\n",
       "    .dataframe thead th {\n",
       "        text-align: right;\n",
       "    }\n",
       "</style>\n",
       "<table border=\"1\" class=\"dataframe\">\n",
       "  <thead>\n",
       "    <tr style=\"text-align: right;\">\n",
       "      <th></th>\n",
       "      <th>Source</th>\n",
       "      <th>ddof1</th>\n",
       "      <th>H</th>\n",
       "      <th>p-unc</th>\n",
       "    </tr>\n",
       "  </thead>\n",
       "  <tbody>\n",
       "    <tr>\n",
       "      <th>Kruskal</th>\n",
       "      <td>job_sat</td>\n",
       "      <td>4</td>\n",
       "      <td>72.814939</td>\n",
       "      <td>5.772915e-15</td>\n",
       "    </tr>\n",
       "  </tbody>\n",
       "</table>\n",
       "</div>"
      ],
      "text/plain": [
       "          Source  ddof1          H         p-unc\n",
       "Kruskal  job_sat      4  72.814939  5.772915e-15"
      ]
     },
     "execution_count": 188,
     "metadata": {},
     "output_type": "execute_result"
    }
   ],
   "source": [
    "pingouin.kruskal(data=stack_overflow,dv='converted_comp',between='job_sat')"
   ]
  },
  {
   "attachments": {},
   "cell_type": "markdown",
   "metadata": {},
   "source": [
    "    The Kruskal-Wallis test yielded a very small p-value, so there is evidence that at least one of the three groups of converted_comp has a different job_sat distribution than the others."
   ]
  },
  {
   "cell_type": "code",
   "execution_count": null,
   "metadata": {},
   "outputs": [],
   "source": []
  }
 ],
 "metadata": {
  "kernelspec": {
   "display_name": "venv",
   "language": "python",
   "name": "python3"
  },
  "language_info": {
   "codemirror_mode": {
    "name": "ipython",
    "version": 3
   },
   "file_extension": ".py",
   "mimetype": "text/x-python",
   "name": "python",
   "nbconvert_exporter": "python",
   "pygments_lexer": "ipython3",
   "version": "3.11.0 (v3.11.0:deaf509e8f, Oct 24 2022, 14:43:23) [Clang 13.0.0 (clang-1300.0.29.30)]"
  },
  "orig_nbformat": 4,
  "vscode": {
   "interpreter": {
    "hash": "b56102e69f978b9d9eb581d737c7d835de3b67b03c7af637c3b4cd0cef8a3a3b"
   }
  }
 },
 "nbformat": 4,
 "nbformat_minor": 2
}
