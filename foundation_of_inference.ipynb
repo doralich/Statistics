{
 "cells": [
  {
   "cell_type": "code",
   "execution_count": 65,
   "metadata": {},
   "outputs": [],
   "source": [
    "import numpy as np\n",
    "import pandas as pd\n",
    "import matplotlib.pyplot as plt\n",
    "import seaborn as sns\n",
    "from scipy import stats"
   ]
  },
  {
   "cell_type": "code",
   "execution_count": 2,
   "metadata": {},
   "outputs": [
    {
     "data": {
      "text/html": [
       "<div>\n",
       "<style scoped>\n",
       "    .dataframe tbody tr th:only-of-type {\n",
       "        vertical-align: middle;\n",
       "    }\n",
       "\n",
       "    .dataframe tbody tr th {\n",
       "        vertical-align: top;\n",
       "    }\n",
       "\n",
       "    .dataframe thead th {\n",
       "        text-align: right;\n",
       "    }\n",
       "</style>\n",
       "<table border=\"1\" class=\"dataframe\">\n",
       "  <thead>\n",
       "    <tr style=\"text-align: right;\">\n",
       "      <th></th>\n",
       "      <th>Date</th>\n",
       "      <th>Open_BTC</th>\n",
       "      <th>High_BTC</th>\n",
       "      <th>Low_BTC</th>\n",
       "      <th>Close_BTC</th>\n",
       "      <th>Close_SP500</th>\n",
       "      <th>Open_SP500</th>\n",
       "      <th>High_SP500</th>\n",
       "      <th>Low_SP500</th>\n",
       "    </tr>\n",
       "  </thead>\n",
       "  <tbody>\n",
       "    <tr>\n",
       "      <th>0</th>\n",
       "      <td>2017-08-07</td>\n",
       "      <td>3212.780029</td>\n",
       "      <td>3397.679932</td>\n",
       "      <td>3180.889893</td>\n",
       "      <td>3378.939941</td>\n",
       "      <td>2480.91</td>\n",
       "      <td>2477.14</td>\n",
       "      <td>2480.95</td>\n",
       "      <td>2475.88</td>\n",
       "    </tr>\n",
       "    <tr>\n",
       "      <th>1</th>\n",
       "      <td>2017-08-08</td>\n",
       "      <td>3370.219971</td>\n",
       "      <td>3484.850098</td>\n",
       "      <td>3345.830078</td>\n",
       "      <td>3419.939941</td>\n",
       "      <td>2474.92</td>\n",
       "      <td>2478.35</td>\n",
       "      <td>2490.87</td>\n",
       "      <td>2470.32</td>\n",
       "    </tr>\n",
       "    <tr>\n",
       "      <th>2</th>\n",
       "      <td>2017-08-09</td>\n",
       "      <td>3420.399902</td>\n",
       "      <td>3422.760010</td>\n",
       "      <td>3247.669922</td>\n",
       "      <td>3342.469971</td>\n",
       "      <td>2474.02</td>\n",
       "      <td>2465.35</td>\n",
       "      <td>2474.41</td>\n",
       "      <td>2462.08</td>\n",
       "    </tr>\n",
       "    <tr>\n",
       "      <th>3</th>\n",
       "      <td>2017-08-10</td>\n",
       "      <td>3341.840088</td>\n",
       "      <td>3453.449951</td>\n",
       "      <td>3319.469971</td>\n",
       "      <td>3381.280029</td>\n",
       "      <td>2438.21</td>\n",
       "      <td>2465.38</td>\n",
       "      <td>2465.38</td>\n",
       "      <td>2437.75</td>\n",
       "    </tr>\n",
       "    <tr>\n",
       "      <th>4</th>\n",
       "      <td>2017-08-11</td>\n",
       "      <td>3373.820068</td>\n",
       "      <td>3679.719971</td>\n",
       "      <td>3372.120117</td>\n",
       "      <td>3650.620117</td>\n",
       "      <td>2441.32</td>\n",
       "      <td>2441.04</td>\n",
       "      <td>2448.09</td>\n",
       "      <td>2437.85</td>\n",
       "    </tr>\n",
       "    <tr>\n",
       "      <th>...</th>\n",
       "      <td>...</td>\n",
       "      <td>...</td>\n",
       "      <td>...</td>\n",
       "      <td>...</td>\n",
       "      <td>...</td>\n",
       "      <td>...</td>\n",
       "      <td>...</td>\n",
       "      <td>...</td>\n",
       "      <td>...</td>\n",
       "    </tr>\n",
       "    <tr>\n",
       "      <th>1253</th>\n",
       "      <td>2022-07-29</td>\n",
       "      <td>23845.212891</td>\n",
       "      <td>24294.787109</td>\n",
       "      <td>23481.173828</td>\n",
       "      <td>23804.632813</td>\n",
       "      <td>4130.29</td>\n",
       "      <td>4087.33</td>\n",
       "      <td>4140.15</td>\n",
       "      <td>4079.22</td>\n",
       "    </tr>\n",
       "    <tr>\n",
       "      <th>1254</th>\n",
       "      <td>2022-08-01</td>\n",
       "      <td>23336.718750</td>\n",
       "      <td>23464.787109</td>\n",
       "      <td>22890.796875</td>\n",
       "      <td>23314.199219</td>\n",
       "      <td>4118.63</td>\n",
       "      <td>4112.38</td>\n",
       "      <td>4144.95</td>\n",
       "      <td>4096.02</td>\n",
       "    </tr>\n",
       "    <tr>\n",
       "      <th>1255</th>\n",
       "      <td>2022-08-02</td>\n",
       "      <td>23308.433594</td>\n",
       "      <td>23415.041016</td>\n",
       "      <td>22710.083984</td>\n",
       "      <td>22978.117188</td>\n",
       "      <td>4091.19</td>\n",
       "      <td>4104.21</td>\n",
       "      <td>4140.47</td>\n",
       "      <td>4079.81</td>\n",
       "    </tr>\n",
       "    <tr>\n",
       "      <th>1256</th>\n",
       "      <td>2022-08-03</td>\n",
       "      <td>22981.302734</td>\n",
       "      <td>23578.650391</td>\n",
       "      <td>22747.835938</td>\n",
       "      <td>22846.507813</td>\n",
       "      <td>4155.17</td>\n",
       "      <td>4107.96</td>\n",
       "      <td>4167.66</td>\n",
       "      <td>4107.96</td>\n",
       "    </tr>\n",
       "    <tr>\n",
       "      <th>1257</th>\n",
       "      <td>2022-08-04</td>\n",
       "      <td>22848.214844</td>\n",
       "      <td>23198.009766</td>\n",
       "      <td>22485.701172</td>\n",
       "      <td>22630.957031</td>\n",
       "      <td>4151.94</td>\n",
       "      <td>4154.85</td>\n",
       "      <td>4161.29</td>\n",
       "      <td>4135.42</td>\n",
       "    </tr>\n",
       "  </tbody>\n",
       "</table>\n",
       "<p>1258 rows × 9 columns</p>\n",
       "</div>"
      ],
      "text/plain": [
       "            Date      Open_BTC      High_BTC       Low_BTC     Close_BTC  \\\n",
       "0     2017-08-07   3212.780029   3397.679932   3180.889893   3378.939941   \n",
       "1     2017-08-08   3370.219971   3484.850098   3345.830078   3419.939941   \n",
       "2     2017-08-09   3420.399902   3422.760010   3247.669922   3342.469971   \n",
       "3     2017-08-10   3341.840088   3453.449951   3319.469971   3381.280029   \n",
       "4     2017-08-11   3373.820068   3679.719971   3372.120117   3650.620117   \n",
       "...          ...           ...           ...           ...           ...   \n",
       "1253  2022-07-29  23845.212891  24294.787109  23481.173828  23804.632813   \n",
       "1254  2022-08-01  23336.718750  23464.787109  22890.796875  23314.199219   \n",
       "1255  2022-08-02  23308.433594  23415.041016  22710.083984  22978.117188   \n",
       "1256  2022-08-03  22981.302734  23578.650391  22747.835938  22846.507813   \n",
       "1257  2022-08-04  22848.214844  23198.009766  22485.701172  22630.957031   \n",
       "\n",
       "      Close_SP500  Open_SP500  High_SP500  Low_SP500  \n",
       "0         2480.91     2477.14     2480.95    2475.88  \n",
       "1         2474.92     2478.35     2490.87    2470.32  \n",
       "2         2474.02     2465.35     2474.41    2462.08  \n",
       "3         2438.21     2465.38     2465.38    2437.75  \n",
       "4         2441.32     2441.04     2448.09    2437.85  \n",
       "...           ...         ...         ...        ...  \n",
       "1253      4130.29     4087.33     4140.15    4079.22  \n",
       "1254      4118.63     4112.38     4144.95    4096.02  \n",
       "1255      4091.19     4104.21     4140.47    4079.81  \n",
       "1256      4155.17     4107.96     4167.66    4107.96  \n",
       "1257      4151.94     4154.85     4161.29    4135.42  \n",
       "\n",
       "[1258 rows x 9 columns]"
      ]
     },
     "execution_count": 2,
     "metadata": {},
     "output_type": "execute_result"
    }
   ],
   "source": [
    "btc_sp_df = pd.read_csv('data/btc_sp.csv')\n",
    "btc_sp_df"
   ]
  },
  {
   "attachments": {},
   "cell_type": "markdown",
   "metadata": {},
   "source": [
    "You decide to choose ninety consecutive days to analyze the percent growth of each asset over the same time period. Your goal is to use this sample to better understand the growth of both assets in general."
   ]
  },
  {
   "cell_type": "code",
   "execution_count": 3,
   "metadata": {},
   "outputs": [
    {
     "name": "stdout",
     "output_type": "stream",
     "text": [
      "SP500:  -0.08349491451235762 \n",
      " BTC:  0.051044857539102234\n"
     ]
    }
   ],
   "source": [
    "# Select a random starting row not including the last 90 rows\n",
    "initial_row = np.random.choice(range(0, len(btc_sp_df)- 90))\n",
    "\n",
    "# Select the next 90 rows\n",
    "sample_df = btc_sp_df.iloc[initial_row:(initial_row + 90)]\n",
    "\n",
    "# Compute the percent increase in closing price of the SP500\n",
    "sp500_pct_change = (sample_df.iloc[0]['Close_SP500'] - sample_df.iloc[-1]['Close_SP500']) / sample_df.iloc[0]['Close_SP500']\n",
    "\n",
    "# Compute the percent increase in closing price of BTC\n",
    "btc_pct_change = (sample_df.iloc[0]['Close_BTC'] - sample_df.iloc[-1]['Close_BTC']) / sample_df.iloc[0]['Close_BTC']\n",
    "\n",
    "print('SP500: ', sp500_pct_change, '\\n', 'BTC: ', btc_pct_change)"
   ]
  },
  {
   "attachments": {},
   "cell_type": "markdown",
   "metadata": {},
   "source": [
    "    Notice how the SP500 and BTC had different percent increases over the 90 day period. However, the exact value you get depends heavily on exactly which 90 days you're looking at. In other words, your point estimate depends on your sample."
   ]
  },
  {
   "attachments": {},
   "cell_type": "markdown",
   "metadata": {},
   "source": [
    "You used a single sample of ninety days to make your conclusion. However, what if you had a different ninety days. Would your conclusions be different?\n",
    "\n",
    "One way to assess this is by taking repeated samples. By repeatedly sampling from your data and computing your point estimate you can see how it changes."
   ]
  },
  {
   "cell_type": "code",
   "execution_count": 4,
   "metadata": {},
   "outputs": [
    {
     "name": "stdout",
     "output_type": "stream",
     "text": [
      "-1.072317621988336\n",
      "0.08559150162538527\n",
      "0.44746009619164107\n",
      "0.3104624735572092\n",
      "0.42218296708934766\n",
      "-0.37642302163140334\n",
      "-1.7821775754220384\n",
      "0.43966315562849295\n",
      "0.4477357774832645\n",
      "-1.0038910195812933\n"
     ]
    }
   ],
   "source": [
    "# Write a for loop which repeats the sampling ten times\n",
    "for i in range(10):\n",
    "    # Select a random starting row \n",
    "    initial_row = np.random.choice(range(btc_sp_df.shape[0] - 90))\n",
    "    # Select the next 90 rows after the starting row\n",
    "    sample_df = btc_sp_df.iloc[initial_row:initial_row + 90]\n",
    "    # Compute the percent change in closing price of BTC and print it\n",
    "    btc_pct_change = (sample_df.iloc[0]['Close_BTC'] - sample_df.iloc[-1]['Close_BTC']) / sample_df.iloc[0]['Close_BTC']\n",
    "    print(btc_pct_change)"
   ]
  },
  {
   "attachments": {},
   "cell_type": "markdown",
   "metadata": {},
   "source": [
    "### Sampling and bias\n",
    "\n",
    "We saw that inference is directly influenced by the sample chosen. This means that our choice of a sample is fundamental in making principled, repeatable, and valid inference.\n",
    "\n",
    "The main concern when selecting a sample is bias.\n",
    "- Bias sample: A group occurs more/less often in sample than in population"
   ]
  },
  {
   "attachments": {},
   "cell_type": "markdown",
   "metadata": {},
   "source": [
    "***\n",
    "You saw that a single sample can give an unreliable point estimate. To investigate this you decide to take 100 samples of 90 contiguous days of BTC trading data. For each of these 100 samples you compute the percent change in BTC over that time period. You then want to plot this data as a histogram to understand the sampling distribution.\n",
    "\n"
   ]
  },
  {
   "cell_type": "code",
   "execution_count": 5,
   "metadata": {},
   "outputs": [],
   "source": [
    "btc_pct_change_list =[]\n",
    "# Write a for loop which repeats the sampling 100 times\n",
    "for i in range(100):\n",
    "    # Select a random starting row \n",
    "    initial_row = np.random.choice(range(btc_sp_df.shape[0] - 90))\n",
    "    # Select the next 90 rows after the starting row\n",
    "    sample_df = btc_sp_df.iloc[initial_row:initial_row + 90]\n",
    "    # Compute the percent change in closing price of BTC and print it\n",
    "    btc_pct_change = (sample_df.iloc[0]['Close_BTC'] - sample_df.iloc[-1]['Close_BTC']) / sample_df.iloc[0]['Close_BTC']\n",
    "    btc_pct_change_list.append(btc_pct_change)"
   ]
  },
  {
   "cell_type": "code",
   "execution_count": 6,
   "metadata": {},
   "outputs": [
    {
     "data": {
      "image/png": "[encoded data removed]",
      "text/plain": [
       "<Figure size 640x480 with 1 Axes>"
      ]
     },
     "metadata": {},
     "output_type": "display_data"
    }
   ],
   "source": [
    "# Plot a histogram of percent changes\n",
    "plt.hist(btc_pct_change_list, bins=15, density=True)\n",
    "# Set the x-axis label\n",
    "plt.xlabel('BTC 90-day percent change')\n",
    "# Set the y-axis label\n",
    "plt.ylabel('Percent of samples')\n",
    "# Set the title\n",
    "plt.title('Sampling distribution of BTC 90-day change')\n",
    "\n",
    "plt.show()"
   ]
  },
  {
   "attachments": {},
   "cell_type": "markdown",
   "metadata": {},
   "source": [
    "    Notice that although a percent change in BTC around zero was the most common, it was far from the only outcome. The long tail to the left indicates that periods with a large drop happen often enough to not just be dismissed as outliers."
   ]
  },
  {
   "attachments": {},
   "cell_type": "markdown",
   "metadata": {},
   "source": [
    "### Confidence intervals and sampling\n",
    "\n",
    "While point estimates are one tool for inference, a single number will never be a perfect estimate of a population statistic.\n",
    "\n",
    "A confidence interval takes a sample and uses it to generate a range of values, within which we have high confidence that the population statistic we are estimating lies.\n",
    "\n",
    "Example:\n",
    "- sample of 100 employees\n",
    "- mean salary of $80,000\n",
    "- standard deviation of $ 10,000\n",
    "\n",
    "we can use this information to generate a confidence interval for the average salary of all employees at the companny\n",
    "\n",
    "- Valid inference requires a normal sampling distribution."
   ]
  },
  {
   "cell_type": "code",
   "execution_count": 7,
   "metadata": {},
   "outputs": [
    {
     "name": "stdout",
     "output_type": "stream",
     "text": [
      "(78040.03601545995, 81959.96398454005)\n"
     ]
    }
   ],
   "source": [
    "\n",
    "\n",
    "ci = stats.norm.interval(\n",
    "    loc = 80000,  # mean\n",
    "    scale = 10000/np.sqrt(100), # standard error\n",
    "    confidence = 0.95 # confidence level\n",
    ")\n",
    "print(ci)"
   ]
  },
  {
   "attachments": {},
   "cell_type": "markdown",
   "metadata": {},
   "source": [
    "#### Central Limit Theorem\n",
    "\n",
    "In short, the central limit theorem tells us that if we take the average of many independent samples, the resulting sampling distribution will be approximately normal."
   ]
  },
  {
   "cell_type": "code",
   "execution_count": 8,
   "metadata": {},
   "outputs": [],
   "source": [
    "population = [0,1,2,3,4,5,6,7,8,9]\n",
    "sample_means = []\n",
    "for i in range(10000):\n",
    "    sample_5 = np.random.choice(population,size=5)\n",
    "    sample_means.append(sample_5.mean())"
   ]
  },
  {
   "cell_type": "code",
   "execution_count": 9,
   "metadata": {},
   "outputs": [
    {
     "data": {
      "image/png": "[encoded data removed]",
      "text/plain": [
       "<Figure size 640x480 with 1 Axes>"
      ]
     },
     "metadata": {},
     "output_type": "display_data"
    }
   ],
   "source": [
    "sns.histplot(data =sample_means,bins=10)\n",
    "plt.axvline(2.6,color = 'red')\n",
    "plt.axvline(7.2,color = 'red')\n",
    "plt.show()"
   ]
  },
  {
   "attachments": {},
   "cell_type": "markdown",
   "metadata": {},
   "source": [
    "Once we graph the sampling distribution we see that it is approximately normal. If we wanted just the middle 95% of this data, we could see that,95% of the time, the mean will lie between 2.6 and 7.2. In other words, 95% of the time the population mean will be in this range.\n",
    "\n",
    "Finally, our confidence interval comes from the mean and standard error of our sample. Thereforem different samples will yield different confidence intervals, and thus potentially different conclusions.\n",
    "\n",
    "We cannot say:\n",
    "- there is a 95% chance the population statistic is in the confidence interval\n",
    "\n",
    "Instead:\n",
    "- If we took many samples and constructed a confidence interval each time, then about 95% of the time our population statistic would lie in the confidence interval.\n",
    "    - Repeated samples -> 95% of confidence intervals contain population statistic"
   ]
  },
  {
   "cell_type": "code",
   "execution_count": 10,
   "metadata": {},
   "outputs": [
    {
     "data": {
      "image/png": "[encoded data removed]",
      "text/plain": [
       "<Figure size 640x480 with 1 Axes>"
      ]
     },
     "metadata": {},
     "output_type": "display_data"
    }
   ],
   "source": [
    "# Define the number of samples to take and store the sample means\n",
    "num_samples = 200\n",
    "sample_means = []\n",
    "\n",
    "# Write a for loop which repeats the sampling num_samples times\n",
    "for i in range(num_samples):\n",
    "  # Select 500 random SP500 closing prices \n",
    "  sp500_sample = btc_sp_df['Close_SP500'].sample(n=500)\n",
    "  # Compute mean closing price and save it to sample_means\n",
    "  sample_means.append(sp500_sample.mean())\n",
    "    \n",
    "plt.hist(sample_means,bins=10)\n",
    "plt.show()"
   ]
  },
  {
   "attachments": {},
   "cell_type": "markdown",
   "metadata": {},
   "source": [
    "    Notice how the sampling distribution is approximately normal, indicating that a confidence interval is a valid choice for estimating the closing price of the SP500. "
   ]
  },
  {
   "cell_type": "code",
   "execution_count": 11,
   "metadata": {},
   "outputs": [
    {
     "data": {
      "text/plain": [
       "(3260.233508729543, 3382.787051270458)"
      ]
     },
     "execution_count": 11,
     "metadata": {},
     "output_type": "execute_result"
    }
   ],
   "source": [
    "# Select a sample of 500 random days\n",
    "sample_df = btc_sp_df['Close_SP500'].sample(n=500)\n",
    "\n",
    "# Calculate the mean of the sample\n",
    "sample_mean = sample_df.mean()\n",
    "\n",
    "# Calculate the standard error of the sample\n",
    "sample_se = sample_df.std() / np.sqrt(sample_df.shape[0])\n",
    "\n",
    "# Calculate a 95% confidence interval using this data\n",
    "stats.norm.interval(confidence=0.95,\n",
    "                   loc=sample_mean,\n",
    "                   scale=sample_se)"
   ]
  },
  {
   "attachments": {},
   "cell_type": "markdown",
   "metadata": {},
   "source": [
    "    Notice how your confidence interval is relatively narrow, since the sample size was large enough to give you a reasonable estimate of the mean."
   ]
  },
  {
   "attachments": {},
   "cell_type": "markdown",
   "metadata": {},
   "source": [
    "You've seen how random sampling can be used to choose a sample of data which is (hopefully!) representative of the population you are studying. You've also seen how bias in sampling procedure can result in conclusions that are suspect at best, and completely wrong at worst.\n",
    "\n",
    "In this exercise you'll analyze the average closing price of the S&P 500. If you take two different samples of trading days and compute confidence intervals for each, should you expect to see the same result? It's time for you to dive in and see!"
   ]
  },
  {
   "cell_type": "code",
   "execution_count": 12,
   "metadata": {},
   "outputs": [
    {
     "name": "stdout",
     "output_type": "stream",
     "text": [
      "(3292.7692695806118, 3417.4475704193883)\n"
     ]
    }
   ],
   "source": [
    "# Sample 1: Select a random sample of 500 rows\n",
    "sample_df = btc_sp_df.sample(n=500)\n",
    "\n",
    "# Compute a 95% confidence interval for the closing price of SP500\n",
    "sample_ci = stats.norm.interval(confidence=0.95, \n",
    "                            loc=sample_df['Close_SP500'].mean(), \n",
    "                            scale=sample_df['Close_SP500'].std()/np.sqrt(500)\n",
    ")\n",
    "print(sample_ci)"
   ]
  },
  {
   "cell_type": "code",
   "execution_count": 13,
   "metadata": {},
   "outputs": [
    {
     "name": "stdout",
     "output_type": "stream",
     "text": [
      "(2719.898053221996, 2744.858786778004)\n"
     ]
    }
   ],
   "source": [
    "# Sample 2: Select the first 500 rows\n",
    "first_500_df = btc_sp_df.iloc[:500]\n",
    "\n",
    "# Compute a 95% confidence interval for the closing price of SP500\n",
    "first_500_ci = stats.norm.interval(\n",
    "\tconfidence=0.95,\n",
    "\tloc=first_500_df['Close_SP500'].mean(), \n",
    "\tscale=first_500_df['Close_SP500'].std()/np.sqrt(500)\n",
    ")\n",
    "\n",
    "print(first_500_ci)"
   ]
  },
  {
   "attachments": {},
   "cell_type": "markdown",
   "metadata": {},
   "source": [
    "***Notice that the sample_ci and first_500_ci values in the console are different. How is this possible?***\n",
    ">While your samples may be randomly chosen, their corresponding mean and standard error are vastly different. This causes us to get completely different confidence intervals! "
   ]
  },
  {
   "attachments": {},
   "cell_type": "markdown",
   "metadata": {},
   "source": [
    "### Normality tests\n",
    "\n",
    "A powerful suite of statistical tools, which includes several common hypothesis tests, depends on the assumption that the underlying data is normally distributed. While a histogram can hint at whether the data is approximately normally distributed, various hypothesis tests allow us to test this assumption directly. Moreover, histograms can be very sensitive to the number of bins, especially when the sample sizes are small."
   ]
  },
  {
   "cell_type": "code",
   "execution_count": 14,
   "metadata": {},
   "outputs": [
    {
     "data": {
      "text/html": [
       "<div>\n",
       "<style scoped>\n",
       "    .dataframe tbody tr th:only-of-type {\n",
       "        vertical-align: middle;\n",
       "    }\n",
       "\n",
       "    .dataframe tbody tr th {\n",
       "        vertical-align: top;\n",
       "    }\n",
       "\n",
       "    .dataframe thead th {\n",
       "        text-align: right;\n",
       "    }\n",
       "</style>\n",
       "<table border=\"1\" class=\"dataframe\">\n",
       "  <thead>\n",
       "    <tr style=\"text-align: right;\">\n",
       "      <th></th>\n",
       "      <th>Title</th>\n",
       "      <th>Gender</th>\n",
       "      <th>Ethnicity</th>\n",
       "      <th>Annual Salary</th>\n",
       "      <th>Years of Employment</th>\n",
       "    </tr>\n",
       "  </thead>\n",
       "  <tbody>\n",
       "    <tr>\n",
       "      <th>0</th>\n",
       "      <td>Administrative Specialist</td>\n",
       "      <td>F</td>\n",
       "      <td>White</td>\n",
       "      <td>51542.4</td>\n",
       "      <td>6</td>\n",
       "    </tr>\n",
       "    <tr>\n",
       "      <th>1</th>\n",
       "      <td>Administrative Specialist</td>\n",
       "      <td>M</td>\n",
       "      <td>Black or African American</td>\n",
       "      <td>48235.2</td>\n",
       "      <td>11</td>\n",
       "    </tr>\n",
       "    <tr>\n",
       "      <th>2</th>\n",
       "      <td>Administrative Specialist</td>\n",
       "      <td>F</td>\n",
       "      <td>Hispanic or Latino</td>\n",
       "      <td>51542.4</td>\n",
       "      <td>14</td>\n",
       "    </tr>\n",
       "    <tr>\n",
       "      <th>3</th>\n",
       "      <td>Administrative Specialist</td>\n",
       "      <td>F</td>\n",
       "      <td>Hispanic or Latino</td>\n",
       "      <td>48235.2</td>\n",
       "      <td>3</td>\n",
       "    </tr>\n",
       "    <tr>\n",
       "      <th>4</th>\n",
       "      <td>MuniProg, Paraprofessional</td>\n",
       "      <td>F</td>\n",
       "      <td>White</td>\n",
       "      <td>50668.8</td>\n",
       "      <td>2</td>\n",
       "    </tr>\n",
       "    <tr>\n",
       "      <th>...</th>\n",
       "      <td>...</td>\n",
       "      <td>...</td>\n",
       "      <td>...</td>\n",
       "      <td>...</td>\n",
       "      <td>...</td>\n",
       "    </tr>\n",
       "    <tr>\n",
       "      <th>3389</th>\n",
       "      <td>Administrative Specialist</td>\n",
       "      <td>F</td>\n",
       "      <td>White</td>\n",
       "      <td>51542.4</td>\n",
       "      <td>34</td>\n",
       "    </tr>\n",
       "    <tr>\n",
       "      <th>3390</th>\n",
       "      <td>Administrative Specialist</td>\n",
       "      <td>F</td>\n",
       "      <td>Hispanic or Latino</td>\n",
       "      <td>41579.2</td>\n",
       "      <td>3</td>\n",
       "    </tr>\n",
       "    <tr>\n",
       "      <th>3391</th>\n",
       "      <td>Administrative Specialist</td>\n",
       "      <td>F</td>\n",
       "      <td>Hispanic or Latino</td>\n",
       "      <td>51542.4</td>\n",
       "      <td>9</td>\n",
       "    </tr>\n",
       "    <tr>\n",
       "      <th>3392</th>\n",
       "      <td>Administrative Specialist</td>\n",
       "      <td>F</td>\n",
       "      <td>White</td>\n",
       "      <td>51542.4</td>\n",
       "      <td>9</td>\n",
       "    </tr>\n",
       "    <tr>\n",
       "      <th>3393</th>\n",
       "      <td>Administrative Specialist</td>\n",
       "      <td>F</td>\n",
       "      <td>Black or African American</td>\n",
       "      <td>53851.2</td>\n",
       "      <td>23</td>\n",
       "    </tr>\n",
       "  </tbody>\n",
       "</table>\n",
       "<p>3394 rows × 5 columns</p>\n",
       "</div>"
      ],
      "text/plain": [
       "                           Title Gender                  Ethnicity  \\\n",
       "0      Administrative Specialist      F                      White   \n",
       "1      Administrative Specialist      M  Black or African American   \n",
       "2      Administrative Specialist      F         Hispanic or Latino   \n",
       "3      Administrative Specialist      F         Hispanic or Latino   \n",
       "4     MuniProg, Paraprofessional      F                      White   \n",
       "...                          ...    ...                        ...   \n",
       "3389   Administrative Specialist      F                      White   \n",
       "3390   Administrative Specialist      F         Hispanic or Latino   \n",
       "3391   Administrative Specialist      F         Hispanic or Latino   \n",
       "3392   Administrative Specialist      F                      White   \n",
       "3393   Administrative Specialist      F  Black or African American   \n",
       "\n",
       "      Annual Salary  Years of Employment  \n",
       "0           51542.4                    6  \n",
       "1           48235.2                   11  \n",
       "2           51542.4                   14  \n",
       "3           48235.2                    3  \n",
       "4           50668.8                    2  \n",
       "...             ...                  ...  \n",
       "3389        51542.4                   34  \n",
       "3390        41579.2                    3  \n",
       "3391        51542.4                    9  \n",
       "3392        51542.4                    9  \n",
       "3393        53851.2                   23  \n",
       "\n",
       "[3394 rows x 5 columns]"
      ]
     },
     "execution_count": 14,
     "metadata": {},
     "output_type": "execute_result"
    }
   ],
   "source": [
    "salary_df = pd.read_csv('data/austin_salaries.csv')\n",
    "salary_df"
   ]
  },
  {
   "cell_type": "code",
   "execution_count": 21,
   "metadata": {},
   "outputs": [
    {
     "name": "stdout",
     "output_type": "stream",
     "text": [
      "<class 'pandas.core.frame.DataFrame'>\n",
      "RangeIndex: 3394 entries, 0 to 3393\n",
      "Data columns (total 5 columns):\n",
      " #   Column               Non-Null Count  Dtype  \n",
      "---  ------               --------------  -----  \n",
      " 0   Title                3394 non-null   object \n",
      " 1   Gender               3394 non-null   object \n",
      " 2   Ethnicity            3394 non-null   object \n",
      " 3   Annual Salary        3394 non-null   float64\n",
      " 4   Years of Employment  3394 non-null   int64  \n",
      "dtypes: float64(1), int64(1), object(3)\n",
      "memory usage: 132.7+ KB\n"
     ]
    }
   ],
   "source": [
    "salary_df.info()"
   ]
  },
  {
   "cell_type": "code",
   "execution_count": 15,
   "metadata": {},
   "outputs": [
    {
     "data": {
      "image/png": "[encoded data removed]",
      "text/plain": [
       "<Figure size 640x480 with 1 Axes>"
      ]
     },
     "metadata": {},
     "output_type": "display_data"
    }
   ],
   "source": [
    "salary_df['Years of Employment'].plot(kind='hist')\n",
    "plt.show()"
   ]
  },
  {
   "cell_type": "code",
   "execution_count": 16,
   "metadata": {},
   "outputs": [
    {
     "name": "stdout",
     "output_type": "stream",
     "text": [
      "[15.  10.   5.   2.5  1. ]\n"
     ]
    }
   ],
   "source": [
    "# Conduct an Anderson-Darling test using the years of employment\n",
    "result = stats.anderson(salary_df['Years of Employment'], dist='norm')\n",
    "\n",
    "# Significance levels where test statistic > critical values\n",
    "significant_at = result.statistic > result.critical_values\n",
    "\n",
    "# Print the significance levels\n",
    "print(result.significance_level[significant_at])"
   ]
  },
  {
   "attachments": {},
   "cell_type": "markdown",
   "metadata": {},
   "source": [
    "    Notice how the null hypothesis of normal distribution is rejected at all significance levels. Therefore, you can conclude that the errors are not normally distributed, and there is room for improvement in the model. "
   ]
  },
  {
   "cell_type": "code",
   "execution_count": 22,
   "metadata": {},
   "outputs": [
    {
     "name": "stdout",
     "output_type": "stream",
     "text": [
      "0.5490936192017909\n"
     ]
    }
   ],
   "source": [
    "# Fit a normal distribution to the data\n",
    "mu, std = stats.norm.fit(salary_df['Years of Employment'])\n",
    "\n",
    "# Compute the percentage of employees with less than 10 years experience\n",
    "percent = stats.norm.cdf(10, loc=mu, scale=std)\n",
    "\n",
    "# Print out this percentage\n",
    "print(percent)"
   ]
  },
  {
   "cell_type": "code",
   "execution_count": 25,
   "metadata": {},
   "outputs": [
    {
     "data": {
      "text/plain": [
       "0.5981143193871538"
      ]
     },
     "execution_count": 25,
     "metadata": {},
     "output_type": "execute_result"
    }
   ],
   "source": [
    "# real probability\n",
    "len(salary_df.loc[salary_df['Years of Employment']<10])/len(salary_df['Years of Employment'])"
   ]
  },
  {
   "attachments": {},
   "cell_type": "markdown",
   "metadata": {},
   "source": [
    "### Correlation tests"
   ]
  },
  {
   "cell_type": "code",
   "execution_count": 26,
   "metadata": {},
   "outputs": [
    {
     "data": {
      "text/html": [
       "<div>\n",
       "<style scoped>\n",
       "    .dataframe tbody tr th:only-of-type {\n",
       "        vertical-align: middle;\n",
       "    }\n",
       "\n",
       "    .dataframe tbody tr th {\n",
       "        vertical-align: top;\n",
       "    }\n",
       "\n",
       "    .dataframe thead th {\n",
       "        text-align: right;\n",
       "    }\n",
       "</style>\n",
       "<table border=\"1\" class=\"dataframe\">\n",
       "  <thead>\n",
       "    <tr style=\"text-align: right;\">\n",
       "      <th></th>\n",
       "      <th>City Code</th>\n",
       "      <th>City</th>\n",
       "      <th>Metro</th>\n",
       "      <th>County</th>\n",
       "      <th>State</th>\n",
       "      <th>Population Rank</th>\n",
       "      <th>November 2010</th>\n",
       "      <th>December 2010</th>\n",
       "      <th>January 2011</th>\n",
       "      <th>February 2011</th>\n",
       "      <th>...</th>\n",
       "      <th>April 2016</th>\n",
       "      <th>May 2016</th>\n",
       "      <th>June 2016</th>\n",
       "      <th>July 2016</th>\n",
       "      <th>August 2016</th>\n",
       "      <th>September 2016</th>\n",
       "      <th>October 2016</th>\n",
       "      <th>November 2016</th>\n",
       "      <th>December 2016</th>\n",
       "      <th>January 2017</th>\n",
       "    </tr>\n",
       "  </thead>\n",
       "  <tbody>\n",
       "    <tr>\n",
       "      <th>0</th>\n",
       "      <td>6181</td>\n",
       "      <td>New York</td>\n",
       "      <td>New York</td>\n",
       "      <td>Queens</td>\n",
       "      <td>NY</td>\n",
       "      <td>1</td>\n",
       "      <td>NaN</td>\n",
       "      <td>NaN</td>\n",
       "      <td>NaN</td>\n",
       "      <td>NaN</td>\n",
       "      <td>...</td>\n",
       "      <td>1.806</td>\n",
       "      <td>1.810</td>\n",
       "      <td>1.816</td>\n",
       "      <td>1.824</td>\n",
       "      <td>1.828</td>\n",
       "      <td>1.836</td>\n",
       "      <td>1.844</td>\n",
       "      <td>1.858</td>\n",
       "      <td>1.866</td>\n",
       "      <td>1.872</td>\n",
       "    </tr>\n",
       "    <tr>\n",
       "      <th>1</th>\n",
       "      <td>12447</td>\n",
       "      <td>Los Angeles</td>\n",
       "      <td>Los Angeles</td>\n",
       "      <td>Los Angeles</td>\n",
       "      <td>CA</td>\n",
       "      <td>2</td>\n",
       "      <td>1.578</td>\n",
       "      <td>1.578</td>\n",
       "      <td>1.580</td>\n",
       "      <td>1.582</td>\n",
       "      <td>...</td>\n",
       "      <td>1.990</td>\n",
       "      <td>2.004</td>\n",
       "      <td>2.018</td>\n",
       "      <td>2.026</td>\n",
       "      <td>2.032</td>\n",
       "      <td>2.038</td>\n",
       "      <td>2.042</td>\n",
       "      <td>2.048</td>\n",
       "      <td>2.056</td>\n",
       "      <td>2.064</td>\n",
       "    </tr>\n",
       "    <tr>\n",
       "      <th>2</th>\n",
       "      <td>17426</td>\n",
       "      <td>Chicago</td>\n",
       "      <td>Chicago</td>\n",
       "      <td>Cook</td>\n",
       "      <td>IL</td>\n",
       "      <td>3</td>\n",
       "      <td>1.244</td>\n",
       "      <td>1.248</td>\n",
       "      <td>1.254</td>\n",
       "      <td>1.254</td>\n",
       "      <td>...</td>\n",
       "      <td>1.354</td>\n",
       "      <td>1.362</td>\n",
       "      <td>1.370</td>\n",
       "      <td>1.374</td>\n",
       "      <td>1.378</td>\n",
       "      <td>1.380</td>\n",
       "      <td>1.380</td>\n",
       "      <td>1.380</td>\n",
       "      <td>1.376</td>\n",
       "      <td>1.374</td>\n",
       "    </tr>\n",
       "    <tr>\n",
       "      <th>3</th>\n",
       "      <td>39051</td>\n",
       "      <td>Houston</td>\n",
       "      <td>Houston</td>\n",
       "      <td>Harris</td>\n",
       "      <td>TX</td>\n",
       "      <td>4</td>\n",
       "      <td>0.788</td>\n",
       "      <td>0.784</td>\n",
       "      <td>0.784</td>\n",
       "      <td>0.786</td>\n",
       "      <td>...</td>\n",
       "      <td>0.984</td>\n",
       "      <td>0.984</td>\n",
       "      <td>0.982</td>\n",
       "      <td>0.980</td>\n",
       "      <td>0.976</td>\n",
       "      <td>0.974</td>\n",
       "      <td>0.974</td>\n",
       "      <td>0.976</td>\n",
       "      <td>0.976</td>\n",
       "      <td>0.974</td>\n",
       "    </tr>\n",
       "    <tr>\n",
       "      <th>4</th>\n",
       "      <td>13271</td>\n",
       "      <td>Philadelphia</td>\n",
       "      <td>Philadelphia</td>\n",
       "      <td>Philadelphia</td>\n",
       "      <td>PA</td>\n",
       "      <td>5</td>\n",
       "      <td>0.854</td>\n",
       "      <td>0.858</td>\n",
       "      <td>0.858</td>\n",
       "      <td>0.858</td>\n",
       "      <td>...</td>\n",
       "      <td>0.948</td>\n",
       "      <td>0.956</td>\n",
       "      <td>0.962</td>\n",
       "      <td>0.964</td>\n",
       "      <td>0.964</td>\n",
       "      <td>0.966</td>\n",
       "      <td>0.968</td>\n",
       "      <td>0.972</td>\n",
       "      <td>0.974</td>\n",
       "      <td>0.974</td>\n",
       "    </tr>\n",
       "    <tr>\n",
       "      <th>...</th>\n",
       "      <td>...</td>\n",
       "      <td>...</td>\n",
       "      <td>...</td>\n",
       "      <td>...</td>\n",
       "      <td>...</td>\n",
       "      <td>...</td>\n",
       "      <td>...</td>\n",
       "      <td>...</td>\n",
       "      <td>...</td>\n",
       "      <td>...</td>\n",
       "      <td>...</td>\n",
       "      <td>...</td>\n",
       "      <td>...</td>\n",
       "      <td>...</td>\n",
       "      <td>...</td>\n",
       "      <td>...</td>\n",
       "      <td>...</td>\n",
       "      <td>...</td>\n",
       "      <td>...</td>\n",
       "      <td>...</td>\n",
       "      <td>...</td>\n",
       "    </tr>\n",
       "    <tr>\n",
       "      <th>11914</th>\n",
       "      <td>182023</td>\n",
       "      <td>Henrico</td>\n",
       "      <td>Richmond</td>\n",
       "      <td>Henrico</td>\n",
       "      <td>VA</td>\n",
       "      <td>11915</td>\n",
       "      <td>0.740</td>\n",
       "      <td>0.736</td>\n",
       "      <td>0.734</td>\n",
       "      <td>0.734</td>\n",
       "      <td>...</td>\n",
       "      <td>0.854</td>\n",
       "      <td>0.856</td>\n",
       "      <td>0.856</td>\n",
       "      <td>0.856</td>\n",
       "      <td>0.856</td>\n",
       "      <td>0.858</td>\n",
       "      <td>0.858</td>\n",
       "      <td>0.860</td>\n",
       "      <td>0.862</td>\n",
       "      <td>0.860</td>\n",
       "    </tr>\n",
       "    <tr>\n",
       "      <th>11915</th>\n",
       "      <td>397405</td>\n",
       "      <td>Highland Township</td>\n",
       "      <td>Gettysburg</td>\n",
       "      <td>Adams</td>\n",
       "      <td>PA</td>\n",
       "      <td>11916</td>\n",
       "      <td>0.780</td>\n",
       "      <td>0.776</td>\n",
       "      <td>0.778</td>\n",
       "      <td>0.778</td>\n",
       "      <td>...</td>\n",
       "      <td>0.832</td>\n",
       "      <td>0.836</td>\n",
       "      <td>0.826</td>\n",
       "      <td>0.822</td>\n",
       "      <td>0.812</td>\n",
       "      <td>0.810</td>\n",
       "      <td>0.808</td>\n",
       "      <td>0.804</td>\n",
       "      <td>0.788</td>\n",
       "      <td>0.774</td>\n",
       "    </tr>\n",
       "    <tr>\n",
       "      <th>11916</th>\n",
       "      <td>398343</td>\n",
       "      <td>Urbana</td>\n",
       "      <td>Corning</td>\n",
       "      <td>Steuben</td>\n",
       "      <td>NY</td>\n",
       "      <td>11917</td>\n",
       "      <td>0.954</td>\n",
       "      <td>0.956</td>\n",
       "      <td>0.970</td>\n",
       "      <td>0.984</td>\n",
       "      <td>...</td>\n",
       "      <td>1.030</td>\n",
       "      <td>1.032</td>\n",
       "      <td>1.038</td>\n",
       "      <td>1.042</td>\n",
       "      <td>1.046</td>\n",
       "      <td>1.048</td>\n",
       "      <td>1.048</td>\n",
       "      <td>1.048</td>\n",
       "      <td>1.042</td>\n",
       "      <td>1.034</td>\n",
       "    </tr>\n",
       "    <tr>\n",
       "      <th>11917</th>\n",
       "      <td>398839</td>\n",
       "      <td>Angels</td>\n",
       "      <td>NaN</td>\n",
       "      <td>Calaveras</td>\n",
       "      <td>CA</td>\n",
       "      <td>11918</td>\n",
       "      <td>0.976</td>\n",
       "      <td>0.984</td>\n",
       "      <td>0.988</td>\n",
       "      <td>0.980</td>\n",
       "      <td>...</td>\n",
       "      <td>0.974</td>\n",
       "      <td>0.980</td>\n",
       "      <td>0.984</td>\n",
       "      <td>0.980</td>\n",
       "      <td>0.980</td>\n",
       "      <td>0.982</td>\n",
       "      <td>0.992</td>\n",
       "      <td>1.004</td>\n",
       "      <td>1.014</td>\n",
       "      <td>1.018</td>\n",
       "    </tr>\n",
       "    <tr>\n",
       "      <th>11918</th>\n",
       "      <td>737788</td>\n",
       "      <td>Lebanon Borough</td>\n",
       "      <td>New York</td>\n",
       "      <td>Hunterdon</td>\n",
       "      <td>NJ</td>\n",
       "      <td>11919</td>\n",
       "      <td>1.212</td>\n",
       "      <td>1.216</td>\n",
       "      <td>1.222</td>\n",
       "      <td>1.226</td>\n",
       "      <td>...</td>\n",
       "      <td>1.360</td>\n",
       "      <td>1.374</td>\n",
       "      <td>1.374</td>\n",
       "      <td>1.372</td>\n",
       "      <td>1.360</td>\n",
       "      <td>1.344</td>\n",
       "      <td>1.332</td>\n",
       "      <td>1.340</td>\n",
       "      <td>1.362</td>\n",
       "      <td>1.384</td>\n",
       "    </tr>\n",
       "  </tbody>\n",
       "</table>\n",
       "<p>11919 rows × 81 columns</p>\n",
       "</div>"
      ],
      "text/plain": [
       "       City Code               City         Metro        County State  \\\n",
       "0           6181           New York      New York        Queens    NY   \n",
       "1          12447        Los Angeles   Los Angeles   Los Angeles    CA   \n",
       "2          17426            Chicago       Chicago          Cook    IL   \n",
       "3          39051            Houston       Houston        Harris    TX   \n",
       "4          13271       Philadelphia  Philadelphia  Philadelphia    PA   \n",
       "...          ...                ...           ...           ...   ...   \n",
       "11914     182023            Henrico      Richmond       Henrico    VA   \n",
       "11915     397405  Highland Township    Gettysburg         Adams    PA   \n",
       "11916     398343             Urbana       Corning       Steuben    NY   \n",
       "11917     398839             Angels           NaN     Calaveras    CA   \n",
       "11918     737788    Lebanon Borough      New York     Hunterdon    NJ   \n",
       "\n",
       "       Population Rank  November 2010  December 2010  January 2011  \\\n",
       "0                    1            NaN            NaN           NaN   \n",
       "1                    2          1.578          1.578         1.580   \n",
       "2                    3          1.244          1.248         1.254   \n",
       "3                    4          0.788          0.784         0.784   \n",
       "4                    5          0.854          0.858         0.858   \n",
       "...                ...            ...            ...           ...   \n",
       "11914            11915          0.740          0.736         0.734   \n",
       "11915            11916          0.780          0.776         0.778   \n",
       "11916            11917          0.954          0.956         0.970   \n",
       "11917            11918          0.976          0.984         0.988   \n",
       "11918            11919          1.212          1.216         1.222   \n",
       "\n",
       "       February 2011  ...  April 2016  May 2016  June 2016  July 2016  \\\n",
       "0                NaN  ...       1.806     1.810      1.816      1.824   \n",
       "1              1.582  ...       1.990     2.004      2.018      2.026   \n",
       "2              1.254  ...       1.354     1.362      1.370      1.374   \n",
       "3              0.786  ...       0.984     0.984      0.982      0.980   \n",
       "4              0.858  ...       0.948     0.956      0.962      0.964   \n",
       "...              ...  ...         ...       ...        ...        ...   \n",
       "11914          0.734  ...       0.854     0.856      0.856      0.856   \n",
       "11915          0.778  ...       0.832     0.836      0.826      0.822   \n",
       "11916          0.984  ...       1.030     1.032      1.038      1.042   \n",
       "11917          0.980  ...       0.974     0.980      0.984      0.980   \n",
       "11918          1.226  ...       1.360     1.374      1.374      1.372   \n",
       "\n",
       "       August 2016  September 2016  October 2016  November 2016  \\\n",
       "0            1.828           1.836         1.844          1.858   \n",
       "1            2.032           2.038         2.042          2.048   \n",
       "2            1.378           1.380         1.380          1.380   \n",
       "3            0.976           0.974         0.974          0.976   \n",
       "4            0.964           0.966         0.968          0.972   \n",
       "...            ...             ...           ...            ...   \n",
       "11914        0.856           0.858         0.858          0.860   \n",
       "11915        0.812           0.810         0.808          0.804   \n",
       "11916        1.046           1.048         1.048          1.048   \n",
       "11917        0.980           0.982         0.992          1.004   \n",
       "11918        1.360           1.344         1.332          1.340   \n",
       "\n",
       "       December 2016  January 2017  \n",
       "0              1.866         1.872  \n",
       "1              2.056         2.064  \n",
       "2              1.376         1.374  \n",
       "3              0.976         0.974  \n",
       "4              0.974         0.974  \n",
       "...              ...           ...  \n",
       "11914          0.862         0.860  \n",
       "11915          0.788         0.774  \n",
       "11916          1.042         1.034  \n",
       "11917          1.014         1.018  \n",
       "11918          1.362         1.384  \n",
       "\n",
       "[11919 rows x 81 columns]"
      ]
     },
     "execution_count": 26,
     "metadata": {},
     "output_type": "execute_result"
    }
   ],
   "source": [
    "rent = pd.read_csv('data/median_rent.csv')\n",
    "rent"
   ]
  },
  {
   "cell_type": "code",
   "execution_count": 52,
   "metadata": {},
   "outputs": [
    {
     "data": {
      "text/plain": [
       "DatetimeIndex(['2010-11-01', '2010-12-01', '2011-01-01', '2011-02-01',\n",
       "               '2011-03-01', '2011-04-01', '2011-05-01', '2011-06-01',\n",
       "               '2011-07-01', '2011-08-01', '2011-09-01', '2011-10-01',\n",
       "               '2011-11-01', '2011-12-01', '2012-01-01', '2012-02-01',\n",
       "               '2012-03-01', '2012-04-01', '2012-05-01', '2012-06-01',\n",
       "               '2012-07-01', '2012-08-01', '2012-09-01', '2012-10-01',\n",
       "               '2012-11-01', '2012-12-01', '2013-01-01', '2013-02-01',\n",
       "               '2013-03-01', '2013-04-01', '2013-05-01', '2013-06-01',\n",
       "               '2013-07-01', '2013-08-01', '2013-09-01', '2013-10-01',\n",
       "               '2013-11-01', '2013-12-01', '2014-01-01', '2014-02-01',\n",
       "               '2014-03-01', '2014-04-01', '2014-05-01', '2014-06-01',\n",
       "               '2014-07-01', '2014-08-01', '2014-09-01', '2014-10-01',\n",
       "               '2014-11-01', '2014-12-01', '2015-01-01', '2015-02-01',\n",
       "               '2015-03-01', '2015-04-01', '2015-05-01', '2015-06-01',\n",
       "               '2015-07-01', '2015-08-01', '2015-09-01', '2015-10-01',\n",
       "               '2015-11-01', '2015-12-01', '2016-01-01', '2016-02-01',\n",
       "               '2016-03-01', '2016-04-01', '2016-05-01', '2016-06-01',\n",
       "               '2016-07-01', '2016-08-01', '2016-09-01', '2016-10-01',\n",
       "               '2016-11-01', '2016-12-01', '2017-01-01'],\n",
       "              dtype='datetime64[ns]', freq=None)"
      ]
     },
     "execution_count": 52,
     "metadata": {},
     "output_type": "execute_result"
    }
   ],
   "source": [
    "dates = rent.columns[6:]\n",
    "dates = pd.to_datetime(dates)\n",
    "dates"
   ]
  },
  {
   "cell_type": "code",
   "execution_count": 61,
   "metadata": {},
   "outputs": [
    {
     "data": {
      "text/plain": [
       "array([0.75 , 0.75 , 0.748, 0.748, 0.746, 0.744, 0.742, 0.74 , 0.736,\n",
       "       0.734, 0.734, 0.732, 0.73 , 0.728, 0.728, 0.724, 0.724, 0.722,\n",
       "       0.722, 0.722, 0.722, 0.72 , 0.72 , 0.718, 0.72 , 0.72 , 0.72 ,\n",
       "       0.72 , 0.718, 0.718, 0.718, 0.718, 0.718, 0.718, 0.718, 0.72 ,\n",
       "       0.722, 0.724, 0.724, 0.724, 0.724, 0.726, 0.726, 0.726, 0.726,\n",
       "       0.728, 0.73 , 0.732, 0.734, 0.736, 0.736, 0.738, 0.74 , 0.742,\n",
       "       0.744, 0.748, 0.752, 0.754, 0.756, 0.756, 0.754, 0.754, 0.756,\n",
       "       0.76 , 0.764, 0.768, 0.77 , 0.772, 0.774, 0.772, 0.774, 0.774,\n",
       "       0.778, 0.78 , 0.78 ])"
      ]
     },
     "execution_count": 61,
     "metadata": {},
     "output_type": "execute_result"
    }
   ],
   "source": [
    "lasvegas_rents = rent.loc[rent['City']=='Las Vegas','November 2010':'January 2017'].iloc[0,:].values\n",
    "lasvegas_rents"
   ]
  },
  {
   "cell_type": "code",
   "execution_count": 62,
   "metadata": {},
   "outputs": [],
   "source": [
    "houston_rents = rent.loc[rent['City']=='Houston','November 2010':'January 2017'].iloc[0,:].values"
   ]
  },
  {
   "cell_type": "code",
   "execution_count": 63,
   "metadata": {},
   "outputs": [
    {
     "data": {
      "image/png": "[encoded data removed]",
      "text/plain": [
       "<Figure size 640x480 with 1 Axes>"
      ]
     },
     "metadata": {},
     "output_type": "display_data"
    }
   ],
   "source": [
    "# Create a line graph showing the rents for both San Francisco and Las Vegas\n",
    "sns.lineplot(x=dates, y=houston_rents, label='Houston')\n",
    "sns.lineplot(x=dates, y=lasvegas_rents, label='Las Vegas')\n",
    "plt.show()"
   ]
  },
  {
   "attachments": {},
   "cell_type": "markdown",
   "metadata": {},
   "source": [
    "    Notice how the graphs seem to suggest some sort of positive correlation, and the strong correlation coefficient and extremely low p-value cement this fact. You can feel confident claiming that there is a strong relationship in rent prices between these two cities."
   ]
  },
  {
   "cell_type": "code",
   "execution_count": 64,
   "metadata": {},
   "outputs": [
    {
     "name": "stdout",
     "output_type": "stream",
     "text": [
      "True\n",
      "0.48216219738821625\n"
     ]
    }
   ],
   "source": [
    "# Compute the Pearson correlation coefficient R, as well as the p-value\n",
    "r, p_value = stats.pearsonr(houston_rents, lasvegas_rents)\n",
    "\n",
    "# Print if the p-value is less than alpha = 5%\n",
    "print(p_value < 0.05)\n",
    "\n",
    "# Print out R-squared\n",
    "print(r**2)"
   ]
  },
  {
   "attachments": {},
   "cell_type": "markdown",
   "metadata": {},
   "source": [
    "#### Autocorrelation"
   ]
  },
  {
   "cell_type": "code",
   "execution_count": 73,
   "metadata": {},
   "outputs": [],
   "source": [
    "la_rents = rent.loc[rent['City']=='Los Angeles'].values[0][6:]"
   ]
  },
  {
   "cell_type": "code",
   "execution_count": 74,
   "metadata": {},
   "outputs": [
    {
     "name": "stdout",
     "output_type": "stream",
     "text": [
      "True\n"
     ]
    }
   ],
   "source": [
    "# Select all but the first twelve rents\n",
    "la_rents_initial = la_rents[12:]\n",
    "\n",
    "# Select all but the last twelve rents (12 month lag)\n",
    "la_rents_lag = la_rents[:-12]\n",
    "\n",
    "# Compute the correlation between the initial values and the lagged values\n",
    "r, p_value = stats.pearsonr(la_rents_initial, la_rents_lag)\n",
    "\n",
    "# Check if the p-value is significant at the 5% level\n",
    "print(p_value < 0.05)"
   ]
  },
  {
   "attachments": {},
   "cell_type": "markdown",
   "metadata": {},
   "source": [
    "    You may be tempted to perform a t-test to compare mean rent prices in each city. However, as t-test has the assumption of independence, which autocorrelation directly violates. Thus any results from a t-test would be invalid."
   ]
  },
  {
   "attachments": {},
   "cell_type": "markdown",
   "metadata": {},
   "source": [
    ">You saw that rent prices between Houston and Las Vegas are correlated. However, to what extent can the price change in one city explain the price change in another city? By computing R-squared you are able to precisely quantify this."
   ]
  },
  {
   "cell_type": "code",
   "execution_count": 77,
   "metadata": {},
   "outputs": [
    {
     "name": "stdout",
     "output_type": "stream",
     "text": [
      "0.48216219738821625\n"
     ]
    }
   ],
   "source": [
    "# Compute the correlation between Houston and Las Vegas\n",
    "r, p_value = stats.pearsonr(houston_rents,lasvegas_rents,)\n",
    "\n",
    "# Print R-squared\n",
    "print(r**2)"
   ]
  },
  {
   "attachments": {},
   "cell_type": "markdown",
   "metadata": {},
   "source": [
    "    R-squared gives us a precise measurement of the percentage of explained variance. Here we see that 48% of the variance of rent prices in Houston can be explained by knowing the rent prices in Las Vegas. An interesting question would be, what explains the remaining 52% of the variation?"
   ]
  },
  {
   "attachments": {},
   "cell_type": "markdown",
   "metadata": {},
   "source": [
    "### Parametric Test\n",
    "#### ANOVA\n",
    "    - Compares mean response in each factor\n",
    "    - Response: A numerical measured value\n",
    "    - Factor: A categorical value defining groups "
   ]
  },
  {
   "attachments": {},
   "cell_type": "markdown",
   "metadata": {},
   "source": [
    ">For example, suppose we were looking at venture capital funding from different companies in different market segments. We would likely see differences in amounts funded. \n",
    "Are these differences just due to random chance, or do they reflect an underlying difference in industries?"
   ]
  },
  {
   "cell_type": "code",
   "execution_count": 78,
   "metadata": {},
   "outputs": [
    {
     "data": {
      "text/html": [
       "<div>\n",
       "<style scoped>\n",
       "    .dataframe tbody tr th:only-of-type {\n",
       "        vertical-align: middle;\n",
       "    }\n",
       "\n",
       "    .dataframe tbody tr th {\n",
       "        vertical-align: top;\n",
       "    }\n",
       "\n",
       "    .dataframe thead th {\n",
       "        text-align: right;\n",
       "    }\n",
       "</style>\n",
       "<table border=\"1\" class=\"dataframe\">\n",
       "  <thead>\n",
       "    <tr style=\"text-align: right;\">\n",
       "      <th></th>\n",
       "      <th>market</th>\n",
       "      <th>funding_total_usd</th>\n",
       "      <th>status</th>\n",
       "      <th>country_code</th>\n",
       "      <th>funding_rounds</th>\n",
       "      <th>seed</th>\n",
       "      <th>venture</th>\n",
       "      <th>equity_crowdfunding</th>\n",
       "      <th>private_equity</th>\n",
       "    </tr>\n",
       "  </thead>\n",
       "  <tbody>\n",
       "    <tr>\n",
       "      <th>0</th>\n",
       "      <td>Games</td>\n",
       "      <td>4000000</td>\n",
       "      <td>operating</td>\n",
       "      <td>USA</td>\n",
       "      <td>2</td>\n",
       "      <td>0</td>\n",
       "      <td>4000000</td>\n",
       "      <td>0</td>\n",
       "      <td>0</td>\n",
       "    </tr>\n",
       "    <tr>\n",
       "      <th>1</th>\n",
       "      <td>Software</td>\n",
       "      <td>7000000</td>\n",
       "      <td>NaN</td>\n",
       "      <td>USA</td>\n",
       "      <td>1</td>\n",
       "      <td>0</td>\n",
       "      <td>7000000</td>\n",
       "      <td>0</td>\n",
       "      <td>0</td>\n",
       "    </tr>\n",
       "    <tr>\n",
       "      <th>2</th>\n",
       "      <td>Advertising</td>\n",
       "      <td>4912393</td>\n",
       "      <td>closed</td>\n",
       "      <td>ARG</td>\n",
       "      <td>1</td>\n",
       "      <td>0</td>\n",
       "      <td>0</td>\n",
       "      <td>0</td>\n",
       "      <td>0</td>\n",
       "    </tr>\n",
       "    <tr>\n",
       "      <th>3</th>\n",
       "      <td>Curated Web</td>\n",
       "      <td>2000000</td>\n",
       "      <td>operating</td>\n",
       "      <td>NaN</td>\n",
       "      <td>1</td>\n",
       "      <td>0</td>\n",
       "      <td>2000000</td>\n",
       "      <td>0</td>\n",
       "      <td>0</td>\n",
       "    </tr>\n",
       "    <tr>\n",
       "      <th>4</th>\n",
       "      <td>Games</td>\n",
       "      <td>41250</td>\n",
       "      <td>operating</td>\n",
       "      <td>HKG</td>\n",
       "      <td>1</td>\n",
       "      <td>41250</td>\n",
       "      <td>0</td>\n",
       "      <td>0</td>\n",
       "      <td>0</td>\n",
       "    </tr>\n",
       "  </tbody>\n",
       "</table>\n",
       "</div>"
      ],
      "text/plain": [
       "        market  funding_total_usd     status country_code  funding_rounds  \\\n",
       "0        Games            4000000  operating          USA               2   \n",
       "1     Software            7000000        NaN          USA               1   \n",
       "2  Advertising            4912393     closed          ARG               1   \n",
       "3  Curated Web            2000000  operating          NaN               1   \n",
       "4        Games              41250  operating          HKG               1   \n",
       "\n",
       "    seed  venture  equity_crowdfunding  private_equity  \n",
       "0      0  4000000                    0               0  \n",
       "1      0  7000000                    0               0  \n",
       "2      0        0                    0               0  \n",
       "3      0  2000000                    0               0  \n",
       "4  41250        0                    0               0  "
      ]
     },
     "execution_count": 78,
     "metadata": {},
     "output_type": "execute_result"
    }
   ],
   "source": [
    "invest = pd.read_csv('data/investments_VC.csv')\n",
    "invest.head()"
   ]
  },
  {
   "cell_type": "code",
   "execution_count": 79,
   "metadata": {},
   "outputs": [
    {
     "data": {
      "text/plain": [
       "market\n",
       "Advertising            1.380661e+07\n",
       "Analytics              1.476293e+07\n",
       "Biotechnology          2.083867e+07\n",
       "Clean Technology       3.525767e+07\n",
       "Curated Web            7.176645e+06\n",
       "E-Commerce             1.533770e+07\n",
       "Education              9.194975e+06\n",
       "Enterprise Software    1.697202e+07\n",
       "Finance                2.453714e+07\n",
       "Games                  9.776524e+06\n",
       "Hardware + Software    1.289027e+07\n",
       "Health Care            2.645070e+07\n",
       "Health and Wellness    1.499574e+07\n",
       "Manufacturing          1.564739e+07\n",
       "Mobile                 2.892989e+07\n",
       "Security               1.514460e+07\n",
       "Semiconductors         2.614778e+07\n",
       "Social Media           4.942852e+06\n",
       "Software               1.042555e+07\n",
       "Web Hosting            2.714344e+07\n",
       "Name: funding_total_usd, dtype: float64"
      ]
     },
     "execution_count": 79,
     "metadata": {},
     "output_type": "execute_result"
    }
   ],
   "source": [
    "invest.groupby('market')['funding_total_usd'].mean()"
   ]
  },
  {
   "attachments": {},
   "cell_type": "markdown",
   "metadata": {},
   "source": [
    "Some markets seem to have similar average funding, such as advertising and analytics, while others like biotechnology are quite different. We want to determine if the differences are statistically significant, so we'll conduct an ANOVA test.\n",
    "\n",
    "- Response: Funding\n",
    "- Factor: Market\n",
    "- ANOVA: Compare mean funding by market\n",
    "\n",
    "#### Assumptions of ANOVA\n",
    "- Responses for each factor are normally distributed\n",
    "    - Funding amounts by market are normally distributed\n",
    "- Responses by factor has equal population variance\n",
    "    - Funding variation by market are normally distributed"
   ]
  },
  {
   "cell_type": "code",
   "execution_count": 82,
   "metadata": {},
   "outputs": [
    {
     "data": {
      "image/png": "[encoded data removed]",
      "text/plain": [
       "<Figure size 640x480 with 1 Axes>"
      ]
     },
     "metadata": {},
     "output_type": "display_data"
    }
   ],
   "source": [
    "health_df = invest[invest['market']=='Health and Wellness']\n",
    "health_df['funding_total_usd'].plot(kind='hist')\n",
    "plt.show()"
   ]
  },
  {
   "attachments": {},
   "cell_type": "markdown",
   "metadata": {},
   "source": [
    "If we plot the data from the health and wellness market, we see it's definitely not normally distributed, and has a heavy tail. This is because most companies had only small amounts of funding, with a few companies getting signifcantly higher funding.\n",
    "\n",
    "A common trick when dealing with data of this sort of to take logarithm: ***log-transformation***"
   ]
  },
  {
   "cell_type": "code",
   "execution_count": 84,
   "metadata": {},
   "outputs": [
    {
     "data": {
      "image/png": "[encoded data removed]",
      "text/plain": [
       "<Figure size 640x480 with 1 Axes>"
      ]
     },
     "metadata": {},
     "output_type": "display_data"
    }
   ],
   "source": [
    "health_log = np.log(health_df['funding_total_usd'])\n",
    "health_log.plot(kind='hist')\n",
    "plt.show()"
   ]
  },
  {
   "attachments": {},
   "cell_type": "markdown",
   "metadata": {},
   "source": [
    "#### Equal variance\n",
    "One way to do this would be to look at the standard deviation of each industy and see if they're similar. However, just like with anything statistical, there is always the question of 'how close is close enouth'.\n",
    "\n",
    "To test if the differences in variance we see are statistically significant, we can use a ***Levene*** test of equak variance.\n",
    "\n",
    ">Levene Test of equal variance:\n",
    "- H0: populations have equal variance\n",
    "- HA: populations have different variances"
   ]
  },
  {
   "cell_type": "code",
   "execution_count": 85,
   "metadata": {},
   "outputs": [
    {
     "data": {
      "text/plain": [
       "market\n",
       "Advertising            2.254390\n",
       "Analytics              2.152852\n",
       "Biotechnology          1.946059\n",
       "Clean Technology       2.282700\n",
       "Curated Web            2.182070\n",
       "E-Commerce             2.383981\n",
       "Education              2.266266\n",
       "Enterprise Software    2.029004\n",
       "Finance                2.244723\n",
       "Games                  2.249092\n",
       "Hardware + Software    1.999626\n",
       "Health Care            2.166054\n",
       "Health and Wellness    2.150630\n",
       "Manufacturing          2.007318\n",
       "Mobile                 2.216996\n",
       "Security               1.958621\n",
       "Semiconductors         1.589911\n",
       "Social Media           2.232275\n",
       "Software               2.075646\n",
       "Web Hosting            2.043647\n",
       "Name: log_funding, dtype: float64"
      ]
     },
     "execution_count": 85,
     "metadata": {},
     "output_type": "execute_result"
    }
   ],
   "source": [
    "invest['log_funding'] = np.log(invest['funding_total_usd'])\n",
    "invest.groupby('market')['log_funding'].std()"
   ]
  },
  {
   "cell_type": "code",
   "execution_count": 90,
   "metadata": {},
   "outputs": [],
   "source": [
    "analytics_df = invest[invest['market']=='Analytics']\n",
    "health_df = invest[invest['market']=='Health and Wellness']\n"
   ]
  },
  {
   "cell_type": "code",
   "execution_count": 91,
   "metadata": {},
   "outputs": [
    {
     "name": "stdout",
     "output_type": "stream",
     "text": [
      "0.7315297074914971\n",
      "False\n"
     ]
    }
   ],
   "source": [
    "s,p_value = stats.levene(health_df['log_funding'],analytics_df['log_funding'])\n",
    "print(p_value)\n",
    "print(p_value<0.05)\n"
   ]
  },
  {
   "attachments": {},
   "cell_type": "markdown",
   "metadata": {},
   "source": [
    "    Since the p-value is not less than 5%, we can conclude that the markets do indeed have equal variance (Failed to reject H0)"
   ]
  },
  {
   "attachments": {},
   "cell_type": "markdown",
   "metadata": {},
   "source": [
    "#### ANOVA in SciPy\n",
    "\n",
    "**Inference based on ANOVA**\n",
    ">H0: All means are the same\n",
    "\n",
    ">HA: At least one mean is different"
   ]
  },
  {
   "cell_type": "code",
   "execution_count": 92,
   "metadata": {},
   "outputs": [
    {
     "name": "stdout",
     "output_type": "stream",
     "text": [
      "True\n"
     ]
    }
   ],
   "source": [
    "s, p_value = stats.f_oneway(health_df['log_funding'],analytics_df['log_funding'])\n",
    "print(p_value < 0.05)"
   ]
  },
  {
   "attachments": {},
   "cell_type": "markdown",
   "metadata": {},
   "source": [
    "The ANOVA test concludes a difference in funding at the 5% level.\n",
    "\n",
    "The markets have statistically significant different funding."
   ]
  },
  {
   "cell_type": "code",
   "execution_count": 94,
   "metadata": {},
   "outputs": [
    {
     "data": {
      "text/html": [
       "<div>\n",
       "<style scoped>\n",
       "    .dataframe tbody tr th:only-of-type {\n",
       "        vertical-align: middle;\n",
       "    }\n",
       "\n",
       "    .dataframe tbody tr th {\n",
       "        vertical-align: top;\n",
       "    }\n",
       "\n",
       "    .dataframe thead th {\n",
       "        text-align: right;\n",
       "    }\n",
       "</style>\n",
       "<table border=\"1\" class=\"dataframe\">\n",
       "  <thead>\n",
       "    <tr style=\"text-align: right;\">\n",
       "      <th></th>\n",
       "      <th>market</th>\n",
       "      <th>funding_total_usd</th>\n",
       "      <th>status</th>\n",
       "      <th>country_code</th>\n",
       "      <th>funding_rounds</th>\n",
       "      <th>seed</th>\n",
       "      <th>venture</th>\n",
       "      <th>equity_crowdfunding</th>\n",
       "      <th>private_equity</th>\n",
       "      <th>log_funding</th>\n",
       "    </tr>\n",
       "  </thead>\n",
       "  <tbody>\n",
       "    <tr>\n",
       "      <th>0</th>\n",
       "      <td>Games</td>\n",
       "      <td>4000000</td>\n",
       "      <td>operating</td>\n",
       "      <td>USA</td>\n",
       "      <td>2</td>\n",
       "      <td>0</td>\n",
       "      <td>4000000</td>\n",
       "      <td>0</td>\n",
       "      <td>0</td>\n",
       "      <td>15.201805</td>\n",
       "    </tr>\n",
       "    <tr>\n",
       "      <th>1</th>\n",
       "      <td>Software</td>\n",
       "      <td>7000000</td>\n",
       "      <td>NaN</td>\n",
       "      <td>USA</td>\n",
       "      <td>1</td>\n",
       "      <td>0</td>\n",
       "      <td>7000000</td>\n",
       "      <td>0</td>\n",
       "      <td>0</td>\n",
       "      <td>15.761421</td>\n",
       "    </tr>\n",
       "    <tr>\n",
       "      <th>2</th>\n",
       "      <td>Advertising</td>\n",
       "      <td>4912393</td>\n",
       "      <td>closed</td>\n",
       "      <td>ARG</td>\n",
       "      <td>1</td>\n",
       "      <td>0</td>\n",
       "      <td>0</td>\n",
       "      <td>0</td>\n",
       "      <td>0</td>\n",
       "      <td>15.407272</td>\n",
       "    </tr>\n",
       "    <tr>\n",
       "      <th>3</th>\n",
       "      <td>Curated Web</td>\n",
       "      <td>2000000</td>\n",
       "      <td>operating</td>\n",
       "      <td>NaN</td>\n",
       "      <td>1</td>\n",
       "      <td>0</td>\n",
       "      <td>2000000</td>\n",
       "      <td>0</td>\n",
       "      <td>0</td>\n",
       "      <td>14.508658</td>\n",
       "    </tr>\n",
       "    <tr>\n",
       "      <th>4</th>\n",
       "      <td>Games</td>\n",
       "      <td>41250</td>\n",
       "      <td>operating</td>\n",
       "      <td>HKG</td>\n",
       "      <td>1</td>\n",
       "      <td>41250</td>\n",
       "      <td>0</td>\n",
       "      <td>0</td>\n",
       "      <td>0</td>\n",
       "      <td>10.627406</td>\n",
       "    </tr>\n",
       "    <tr>\n",
       "      <th>...</th>\n",
       "      <td>...</td>\n",
       "      <td>...</td>\n",
       "      <td>...</td>\n",
       "      <td>...</td>\n",
       "      <td>...</td>\n",
       "      <td>...</td>\n",
       "      <td>...</td>\n",
       "      <td>...</td>\n",
       "      <td>...</td>\n",
       "      <td>...</td>\n",
       "    </tr>\n",
       "    <tr>\n",
       "      <th>23675</th>\n",
       "      <td>Biotechnology</td>\n",
       "      <td>2686600</td>\n",
       "      <td>operating</td>\n",
       "      <td>AUT</td>\n",
       "      <td>1</td>\n",
       "      <td>0</td>\n",
       "      <td>2686600</td>\n",
       "      <td>0</td>\n",
       "      <td>0</td>\n",
       "      <td>14.803787</td>\n",
       "    </tr>\n",
       "    <tr>\n",
       "      <th>23676</th>\n",
       "      <td>Education</td>\n",
       "      <td>320000</td>\n",
       "      <td>operating</td>\n",
       "      <td>GBR</td>\n",
       "      <td>1</td>\n",
       "      <td>320000</td>\n",
       "      <td>0</td>\n",
       "      <td>0</td>\n",
       "      <td>0</td>\n",
       "      <td>12.676076</td>\n",
       "    </tr>\n",
       "    <tr>\n",
       "      <th>23677</th>\n",
       "      <td>Enterprise Software</td>\n",
       "      <td>1587301</td>\n",
       "      <td>operating</td>\n",
       "      <td>CHN</td>\n",
       "      <td>1</td>\n",
       "      <td>0</td>\n",
       "      <td>1587301</td>\n",
       "      <td>0</td>\n",
       "      <td>0</td>\n",
       "      <td>14.277546</td>\n",
       "    </tr>\n",
       "    <tr>\n",
       "      <th>23678</th>\n",
       "      <td>Games</td>\n",
       "      <td>9300000</td>\n",
       "      <td>operating</td>\n",
       "      <td>NaN</td>\n",
       "      <td>1</td>\n",
       "      <td>9300000</td>\n",
       "      <td>0</td>\n",
       "      <td>0</td>\n",
       "      <td>0</td>\n",
       "      <td>16.045525</td>\n",
       "    </tr>\n",
       "    <tr>\n",
       "      <th>23679</th>\n",
       "      <td>Enterprise Software</td>\n",
       "      <td>45000000</td>\n",
       "      <td>operating</td>\n",
       "      <td>USA</td>\n",
       "      <td>4</td>\n",
       "      <td>0</td>\n",
       "      <td>28000000</td>\n",
       "      <td>0</td>\n",
       "      <td>0</td>\n",
       "      <td>17.622173</td>\n",
       "    </tr>\n",
       "  </tbody>\n",
       "</table>\n",
       "<p>23680 rows × 10 columns</p>\n",
       "</div>"
      ],
      "text/plain": [
       "                    market  funding_total_usd     status country_code  \\\n",
       "0                    Games            4000000  operating          USA   \n",
       "1                 Software            7000000        NaN          USA   \n",
       "2              Advertising            4912393     closed          ARG   \n",
       "3              Curated Web            2000000  operating          NaN   \n",
       "4                    Games              41250  operating          HKG   \n",
       "...                    ...                ...        ...          ...   \n",
       "23675        Biotechnology            2686600  operating          AUT   \n",
       "23676            Education             320000  operating          GBR   \n",
       "23677  Enterprise Software            1587301  operating          CHN   \n",
       "23678                Games            9300000  operating          NaN   \n",
       "23679  Enterprise Software           45000000  operating          USA   \n",
       "\n",
       "       funding_rounds     seed   venture  equity_crowdfunding  private_equity  \\\n",
       "0                   2        0   4000000                    0               0   \n",
       "1                   1        0   7000000                    0               0   \n",
       "2                   1        0         0                    0               0   \n",
       "3                   1        0   2000000                    0               0   \n",
       "4                   1    41250         0                    0               0   \n",
       "...               ...      ...       ...                  ...             ...   \n",
       "23675               1        0   2686600                    0               0   \n",
       "23676               1   320000         0                    0               0   \n",
       "23677               1        0   1587301                    0               0   \n",
       "23678               1  9300000         0                    0               0   \n",
       "23679               4        0  28000000                    0               0   \n",
       "\n",
       "       log_funding  \n",
       "0        15.201805  \n",
       "1        15.761421  \n",
       "2        15.407272  \n",
       "3        14.508658  \n",
       "4        10.627406  \n",
       "...            ...  \n",
       "23675    14.803787  \n",
       "23676    12.676076  \n",
       "23677    14.277546  \n",
       "23678    16.045525  \n",
       "23679    17.622173  \n",
       "\n",
       "[23680 rows x 10 columns]"
      ]
     },
     "execution_count": 94,
     "metadata": {},
     "output_type": "execute_result"
    }
   ],
   "source": [
    "invest"
   ]
  },
  {
   "cell_type": "code",
   "execution_count": 101,
   "metadata": {},
   "outputs": [
    {
     "data": {
      "text/html": [
       "<div>\n",
       "<style scoped>\n",
       "    .dataframe tbody tr th:only-of-type {\n",
       "        vertical-align: middle;\n",
       "    }\n",
       "\n",
       "    .dataframe tbody tr th {\n",
       "        vertical-align: top;\n",
       "    }\n",
       "\n",
       "    .dataframe thead th {\n",
       "        text-align: right;\n",
       "    }\n",
       "</style>\n",
       "<table border=\"1\" class=\"dataframe\">\n",
       "  <thead>\n",
       "    <tr style=\"text-align: right;\">\n",
       "      <th></th>\n",
       "      <th>market</th>\n",
       "      <th>funding_total_usd</th>\n",
       "    </tr>\n",
       "  </thead>\n",
       "  <tbody>\n",
       "    <tr>\n",
       "      <th>0</th>\n",
       "      <td>Biotechnology</td>\n",
       "      <td>3000000</td>\n",
       "    </tr>\n",
       "    <tr>\n",
       "      <th>1</th>\n",
       "      <td>Enterprise Software</td>\n",
       "      <td>1800000</td>\n",
       "    </tr>\n",
       "    <tr>\n",
       "      <th>2</th>\n",
       "      <td>Enterprise Software</td>\n",
       "      <td>1500000</td>\n",
       "    </tr>\n",
       "    <tr>\n",
       "      <th>3</th>\n",
       "      <td>Biotechnology</td>\n",
       "      <td>150000</td>\n",
       "    </tr>\n",
       "    <tr>\n",
       "      <th>4</th>\n",
       "      <td>Biotechnology</td>\n",
       "      <td>15034750</td>\n",
       "    </tr>\n",
       "  </tbody>\n",
       "</table>\n",
       "</div>"
      ],
      "text/plain": [
       "                market  funding_total_usd\n",
       "0        Biotechnology            3000000\n",
       "1  Enterprise Software            1800000\n",
       "2  Enterprise Software            1500000\n",
       "3        Biotechnology             150000\n",
       "4        Biotechnology           15034750"
      ]
     },
     "execution_count": 101,
     "metadata": {},
     "output_type": "execute_result"
    }
   ],
   "source": [
    "investments_df = invest[invest['market'].isin(['Biotechnology','Enterprise Software','Health Care'])][['market','funding_total_usd']].reset_index(drop=True)\n",
    "investments_df.head()"
   ]
  },
  {
   "attachments": {},
   "cell_type": "markdown",
   "metadata": {},
   "source": [
    "***\n",
    "#### Examples:\n",
    "if you look at a sample of VC investments and see slightly different average investment amounts, is it reasonable to assume this difference is statistically significant? \n",
    "\n",
    "This is a perfect situation for ANOVA. However, a key condition for ANOVA is equal variance between all groups of samples. In this exercise you'll test for that using the Levene test of equal variance."
   ]
  },
  {
   "cell_type": "code",
   "execution_count": 102,
   "metadata": {},
   "outputs": [
    {
     "name": "stdout",
     "output_type": "stream",
     "text": [
      "0.10608810895774416\n",
      "0.003769504493494368\n",
      "0.0014358847125619865\n"
     ]
    }
   ],
   "source": [
    "# Select each industry separately\n",
    "biotech_df = investments_df[investments_df['market']=='Biotechnology']\n",
    "enterprise_df = investments_df[investments_df['market']=='Enterprise Software']\n",
    "health_df = investments_df[investments_df['market']=='Health Care']\n",
    "\n",
    "# Conduct Levene tests for equal variance between all pairs of industries\n",
    "statistic_1, p_value_1 = stats.levene(biotech_df['funding_total_usd'], enterprise_df['funding_total_usd'])\n",
    "statistic_2, p_value_2 = stats.levene(biotech_df['funding_total_usd'], health_df['funding_total_usd'])\n",
    "statistic_3, p_value_3 = stats.levene(enterprise_df['funding_total_usd'], health_df['funding_total_usd'])\n",
    "\n",
    "# Print the p-value of each test\n",
    "print(p_value_1)\n",
    "print(p_value_2)\n",
    "print(p_value_3)"
   ]
  },
  {
   "attachments": {},
   "cell_type": "markdown",
   "metadata": {},
   "source": [
    "    Notice how two of the three industry pairs had very low p-values, so you can feel confident that their variance is equal. One pair (enterprise and biotech) had a larger p-value around 0.1. This indicates that there may be a little larger difference in variation than we would generally like. However, for our purposes this difference is small enough that we can proced with our ANOVA test."
   ]
  },
  {
   "cell_type": "code",
   "execution_count": 103,
   "metadata": {},
   "outputs": [
    {
     "data": {
      "image/png": "[encoded data removed]",
      "text/plain": [
       "<Figure size 640x480 with 1 Axes>"
      ]
     },
     "metadata": {},
     "output_type": "display_data"
    },
    {
     "data": {
      "image/png": "[encoded data removed]",
      "text/plain": [
       "<Figure size 640x480 with 1 Axes>"
      ]
     },
     "metadata": {},
     "output_type": "display_data"
    }
   ],
   "source": [
    "# Plot a histogram of the funding for each industry\n",
    "biotech_df['funding_total_usd'].plot(kind='hist',alpha=0.33)\n",
    "plt.show()\n",
    "\n",
    "enterprise_df['funding_total_usd'].plot(kind='hist',alpha=0.33)\n",
    "plt.show()\n",
    "\n"
   ]
  },
  {
   "cell_type": "code",
   "execution_count": 104,
   "metadata": {},
   "outputs": [
    {
     "data": {
      "image/png": "[encoded data removed]",
      "text/plain": [
       "<Figure size 640x480 with 1 Axes>"
      ]
     },
     "metadata": {},
     "output_type": "display_data"
    },
    {
     "data": {
      "image/png": "[encoded data removed]",
      "text/plain": [
       "<Figure size 640x480 with 1 Axes>"
      ]
     },
     "metadata": {},
     "output_type": "display_data"
    }
   ],
   "source": [
    "# Plot a histogram of the log funding for each industry\n",
    "\n",
    "np.log(biotech_df['funding_total_usd']).plot(kind='hist', color='blue', alpha=0.33)\n",
    "plt.show()\n",
    "\n",
    "\n",
    "np.log(enterprise_df['funding_total_usd']).plot(kind='hist', color='green', alpha=0.33)\n",
    "plt.show()"
   ]
  },
  {
   "attachments": {},
   "cell_type": "markdown",
   "metadata": {},
   "source": [
    "Now that you've established equal variance using a Levene test and assessed visually the approximate normality of the log-transformed salaries, it's time to conduct an ANOVA test! Recall that the purpose of the ANOVA test is to determine if biotech, enterprise software and health care companies had equal average funding. Since these three groups satisfy the conditions of an ANOVA test, you know the conclusions from that test will be valid."
   ]
  },
  {
   "cell_type": "code",
   "execution_count": 105,
   "metadata": {},
   "outputs": [
    {
     "name": "stdout",
     "output_type": "stream",
     "text": [
      "True\n"
     ]
    }
   ],
   "source": [
    "# Log-transform of each market's funding\n",
    "biotech_log_funding = np.log(biotech_df['funding_total_usd'])\n",
    "enterprise_log_funding = np.log(enterprise_df['funding_total_usd'])\n",
    "health_log_funding = np.log(health_df['funding_total_usd'])\n",
    "\n",
    "# Conduct a one-way ANOVA test to compare the log-funding\n",
    "s, p_value = stats.f_oneway(biotech_log_funding,enterprise_log_funding,health_log_funding)\n",
    "\n",
    "# Print if the p-value is significant at 5%\n",
    "print(p_value < 0.05)"
   ]
  },
  {
   "attachments": {},
   "cell_type": "markdown",
   "metadata": {},
   "source": [
    "    By using a ANOVA test and properly checking all conditions you can be quite sure that the conclusion to reject the null and claim that differences are indeed"
   ]
  },
  {
   "cell_type": "markdown",
   "metadata": {},
   "source": [
    "p_value\n",
    "#### Non-parametric test\n",
    "\n",
    "Non-parametric tests remove the assumption of normality from the data, and thus are often more broadly applicable than parametric tests. However non-parametric tests often have lower power, meaning a lower chance of detecting an effect.\n",
    "\n",
    "In addition, parametric and non-parametric tests often test different things.\n",
    "\n",
    "Non-parametric tests are especially applicable in situations where data takes on a ranked order, such as star ratings for restaurants, where the assumption of normality will almost never be satisfied.\n",
    "***\n",
    "**Parametric tests**      $~~~~~~~~~~~~~~~~~~~~~~~~~~~~~~~~~~~~~~~~~~~~~~$ **Parametric tests** \n",
    "\n",
    "Independent sample t-test  $~~~~~~~~~~~~~~~~~~~~~~~~~~~~~~~~$ Wilcoxon-Mann-Whitney U test \n",
    "\n",
    "ANOVA  $~~~~~~~~~~~~~~~~~~~~~~~~~~~~~~~~~~~~~~~~~~~~~~~~~~~~~~~~~~~~~$ Kruskal-Wallis test  \n",
    "\n",
    "Paired sample t-test $~~~~~~~~~~~~~~~~~~~~~~~~~~~~~~~~~~~~~~~~~~$ Mood's median test\n",
    "\n",
    "Pearson's R $~~~~~~~~~~~~~~~~~~~~~~~~~~~~~~~~~~~~~~~~~~~~~~~~~~~~~~~$ Kendall's tau\n",
    "\n",
    "\n",
    "#### Mood's median test \n",
    "- compares the medians from two paired measurements\n",
    "\n"
   ]
  },
  {
   "cell_type": "code",
   "execution_count": 109,
   "metadata": {},
   "outputs": [
    {
     "data": {
      "text/html": [
       "<div>\n",
       "<style scoped>\n",
       "    .dataframe tbody tr th:only-of-type {\n",
       "        vertical-align: middle;\n",
       "    }\n",
       "\n",
       "    .dataframe tbody tr th {\n",
       "        vertical-align: top;\n",
       "    }\n",
       "\n",
       "    .dataframe thead th {\n",
       "        text-align: right;\n",
       "    }\n",
       "</style>\n",
       "<table border=\"1\" class=\"dataframe\">\n",
       "  <thead>\n",
       "    <tr style=\"text-align: right;\">\n",
       "      <th></th>\n",
       "      <th>University</th>\n",
       "      <th>thew_rank</th>\n",
       "      <th>arw_rank</th>\n",
       "      <th>cw_rank</th>\n",
       "      <th>thew_score</th>\n",
       "      <th>arw_score</th>\n",
       "      <th>cw_score</th>\n",
       "    </tr>\n",
       "  </thead>\n",
       "  <tbody>\n",
       "    <tr>\n",
       "      <th>0</th>\n",
       "      <td>Harvard University</td>\n",
       "      <td>1</td>\n",
       "      <td>1</td>\n",
       "      <td>1</td>\n",
       "      <td>96.1</td>\n",
       "      <td>100.0</td>\n",
       "      <td>100.00</td>\n",
       "    </tr>\n",
       "    <tr>\n",
       "      <th>1</th>\n",
       "      <td>Stanford University</td>\n",
       "      <td>4</td>\n",
       "      <td>3</td>\n",
       "      <td>3</td>\n",
       "      <td>94.3</td>\n",
       "      <td>73.4</td>\n",
       "      <td>89.50</td>\n",
       "    </tr>\n",
       "    <tr>\n",
       "      <th>2</th>\n",
       "      <td>University of Cambridge</td>\n",
       "      <td>6</td>\n",
       "      <td>2</td>\n",
       "      <td>4</td>\n",
       "      <td>91.2</td>\n",
       "      <td>73.6</td>\n",
       "      <td>86.17</td>\n",
       "    </tr>\n",
       "    <tr>\n",
       "      <th>3</th>\n",
       "      <td>California Institute of Technology</td>\n",
       "      <td>2</td>\n",
       "      <td>6</td>\n",
       "      <td>5</td>\n",
       "      <td>96.0</td>\n",
       "      <td>67.1</td>\n",
       "      <td>85.21</td>\n",
       "    </tr>\n",
       "    <tr>\n",
       "      <th>4</th>\n",
       "      <td>Princeton University</td>\n",
       "      <td>5</td>\n",
       "      <td>8</td>\n",
       "      <td>6</td>\n",
       "      <td>94.2</td>\n",
       "      <td>60.9</td>\n",
       "      <td>82.50</td>\n",
       "    </tr>\n",
       "  </tbody>\n",
       "</table>\n",
       "</div>"
      ],
      "text/plain": [
       "                           University  thew_rank  arw_rank  cw_rank  \\\n",
       "0                  Harvard University          1         1        1   \n",
       "1                 Stanford University          4         3        3   \n",
       "2             University of Cambridge          6         2        4   \n",
       "3  California Institute of Technology          2         6        5   \n",
       "4                Princeton University          5         8        6   \n",
       "\n",
       "   thew_score  arw_score  cw_score  \n",
       "0        96.1      100.0    100.00  \n",
       "1        94.3       73.4     89.50  \n",
       "2        91.2       73.6     86.17  \n",
       "3        96.0       67.1     85.21  \n",
       "4        94.2       60.9     82.50  "
      ]
     },
     "execution_count": 109,
     "metadata": {},
     "output_type": "execute_result"
    }
   ],
   "source": [
    "uni = pd.read_csv('data/university_rankings.csv')\n",
    "uni.head()"
   ]
  },
  {
   "cell_type": "code",
   "execution_count": 112,
   "metadata": {},
   "outputs": [
    {
     "data": {
      "text/html": [
       "<div>\n",
       "<style scoped>\n",
       "    .dataframe tbody tr th:only-of-type {\n",
       "        vertical-align: middle;\n",
       "    }\n",
       "\n",
       "    .dataframe tbody tr th {\n",
       "        vertical-align: top;\n",
       "    }\n",
       "\n",
       "    .dataframe thead th {\n",
       "        text-align: right;\n",
       "    }\n",
       "</style>\n",
       "<table border=\"1\" class=\"dataframe\">\n",
       "  <thead>\n",
       "    <tr style=\"text-align: right;\">\n",
       "      <th></th>\n",
       "      <th>University</th>\n",
       "      <th>arw_score</th>\n",
       "      <th>thew_score</th>\n",
       "    </tr>\n",
       "  </thead>\n",
       "  <tbody>\n",
       "    <tr>\n",
       "      <th>0</th>\n",
       "      <td>Harvard University</td>\n",
       "      <td>100.0</td>\n",
       "      <td>96.1</td>\n",
       "    </tr>\n",
       "    <tr>\n",
       "      <th>1</th>\n",
       "      <td>Stanford University</td>\n",
       "      <td>73.4</td>\n",
       "      <td>94.3</td>\n",
       "    </tr>\n",
       "    <tr>\n",
       "      <th>2</th>\n",
       "      <td>University of Cambridge</td>\n",
       "      <td>73.6</td>\n",
       "      <td>91.2</td>\n",
       "    </tr>\n",
       "    <tr>\n",
       "      <th>3</th>\n",
       "      <td>California Institute of Technology</td>\n",
       "      <td>67.1</td>\n",
       "      <td>96.0</td>\n",
       "    </tr>\n",
       "    <tr>\n",
       "      <th>4</th>\n",
       "      <td>Princeton University</td>\n",
       "      <td>60.9</td>\n",
       "      <td>94.2</td>\n",
       "    </tr>\n",
       "  </tbody>\n",
       "</table>\n",
       "</div>"
      ],
      "text/plain": [
       "                           University  arw_score  thew_score\n",
       "0                  Harvard University      100.0        96.1\n",
       "1                 Stanford University       73.4        94.3\n",
       "2             University of Cambridge       73.6        91.2\n",
       "3  California Institute of Technology       67.1        96.0\n",
       "4                Princeton University       60.9        94.2"
      ]
     },
     "execution_count": 112,
     "metadata": {},
     "output_type": "execute_result"
    }
   ],
   "source": [
    "uni_scores = uni[['University','arw_score','thew_score']]\n",
    "uni_scores.head()"
   ]
  },
  {
   "attachments": {},
   "cell_type": "markdown",
   "metadata": {},
   "source": [
    "Here we can see a small sample of these rankings from two different rankers - the THEW and ARW. However, there's no reason to believe these scores should be normally distributed. After all, they largely work with top universities, so we would expect most rankings to be relatively high.\n",
    "\n",
    "We would like to compare the median scores for each university."
   ]
  },
  {
   "cell_type": "code",
   "execution_count": 113,
   "metadata": {},
   "outputs": [
    {
     "name": "stdout",
     "output_type": "stream",
     "text": [
      "True\n"
     ]
    }
   ],
   "source": [
    "s, p_value,m,table = stats.median_test(uni_scores['arw_score'],uni_scores['thew_score'])\n",
    "print(p_value <0.05)"
   ]
  },
  {
   "attachments": {},
   "cell_type": "markdown",
   "metadata": {},
   "source": [
    "p-value < 5%, indicating the two organizations have different median rankings.\n",
    "\n",
    "- not t-test: t-test assumes normality ( Mood's median test does not)"
   ]
  },
  {
   "attachments": {},
   "cell_type": "markdown",
   "metadata": {},
   "source": [
    "#### Kendall's tau\n",
    "When working with ranked ordinal data, Pearson's correlation coefficient would not be the right tool for the job. Pearson's R assumes both sets of data are approximately normally distributed. With rankings, every value occurs only once, so it will never be normal.\n",
    "\n",
    "Instead we can use Kendall's tau. It takes values between negative one and one, where negative one indicates completely disagreement, and 0 indicates no correlation."
   ]
  },
  {
   "cell_type": "code",
   "execution_count": 114,
   "metadata": {},
   "outputs": [
    {
     "data": {
      "text/html": [
       "<div>\n",
       "<style scoped>\n",
       "    .dataframe tbody tr th:only-of-type {\n",
       "        vertical-align: middle;\n",
       "    }\n",
       "\n",
       "    .dataframe tbody tr th {\n",
       "        vertical-align: top;\n",
       "    }\n",
       "\n",
       "    .dataframe thead th {\n",
       "        text-align: right;\n",
       "    }\n",
       "</style>\n",
       "<table border=\"1\" class=\"dataframe\">\n",
       "  <thead>\n",
       "    <tr style=\"text-align: right;\">\n",
       "      <th></th>\n",
       "      <th>University</th>\n",
       "      <th>thew_rank</th>\n",
       "      <th>arw_rank</th>\n",
       "    </tr>\n",
       "  </thead>\n",
       "  <tbody>\n",
       "    <tr>\n",
       "      <th>0</th>\n",
       "      <td>Harvard University</td>\n",
       "      <td>1</td>\n",
       "      <td>1</td>\n",
       "    </tr>\n",
       "    <tr>\n",
       "      <th>1</th>\n",
       "      <td>Stanford University</td>\n",
       "      <td>4</td>\n",
       "      <td>3</td>\n",
       "    </tr>\n",
       "    <tr>\n",
       "      <th>2</th>\n",
       "      <td>University of Cambridge</td>\n",
       "      <td>6</td>\n",
       "      <td>2</td>\n",
       "    </tr>\n",
       "    <tr>\n",
       "      <th>3</th>\n",
       "      <td>California Institute of Technology</td>\n",
       "      <td>2</td>\n",
       "      <td>6</td>\n",
       "    </tr>\n",
       "    <tr>\n",
       "      <th>4</th>\n",
       "      <td>Princeton University</td>\n",
       "      <td>5</td>\n",
       "      <td>8</td>\n",
       "    </tr>\n",
       "  </tbody>\n",
       "</table>\n",
       "</div>"
      ],
      "text/plain": [
       "                           University  thew_rank  arw_rank\n",
       "0                  Harvard University          1         1\n",
       "1                 Stanford University          4         3\n",
       "2             University of Cambridge          6         2\n",
       "3  California Institute of Technology          2         6\n",
       "4                Princeton University          5         8"
      ]
     },
     "execution_count": 114,
     "metadata": {},
     "output_type": "execute_result"
    }
   ],
   "source": [
    "rankings = uni[['University','thew_rank','arw_rank']]\n",
    "rankings.head()"
   ]
  },
  {
   "cell_type": "code",
   "execution_count": 115,
   "metadata": {},
   "outputs": [
    {
     "name": "stdout",
     "output_type": "stream",
     "text": [
      "0.6512525427983284 True\n"
     ]
    }
   ],
   "source": [
    "tau,p_value = stats.kendalltau(rankings['thew_rank'],rankings['arw_rank'])\n",
    "print(tau,p_value<0.05)"
   ]
  },
  {
   "attachments": {},
   "cell_type": "markdown",
   "metadata": {},
   "source": [
    "    The null hypothesis of no correlation is rejected"
   ]
  },
  {
   "cell_type": "code",
   "execution_count": 117,
   "metadata": {},
   "outputs": [],
   "source": [
    "# Compute Kendall's tau between the THEW and ARW rankings\n",
    "tau_thew_arw, p_value_thew_arw = stats.kendalltau(uni['thew_rank'],uni['arw_rank'])\n",
    "\n",
    "# Compute Kendall's tau between the THEW and CW rankings\n",
    "tau_thew_cw, p_value_thew_cw = stats.kendalltau(uni['thew_rank'],uni['cw_rank'])\n",
    "\n",
    "# Compute Kendall's tau between the ARW and CW rankings\n",
    "tau_arw_cw, p_value_arw_cw = stats.kendalltau(uni['arw_rank'],uni['cw_rank'])"
   ]
  },
  {
   "cell_type": "code",
   "execution_count": 118,
   "metadata": {},
   "outputs": [
    {
     "name": "stdout",
     "output_type": "stream",
     "text": [
      "0.6512525427983284 3.4570509197908455e-09\n",
      "0.6623882222760947 1.8240211163900803e-09\n",
      "0.7196922583826684 6.29019199828259e-11\n"
     ]
    }
   ],
   "source": [
    "print(tau_thew_arw, p_value_thew_arw)\n",
    "print(tau_thew_cw, p_value_thew_cw)\n",
    "print(tau_arw_cw, p_value_arw_cw)"
   ]
  },
  {
   "attachments": {},
   "cell_type": "markdown",
   "metadata": {},
   "source": [
    "    Notice how ARW and CW have the largest value of tau, indicating the highest level of agreement. This is also reflected in them having a lower p-value. However, this is a two-tailed test, so if these two had a very high level of _disagreement_, the p-value would also be very low. Thus examining tau itself is important! Also, note that while you may have been tempted to use Pearson's R to measure correlation, since the data was ranked, inference based on Pearson's R likely would have been invalid!"
   ]
  },
  {
   "attachments": {},
   "cell_type": "markdown",
   "metadata": {},
   "source": [
    "#### Comparing medians\n",
    "Parametric tests tend to compare means, while non-parametric tests tend to compare medians. This is because if your data is skewed, the mean may not be a good measure of central tendency, and you should work with the median instead.\n",
    "\n"
   ]
  },
  {
   "cell_type": "code",
   "execution_count": 121,
   "metadata": {},
   "outputs": [
    {
     "data": {
      "image/png": "[encoded data removed]",
      "text/plain": [
       "<Figure size 640x480 with 1 Axes>"
      ]
     },
     "metadata": {},
     "output_type": "display_data"
    }
   ],
   "source": [
    "uni['cw_score'].plot(kind='hist')\n",
    "plt.show()"
   ]
  },
  {
   "cell_type": "code",
   "execution_count": 123,
   "metadata": {},
   "outputs": [
    {
     "data": {
      "image/png": "[encoded data removed]",
      "text/plain": [
       "<Figure size 640x480 with 1 Axes>"
      ]
     },
     "metadata": {},
     "output_type": "display_data"
    }
   ],
   "source": [
    "uni['arw_score'].plot(kind='hist')\n",
    "plt.show()"
   ]
  },
  {
   "cell_type": "code",
   "execution_count": 124,
   "metadata": {},
   "outputs": [
    {
     "name": "stdout",
     "output_type": "stream",
     "text": [
      "True\n"
     ]
    }
   ],
   "source": [
    "# Conduct a Mood's median test comparing cw_score and arw_score\n",
    "s, p_value, med, table = stats.median_test(uni['arw_score'], uni['cw_score'])\n",
    "\n",
    "# Check if the p-value is significant at 5%\n",
    "print(p_value <0.05)"
   ]
  },
  {
   "attachments": {},
   "cell_type": "markdown",
   "metadata": {},
   "source": [
    "    Working with medians rather than means can be important if your data is skewed, such as you have here. While the means may or may not be equal, the means may not be representative of the center of your data. So making inference on them may not fully describe your data. In this case the data is most certainly not symmetric, as you saw far more universities with a ranking near 50 and a tail leading out to 100. When you see a skewed distribution, this tells you that the mean is likely not an ideal measure of central tendency"
   ]
  },
  {
   "attachments": {},
   "cell_type": "markdown",
   "metadata": {},
   "source": [
    "### Effect Size\n",
    "Measure of the strength of relationship between two variables. For example, it is well known that smoking has a very strong relationship with cancer. Therefore, the effect size between the number of years smoked and the probability of getting cancer is very high. On the other hand, something like a poor diet may also be related to cancer, but with a much smaller strength. While a poor diet may contribute to cancer risk, it has a much, much smaller effect size than smoking.\n",
    "- smoking: large effect size\n",
    "- poor diet: small effect size\n",
    "\n",
    "\n",
    "***\n",
    "**P-Values**      $~~~~~~~~~~~~~~~~~~~~~~~~~~~~~~~~~~~~~~~~~~~~~~~~~~~~~~~~~$ **Effect size** \n",
    "\n",
    "Does a relationship exist?  $~~~~~~~~~~~~~~~~~~~~~~~~~~~~~~~~~$ How strong is the relationship? \n",
    "\n",
    "Comes from hypothesis test  $~~~~~~~~~~~~~~~~~~~~~~~~~~~~~$ Separate from a hypothesis test  \n",
    "\n",
    "#### Effect size for means - Cohen's d\n",
    "- n1 = sample size of group one\n",
    "- n2 = sample size of group two\n",
    "- s1 = standard deviation of group one\n",
    "- s2 = standard deviation of group two\n",
    "- $\\bar{x_1}$ = mean of group one\n",
    "- $\\bar{x_2}$ = mean of group two\n",
    ">$$ pooled ~ standard ~ deviation ~~ s= \\sqrt{\\frac{(n_{1}-1)s^2_{1}+(n_{2}-1)s^2_{2}}{n_{1}+n_{2}-2}} $$\n",
    ">$$ Cohen's ~ d ~ = \\frac{\\bar{x_1}-\\bar{x_2}}{s} $$\n",
    "\n",
    "Interpreting Cohen's d\n",
    "- 0.01 very small\n",
    "- 0.2  small\n",
    "- 0.5  medium\n",
    "- 0.8  large\n",
    "- 1.2  very large"
   ]
  },
  {
   "cell_type": "code",
   "execution_count": 127,
   "metadata": {},
   "outputs": [
    {
     "name": "stdout",
     "output_type": "stream",
     "text": [
      "0.8208388528595815\n"
     ]
    }
   ],
   "source": [
    "r,p_value = stats.pearsonr(btc_sp_df['Close_BTC'],btc_sp_df['Close_SP500'])\n",
    "print(r**2)"
   ]
  },
  {
   "attachments": {},
   "cell_type": "markdown",
   "metadata": {},
   "source": [
    "$R^2$: Percent of variation in one variable explained by knowing the other.\n",
    "\n",
    "Knowing one explains 82% of the variation in the other."
   ]
  },
  {
   "attachments": {},
   "cell_type": "markdown",
   "metadata": {},
   "source": [
    "#### Effect size for categorical variables\n",
    "\n",
    "- $\\chi^2$ =  Chi-squared statistic from categorical table\n",
    "- n = total number of data points\n",
    "- d = degrees of freedom = min(rows - 1, cols -1)\n",
    "\n",
    "$$Cramer'sV = \\sqrt{\\frac{\\chi^2/n}{d}}"
   ]
  },
  {
   "cell_type": "code",
   "execution_count": 149,
   "metadata": {},
   "outputs": [
    {
     "data": {
      "text/html": [
       "<div>\n",
       "<style scoped>\n",
       "    .dataframe tbody tr th:only-of-type {\n",
       "        vertical-align: middle;\n",
       "    }\n",
       "\n",
       "    .dataframe tbody tr th {\n",
       "        vertical-align: top;\n",
       "    }\n",
       "\n",
       "    .dataframe thead th {\n",
       "        text-align: right;\n",
       "    }\n",
       "</style>\n",
       "<table border=\"1\" class=\"dataframe\">\n",
       "  <thead>\n",
       "    <tr style=\"text-align: right;\">\n",
       "      <th>Gender</th>\n",
       "      <th>F</th>\n",
       "      <th>M</th>\n",
       "    </tr>\n",
       "    <tr>\n",
       "      <th>Title</th>\n",
       "      <th></th>\n",
       "      <th></th>\n",
       "    </tr>\n",
       "  </thead>\n",
       "  <tbody>\n",
       "    <tr>\n",
       "      <th>Administrative Specialist</th>\n",
       "      <td>183</td>\n",
       "      <td>33</td>\n",
       "    </tr>\n",
       "    <tr>\n",
       "      <th>Fire Specialist</th>\n",
       "      <td>16</td>\n",
       "      <td>186</td>\n",
       "    </tr>\n",
       "    <tr>\n",
       "      <th>Firefighter</th>\n",
       "      <td>49</td>\n",
       "      <td>481</td>\n",
       "    </tr>\n",
       "    <tr>\n",
       "      <th>MuniProg, Paraprofessional</th>\n",
       "      <td>405</td>\n",
       "      <td>494</td>\n",
       "    </tr>\n",
       "    <tr>\n",
       "      <th>Police Corporal/Detective</th>\n",
       "      <td>39</td>\n",
       "      <td>337</td>\n",
       "    </tr>\n",
       "    <tr>\n",
       "      <th>Police Officer</th>\n",
       "      <td>111</td>\n",
       "      <td>1060</td>\n",
       "    </tr>\n",
       "  </tbody>\n",
       "</table>\n",
       "</div>"
      ],
      "text/plain": [
       "Gender                        F     M\n",
       "Title                                \n",
       "Administrative Specialist   183    33\n",
       "Fire Specialist              16   186\n",
       "Firefighter                  49   481\n",
       "MuniProg, Paraprofessional  405   494\n",
       "Police Corporal/Detective    39   337\n",
       "Police Officer              111  1060"
      ]
     },
     "execution_count": 149,
     "metadata": {},
     "output_type": "execute_result"
    }
   ],
   "source": [
    "contingency_table = salary_df[['Title','Gender']].pivot_table(index='Title',columns='Gender',aggfunc='value_counts')\n",
    "contingency_table"
   ]
  },
  {
   "cell_type": "code",
   "execution_count": 150,
   "metadata": {},
   "outputs": [
    {
     "name": "stdout",
     "output_type": "stream",
     "text": [
      "0.5233064159759255\n"
     ]
    }
   ],
   "source": [
    "chi2,p,d,e = stats.chi2_contingency(contingency_table)\n",
    "dof = min(6-1,2-1)\n",
    "n = len(salary_df)\n",
    "v = np.sqrt((chi2/n)/dof)\n",
    "print(v)"
   ]
  },
  {
   "attachments": {},
   "cell_type": "markdown",
   "metadata": {},
   "source": [
    "***\n",
    "#### Examples (Effect size for means):\n",
    "Many venture capital-backed companies receive more than one round of funding. In general, the second round is bigger than the first. Just how much of an effect does the round number have on the average funding amount? You can use Cohen's d to quantify this."
   ]
  },
  {
   "cell_type": "code",
   "execution_count": 155,
   "metadata": {},
   "outputs": [
    {
     "data": {
      "text/html": [
       "<div>\n",
       "<style scoped>\n",
       "    .dataframe tbody tr th:only-of-type {\n",
       "        vertical-align: middle;\n",
       "    }\n",
       "\n",
       "    .dataframe tbody tr th {\n",
       "        vertical-align: top;\n",
       "    }\n",
       "\n",
       "    .dataframe thead th {\n",
       "        text-align: right;\n",
       "    }\n",
       "</style>\n",
       "<table border=\"1\" class=\"dataframe\">\n",
       "  <thead>\n",
       "    <tr style=\"text-align: right;\">\n",
       "      <th></th>\n",
       "      <th>market</th>\n",
       "      <th>funding_total_usd</th>\n",
       "      <th>status</th>\n",
       "      <th>country_code</th>\n",
       "      <th>funding_rounds</th>\n",
       "      <th>seed</th>\n",
       "      <th>venture</th>\n",
       "      <th>equity_crowdfunding</th>\n",
       "      <th>private_equity</th>\n",
       "      <th>log_funding</th>\n",
       "    </tr>\n",
       "  </thead>\n",
       "  <tbody>\n",
       "    <tr>\n",
       "      <th>0</th>\n",
       "      <td>Games</td>\n",
       "      <td>4000000</td>\n",
       "      <td>operating</td>\n",
       "      <td>USA</td>\n",
       "      <td>2</td>\n",
       "      <td>0</td>\n",
       "      <td>4000000</td>\n",
       "      <td>0</td>\n",
       "      <td>0</td>\n",
       "      <td>15.201805</td>\n",
       "    </tr>\n",
       "    <tr>\n",
       "      <th>1</th>\n",
       "      <td>Software</td>\n",
       "      <td>7000000</td>\n",
       "      <td>NaN</td>\n",
       "      <td>USA</td>\n",
       "      <td>1</td>\n",
       "      <td>0</td>\n",
       "      <td>7000000</td>\n",
       "      <td>0</td>\n",
       "      <td>0</td>\n",
       "      <td>15.761421</td>\n",
       "    </tr>\n",
       "    <tr>\n",
       "      <th>2</th>\n",
       "      <td>Advertising</td>\n",
       "      <td>4912393</td>\n",
       "      <td>closed</td>\n",
       "      <td>ARG</td>\n",
       "      <td>1</td>\n",
       "      <td>0</td>\n",
       "      <td>0</td>\n",
       "      <td>0</td>\n",
       "      <td>0</td>\n",
       "      <td>15.407272</td>\n",
       "    </tr>\n",
       "    <tr>\n",
       "      <th>3</th>\n",
       "      <td>Curated Web</td>\n",
       "      <td>2000000</td>\n",
       "      <td>operating</td>\n",
       "      <td>NaN</td>\n",
       "      <td>1</td>\n",
       "      <td>0</td>\n",
       "      <td>2000000</td>\n",
       "      <td>0</td>\n",
       "      <td>0</td>\n",
       "      <td>14.508658</td>\n",
       "    </tr>\n",
       "    <tr>\n",
       "      <th>4</th>\n",
       "      <td>Games</td>\n",
       "      <td>41250</td>\n",
       "      <td>operating</td>\n",
       "      <td>HKG</td>\n",
       "      <td>1</td>\n",
       "      <td>41250</td>\n",
       "      <td>0</td>\n",
       "      <td>0</td>\n",
       "      <td>0</td>\n",
       "      <td>10.627406</td>\n",
       "    </tr>\n",
       "  </tbody>\n",
       "</table>\n",
       "</div>"
      ],
      "text/plain": [
       "        market  funding_total_usd     status country_code  funding_rounds  \\\n",
       "0        Games            4000000  operating          USA               2   \n",
       "1     Software            7000000        NaN          USA               1   \n",
       "2  Advertising            4912393     closed          ARG               1   \n",
       "3  Curated Web            2000000  operating          NaN               1   \n",
       "4        Games              41250  operating          HKG               1   \n",
       "\n",
       "    seed  venture  equity_crowdfunding  private_equity  log_funding  \n",
       "0      0  4000000                    0               0    15.201805  \n",
       "1      0  7000000                    0               0    15.761421  \n",
       "2      0        0                    0               0    15.407272  \n",
       "3      0  2000000                    0               0    14.508658  \n",
       "4  41250        0                    0               0    10.627406  "
      ]
     },
     "execution_count": 155,
     "metadata": {},
     "output_type": "execute_result"
    }
   ],
   "source": [
    "invest.head()"
   ]
  },
  {
   "cell_type": "code",
   "execution_count": 158,
   "metadata": {},
   "outputs": [
    {
     "data": {
      "text/plain": [
       "-0.07719192881235956"
      ]
     },
     "execution_count": 158,
     "metadata": {},
     "output_type": "execute_result"
    }
   ],
   "source": [
    "# Select all investments from rounds 1 and 2 separately\n",
    "round1_df = invest[invest['funding_rounds'] == 1]\n",
    "round2_df = invest[invest['funding_rounds'] == 2]\n",
    "\n",
    "# Calculate the standard deviation of each round and the number of companies in each round\n",
    "round1_sd = round1_df['funding_total_usd'].std()\n",
    "round2_sd = round2_df['funding_total_usd'].std()\n",
    "round1_n = round1_df.shape[0]\n",
    "round2_n = round2_df.shape[0]\n",
    "\n",
    "# Calculate the pooled standard deviation between the two rounds\n",
    "pooled_sd = np.sqrt(((round1_n-1)*round1_sd**2 + (round2_n-1)*round2_sd**2) / (round1_n + round2_n - 2))\n",
    "\n",
    "# Calculate Cohen's d\n",
    "d = (round1_df['funding_total_usd'].mean() - round2_df['funding_total_usd'].mean()) / pooled_sd\n",
    "d"
   ]
  },
  {
   "attachments": {},
   "cell_type": "markdown",
   "metadata": {},
   "source": [
    "    If you printed out d in the console you'll see it's only about 0.08. That's a surprisingly low value! That tells us that moving to a second round of funding does not in itself have a large effect on the amount of money raised. This is likely due to how large the standard deviations are, which means that the means are unreliable estimates."
   ]
  },
  {
   "attachments": {},
   "cell_type": "markdown",
   "metadata": {},
   "source": [
    "#### Example(Effect size for correlations):\n",
    "The volatility of an asset is roughly defined by how much its price changes. In this exercise you'll measure volatility on a per-day basis, defined as the high price minus the low price, divided by the closing price.\n",
    "\n",
    "What factors explain the volatility of Bitcoin? Is the volatility of the S&P500 closely related to this? Does volatility increase or decrease as prices rise? In other words, what is the effect size of the correlation between these different factors? You'll compute both of these effect size in this exercise.\n",
    "\n"
   ]
  },
  {
   "cell_type": "code",
   "execution_count": 160,
   "metadata": {},
   "outputs": [
    {
     "data": {
      "text/html": [
       "<div>\n",
       "<style scoped>\n",
       "    .dataframe tbody tr th:only-of-type {\n",
       "        vertical-align: middle;\n",
       "    }\n",
       "\n",
       "    .dataframe tbody tr th {\n",
       "        vertical-align: top;\n",
       "    }\n",
       "\n",
       "    .dataframe thead th {\n",
       "        text-align: right;\n",
       "    }\n",
       "</style>\n",
       "<table border=\"1\" class=\"dataframe\">\n",
       "  <thead>\n",
       "    <tr style=\"text-align: right;\">\n",
       "      <th></th>\n",
       "      <th>Date</th>\n",
       "      <th>Open_BTC</th>\n",
       "      <th>High_BTC</th>\n",
       "      <th>Low_BTC</th>\n",
       "      <th>Close_BTC</th>\n",
       "      <th>Close_SP500</th>\n",
       "      <th>Open_SP500</th>\n",
       "      <th>High_SP500</th>\n",
       "      <th>Low_SP500</th>\n",
       "    </tr>\n",
       "  </thead>\n",
       "  <tbody>\n",
       "    <tr>\n",
       "      <th>0</th>\n",
       "      <td>2017-08-07</td>\n",
       "      <td>3212.780029</td>\n",
       "      <td>3397.679932</td>\n",
       "      <td>3180.889893</td>\n",
       "      <td>3378.939941</td>\n",
       "      <td>2480.91</td>\n",
       "      <td>2477.14</td>\n",
       "      <td>2480.95</td>\n",
       "      <td>2475.88</td>\n",
       "    </tr>\n",
       "    <tr>\n",
       "      <th>1</th>\n",
       "      <td>2017-08-08</td>\n",
       "      <td>3370.219971</td>\n",
       "      <td>3484.850098</td>\n",
       "      <td>3345.830078</td>\n",
       "      <td>3419.939941</td>\n",
       "      <td>2474.92</td>\n",
       "      <td>2478.35</td>\n",
       "      <td>2490.87</td>\n",
       "      <td>2470.32</td>\n",
       "    </tr>\n",
       "    <tr>\n",
       "      <th>2</th>\n",
       "      <td>2017-08-09</td>\n",
       "      <td>3420.399902</td>\n",
       "      <td>3422.760010</td>\n",
       "      <td>3247.669922</td>\n",
       "      <td>3342.469971</td>\n",
       "      <td>2474.02</td>\n",
       "      <td>2465.35</td>\n",
       "      <td>2474.41</td>\n",
       "      <td>2462.08</td>\n",
       "    </tr>\n",
       "    <tr>\n",
       "      <th>3</th>\n",
       "      <td>2017-08-10</td>\n",
       "      <td>3341.840088</td>\n",
       "      <td>3453.449951</td>\n",
       "      <td>3319.469971</td>\n",
       "      <td>3381.280029</td>\n",
       "      <td>2438.21</td>\n",
       "      <td>2465.38</td>\n",
       "      <td>2465.38</td>\n",
       "      <td>2437.75</td>\n",
       "    </tr>\n",
       "    <tr>\n",
       "      <th>4</th>\n",
       "      <td>2017-08-11</td>\n",
       "      <td>3373.820068</td>\n",
       "      <td>3679.719971</td>\n",
       "      <td>3372.120117</td>\n",
       "      <td>3650.620117</td>\n",
       "      <td>2441.32</td>\n",
       "      <td>2441.04</td>\n",
       "      <td>2448.09</td>\n",
       "      <td>2437.85</td>\n",
       "    </tr>\n",
       "  </tbody>\n",
       "</table>\n",
       "</div>"
      ],
      "text/plain": [
       "         Date     Open_BTC     High_BTC      Low_BTC    Close_BTC  \\\n",
       "0  2017-08-07  3212.780029  3397.679932  3180.889893  3378.939941   \n",
       "1  2017-08-08  3370.219971  3484.850098  3345.830078  3419.939941   \n",
       "2  2017-08-09  3420.399902  3422.760010  3247.669922  3342.469971   \n",
       "3  2017-08-10  3341.840088  3453.449951  3319.469971  3381.280029   \n",
       "4  2017-08-11  3373.820068  3679.719971  3372.120117  3650.620117   \n",
       "\n",
       "   Close_SP500  Open_SP500  High_SP500  Low_SP500  \n",
       "0      2480.91     2477.14     2480.95    2475.88  \n",
       "1      2474.92     2478.35     2490.87    2470.32  \n",
       "2      2474.02     2465.35     2474.41    2462.08  \n",
       "3      2438.21     2465.38     2465.38    2437.75  \n",
       "4      2441.32     2441.04     2448.09    2437.85  "
      ]
     },
     "execution_count": 160,
     "metadata": {},
     "output_type": "execute_result"
    }
   ],
   "source": [
    "btc_sp_df.head()"
   ]
  },
  {
   "cell_type": "code",
   "execution_count": 161,
   "metadata": {},
   "outputs": [
    {
     "name": "stdout",
     "output_type": "stream",
     "text": [
      "R^2 between volatility of the assets: 0.03152987723111428\n",
      "R^2 between closing price and volatility of BTC: 0.012520659135177178\n"
     ]
    }
   ],
   "source": [
    "# Compute the volatility of Bitcoin\n",
    "btc_sp_df['Volatility_BTC'] = (btc_sp_df['High_BTC']-btc_sp_df['Low_BTC'])/btc_sp_df['Close_BTC']\n",
    "\n",
    "# Compute the volatility of the S&P500\n",
    "btc_sp_df['Volatility_SP500'] = (btc_sp_df['High_SP500']-btc_sp_df['Low_SP500'])/btc_sp_df['Close_SP500']\n",
    "\n",
    "# Compute and print R^2 between the volatility of BTC and SP500\n",
    "r_volatility, p_value_volatility = stats.pearsonr(btc_sp_df['Volatility_BTC'],btc_sp_df['Volatility_SP500'])\n",
    "print('R^2 between volatility of the assets:', r_volatility**2)\n",
    "\n",
    "# Compute and print R^2 between the volatility of BTC and the closing price of BTC\n",
    "r_closing, p_value_closing = stats.pearsonr(btc_sp_df['Volatility_BTC'],btc_sp_df['Close_BTC'])\n",
    "print('R^2 between closing price and volatility of BTC:', r_closing**2)"
   ]
  },
  {
   "attachments": {},
   "cell_type": "markdown",
   "metadata": {},
   "source": [
    "    Neither the volatility of the S&P 500 nor the closing price of BTC has a large correlation with the volatility of BTC. However, you still learn something from the correlations! \n",
    "\n",
    "    You can see that the volatility of the S&P 500 explains about 3% of the variation of volatility of BTC, while the closing price of BTC explains about 1%. Therefore, price swings in BTC aren't simply related to price swings in the S&P 500, nor in the price of BTC being especially high/low. \n",
    "\n"
   ]
  },
  {
   "attachments": {},
   "cell_type": "markdown",
   "metadata": {},
   "source": [
    "#### Example(Effect size for categorical variables)\n",
    "You saw in the City of Austin employee data that job titles have an unequal distribution of genders.\n",
    "\n",
    "But does the same thing hold for ethnicities?\n",
    " \n",
    "And to what extent does ethnicity relate to the job title chosen?"
   ]
  },
  {
   "cell_type": "code",
   "execution_count": 165,
   "metadata": {},
   "outputs": [
    {
     "data": {
      "text/html": [
       "<div>\n",
       "<style scoped>\n",
       "    .dataframe tbody tr th:only-of-type {\n",
       "        vertical-align: middle;\n",
       "    }\n",
       "\n",
       "    .dataframe tbody tr th {\n",
       "        vertical-align: top;\n",
       "    }\n",
       "\n",
       "    .dataframe thead th {\n",
       "        text-align: right;\n",
       "    }\n",
       "</style>\n",
       "<table border=\"1\" class=\"dataframe\">\n",
       "  <thead>\n",
       "    <tr style=\"text-align: right;\">\n",
       "      <th>Ethnicity</th>\n",
       "      <th>Asian</th>\n",
       "      <th>Black or African American</th>\n",
       "      <th>Hispanic or Latino</th>\n",
       "      <th>White</th>\n",
       "    </tr>\n",
       "    <tr>\n",
       "      <th>Title</th>\n",
       "      <th></th>\n",
       "      <th></th>\n",
       "      <th></th>\n",
       "      <th></th>\n",
       "    </tr>\n",
       "  </thead>\n",
       "  <tbody>\n",
       "    <tr>\n",
       "      <th>Administrative Specialist</th>\n",
       "      <td>5</td>\n",
       "      <td>34</td>\n",
       "      <td>99</td>\n",
       "      <td>78</td>\n",
       "    </tr>\n",
       "    <tr>\n",
       "      <th>Fire Specialist</th>\n",
       "      <td>8</td>\n",
       "      <td>9</td>\n",
       "      <td>36</td>\n",
       "      <td>149</td>\n",
       "    </tr>\n",
       "    <tr>\n",
       "      <th>Firefighter</th>\n",
       "      <td>5</td>\n",
       "      <td>37</td>\n",
       "      <td>127</td>\n",
       "      <td>361</td>\n",
       "    </tr>\n",
       "    <tr>\n",
       "      <th>MuniProg, Paraprofessional</th>\n",
       "      <td>37</td>\n",
       "      <td>142</td>\n",
       "      <td>227</td>\n",
       "      <td>493</td>\n",
       "    </tr>\n",
       "    <tr>\n",
       "      <th>Police Corporal/Detective</th>\n",
       "      <td>5</td>\n",
       "      <td>31</td>\n",
       "      <td>77</td>\n",
       "      <td>263</td>\n",
       "    </tr>\n",
       "    <tr>\n",
       "      <th>Police Officer</th>\n",
       "      <td>34</td>\n",
       "      <td>86</td>\n",
       "      <td>263</td>\n",
       "      <td>788</td>\n",
       "    </tr>\n",
       "  </tbody>\n",
       "</table>\n",
       "</div>"
      ],
      "text/plain": [
       "Ethnicity                   Asian  Black or African American  \\\n",
       "Title                                                          \n",
       "Administrative Specialist       5                         34   \n",
       "Fire Specialist                 8                          9   \n",
       "Firefighter                     5                         37   \n",
       "MuniProg, Paraprofessional     37                        142   \n",
       "Police Corporal/Detective       5                         31   \n",
       "Police Officer                 34                         86   \n",
       "\n",
       "Ethnicity                   Hispanic or Latino  White  \n",
       "Title                                                  \n",
       "Administrative Specialist                   99     78  \n",
       "Fire Specialist                             36    149  \n",
       "Firefighter                                127    361  \n",
       "MuniProg, Paraprofessional                 227    493  \n",
       "Police Corporal/Detective                   77    263  \n",
       "Police Officer                             263    788  "
      ]
     },
     "execution_count": 165,
     "metadata": {},
     "output_type": "execute_result"
    }
   ],
   "source": [
    "employees_df = salary_df[['Title','Ethnicity']].pivot_table(index='Title',columns='Ethnicity',aggfunc='value_counts')\n",
    "employees_df"
   ]
  },
  {
   "cell_type": "code",
   "execution_count": 171,
   "metadata": {},
   "outputs": [
    {
     "name": "stdout",
     "output_type": "stream",
     "text": [
      "Cramer's V: 0.12902342923732754 \n",
      "Degrees of freedom: 3\n"
     ]
    }
   ],
   "source": [
    "# Compute the chi-squared statistic\n",
    "chi2, p, d, expected = stats.chi2_contingency(employees_df)\n",
    "\n",
    "# Compute the DOF using the number of rows and columns\n",
    "dof = min(len(employees_df.index) - 1, len(employees_df.columns) - 1)\n",
    "\n",
    "# Compute the total number of people\n",
    "n = np.sum(employees_df.values)\n",
    "\n",
    "# Compute Cramer's V\n",
    "v = np.sqrt((chi2 / n) / dof)\n",
    "\n",
    "print(\"Cramer's V:\", v, \"\\nDegrees of freedom:\", dof)"
   ]
  },
  {
   "attachments": {},
   "cell_type": "markdown",
   "metadata": {},
   "source": [
    "#### Interpreting Cramer's V\n",
    "\n",
    "**Degrees of freedom** $~~~~~~~~~~~~$ **Small** $~~~~~~~~~~~~$ **Medium** $~~~~~~~~~~~~$ **Large**\n",
    "\n",
    "$~~~~~~~~~~~~~~$ 1  $~~~~~~~~~~~~~~~~~~~~~~~~~~~~~~$ 0.10 $~~~~~~~~~~~~~~~~$ 0.30 $~~~~~~~~~~~~~~~~~$ 0.50\n",
    "\n",
    "$~~~~~~~~~~~~~~$ 2  $~~~~~~~~~~~~~~~~~~~~~~~~~~~~~~$ 0.07 $~~~~~~~~~~~~~~~~$ 0.21 $~~~~~~~~~~~~~~~~~$ 0.35\n",
    "\n",
    "$~~~~~~~~~~~~~~$ 3  $~~~~~~~~~~~~~~~~~~~~~~~~~~~~~~$ 0.06 $~~~~~~~~~~~~~~~~$ 0.17 $~~~~~~~~~~~~~~~~~$ 0.29\n",
    "\n",
    "$~~~~~~~~~~~~~~$ 4  $~~~~~~~~~~~~~~~~~~~~~~~~~~~~~~$ 0.05 $~~~~~~~~~~~~~~~~$ 0.15 $~~~~~~~~~~~~~~~~~$ 0.25\n",
    "\n",
    "$~~~~~~~~~~~~~~$ 5  $~~~~~~~~~~~~~~~~~~~~~~~~~~~~~~$ 0.04 $~~~~~~~~~~~~~~~~$ 0.13 $~~~~~~~~~~~~~~~~~$ 0.22"
   ]
  },
  {
   "attachments": {},
   "cell_type": "markdown",
   "metadata": {},
   "source": [
    "    While a chi-squared test can test for association between two categorical variables, it doesn't directly answer the question of the degree of association. By computing an effect size like Cramer's V, you can directly measure the effect that one variable has on the other.\n",
    "\n",
    "    Here you see that job title and ethnicity are certainly related, but not directly linked. This might lead you to search for what other factors are influencing the job a person gets."
   ]
  },
  {
   "attachments": {},
   "cell_type": "markdown",
   "metadata": {},
   "source": [
    "### Muliple comparisons and Corrections\n",
    "Often, when conduct several inferences or tests simultaneously, the probability of detecting an effect that is not in fact present increases.\n",
    "\n",
    "Suppose we wanted to see if people liked a new product our company was developing. We start by asking one person and they say no. We then ask another person and they also say no. We repeat this until eventually one person says yes. We then go back to our boss and say 'People like our product!' Clesrly this is silly, as we're taking samples until we get the result we want. But this is precisely the multiple comparisons problem.\n",
    "\n",
    "Imagine that we were trying to determine what factors increased sales, and we sent a survey to cusyomers with 50 questions, we might take the response to each question one-by-one and see if it seems to correlate with, or help explain, the choice of customer to buy or not buy our product. We may also look at pairs of variables, or maybe even more.\n",
    "\n",
    "**Multiple Comparisons Problem**: Making comparisons until getting the result we want.\n",
    "\n",
    "**The role of alpha in inference**\n",
    "- p-value: probability of a result occuring at random. If a highly unlikely result occurs, it raises our suspicion, and makes us consider if something in our experiment caused that result. Such as a very high number of people getting better after taking our treatment, which causes us to suspect that our treatment is what did it.\n",
    "- $\\alpha$: strength of result needed for significance. Alpha is the cutoff for how strong this evidence needs to be before we reject the null. But when we make many comparisons, we increase the probability of finding results which demonstrate a strong relationship, even if it's only due to random chance.\n",
    "- p-value < $\\alpha$: conclude a relationship exists.\n",
    "\n",
    "**Correcting for multiple comparisons**\n",
    "- starting $\\alpha$ = 0.05\n",
    "- number of comparisons = 50\n",
    "- Bonferonni-corrected $\\alpha$ = $\\frac{0.05}{50}$ = 0.001\n",
    "- Conduct hypothesis tests with $\\alpha$ = 0.001\n",
    "- It reduced probability of detecting a significant result by chance.\n"
   ]
  },
  {
   "attachments": {},
   "cell_type": "markdown",
   "metadata": {},
   "source": [
    "#### Example(Multiple comparison problem)\n",
    "The multiple comparisons problem arises when a researcher repeatedly checks different variables/samples against one another for significance. Just by random chance we expect to find an occasional result of statistical significance.\n",
    "\n",
    "In this exercise you'll work with data from salaries for employees at the City of Austin, TX. You will compare their salaries against randomly generated data. You will see how often this random data is \"significant\" in explaining the salaries of employees. Clearly any such \"significance\" would be spurious, as random numbers aren't very helpful in explaining anything!"
   ]
  },
  {
   "cell_type": "code",
   "execution_count": 174,
   "metadata": {},
   "outputs": [
    {
     "data": {
      "text/html": [
       "<div>\n",
       "<style scoped>\n",
       "    .dataframe tbody tr th:only-of-type {\n",
       "        vertical-align: middle;\n",
       "    }\n",
       "\n",
       "    .dataframe tbody tr th {\n",
       "        vertical-align: top;\n",
       "    }\n",
       "\n",
       "    .dataframe thead th {\n",
       "        text-align: right;\n",
       "    }\n",
       "</style>\n",
       "<table border=\"1\" class=\"dataframe\">\n",
       "  <thead>\n",
       "    <tr style=\"text-align: right;\">\n",
       "      <th></th>\n",
       "      <th>Title</th>\n",
       "      <th>Gender</th>\n",
       "      <th>Ethnicity</th>\n",
       "      <th>Annual Salary</th>\n",
       "      <th>Years of Employment</th>\n",
       "    </tr>\n",
       "  </thead>\n",
       "  <tbody>\n",
       "    <tr>\n",
       "      <th>1734</th>\n",
       "      <td>Police Officer</td>\n",
       "      <td>M</td>\n",
       "      <td>White</td>\n",
       "      <td>72681.44</td>\n",
       "      <td>6</td>\n",
       "    </tr>\n",
       "    <tr>\n",
       "      <th>1735</th>\n",
       "      <td>Police Officer</td>\n",
       "      <td>M</td>\n",
       "      <td>White</td>\n",
       "      <td>83210.40</td>\n",
       "      <td>15</td>\n",
       "    </tr>\n",
       "    <tr>\n",
       "      <th>1736</th>\n",
       "      <td>Police Officer</td>\n",
       "      <td>M</td>\n",
       "      <td>White</td>\n",
       "      <td>83210.40</td>\n",
       "      <td>13</td>\n",
       "    </tr>\n",
       "    <tr>\n",
       "      <th>1737</th>\n",
       "      <td>Police Officer</td>\n",
       "      <td>M</td>\n",
       "      <td>White</td>\n",
       "      <td>72681.44</td>\n",
       "      <td>5</td>\n",
       "    </tr>\n",
       "    <tr>\n",
       "      <th>1738</th>\n",
       "      <td>Police Officer</td>\n",
       "      <td>M</td>\n",
       "      <td>Hispanic or Latino</td>\n",
       "      <td>95270.24</td>\n",
       "      <td>20</td>\n",
       "    </tr>\n",
       "    <tr>\n",
       "      <th>...</th>\n",
       "      <td>...</td>\n",
       "      <td>...</td>\n",
       "      <td>...</td>\n",
       "      <td>...</td>\n",
       "      <td>...</td>\n",
       "    </tr>\n",
       "    <tr>\n",
       "      <th>3327</th>\n",
       "      <td>Police Officer</td>\n",
       "      <td>M</td>\n",
       "      <td>White</td>\n",
       "      <td>77767.04</td>\n",
       "      <td>11</td>\n",
       "    </tr>\n",
       "    <tr>\n",
       "      <th>3328</th>\n",
       "      <td>Police Officer</td>\n",
       "      <td>M</td>\n",
       "      <td>White</td>\n",
       "      <td>83210.40</td>\n",
       "      <td>12</td>\n",
       "    </tr>\n",
       "    <tr>\n",
       "      <th>3329</th>\n",
       "      <td>Police Officer</td>\n",
       "      <td>M</td>\n",
       "      <td>White</td>\n",
       "      <td>58680.96</td>\n",
       "      <td>2</td>\n",
       "    </tr>\n",
       "    <tr>\n",
       "      <th>3330</th>\n",
       "      <td>Police Officer</td>\n",
       "      <td>M</td>\n",
       "      <td>White</td>\n",
       "      <td>72681.44</td>\n",
       "      <td>5</td>\n",
       "    </tr>\n",
       "    <tr>\n",
       "      <th>3331</th>\n",
       "      <td>Police Officer</td>\n",
       "      <td>M</td>\n",
       "      <td>Hispanic or Latino</td>\n",
       "      <td>72681.44</td>\n",
       "      <td>4</td>\n",
       "    </tr>\n",
       "  </tbody>\n",
       "</table>\n",
       "<p>1171 rows × 5 columns</p>\n",
       "</div>"
      ],
      "text/plain": [
       "               Title Gender           Ethnicity  Annual Salary  \\\n",
       "1734  Police Officer      M               White       72681.44   \n",
       "1735  Police Officer      M               White       83210.40   \n",
       "1736  Police Officer      M               White       83210.40   \n",
       "1737  Police Officer      M               White       72681.44   \n",
       "1738  Police Officer      M  Hispanic or Latino       95270.24   \n",
       "...              ...    ...                 ...            ...   \n",
       "3327  Police Officer      M               White       77767.04   \n",
       "3328  Police Officer      M               White       83210.40   \n",
       "3329  Police Officer      M               White       58680.96   \n",
       "3330  Police Officer      M               White       72681.44   \n",
       "3331  Police Officer      M  Hispanic or Latino       72681.44   \n",
       "\n",
       "      Years of Employment  \n",
       "1734                    6  \n",
       "1735                   15  \n",
       "1736                   13  \n",
       "1737                    5  \n",
       "1738                   20  \n",
       "...                   ...  \n",
       "3327                   11  \n",
       "3328                   12  \n",
       "3329                    2  \n",
       "3330                    5  \n",
       "3331                    4  \n",
       "\n",
       "[1171 rows x 5 columns]"
      ]
     },
     "execution_count": 174,
     "metadata": {},
     "output_type": "execute_result"
    }
   ],
   "source": [
    "police_salaries_df = salary_df[salary_df['Title']=='Police Officer']\n",
    "police_salaries_df"
   ]
  },
  {
   "cell_type": "code",
   "execution_count": 181,
   "metadata": {},
   "outputs": [
    {
     "name": "stdout",
     "output_type": "stream",
     "text": [
      "52\n"
     ]
    }
   ],
   "source": [
    "# Compute number of rows and initialize n_significant\n",
    "n_rows = police_salaries_df.shape[0]\n",
    "n_significant = 0\n",
    "p_values = []\n",
    "\n",
    "# For loop which generates n_rows random numbers 1000 times\n",
    "for i in range(1000):\n",
    "  random_nums = np.random.uniform(size=n_rows)\n",
    "  # Compute correlation between random_nums and police salaries\n",
    "  r, p_value = stats.pearsonr(police_salaries_df['Annual Salary'], random_nums)\n",
    "  p_values.append(p_value)\n",
    "  # If the p-value is significant at 5%, increment n_significant\n",
    "  if p_value < 0.05:\n",
    "    n_significant += 1\n",
    "    \n",
    "print(n_significant)"
   ]
  },
  {
   "attachments": {},
   "cell_type": "markdown",
   "metadata": {},
   "source": [
    "    Notice how about 50 out of 1000, or 5%, of the results were significant. This is not a coincidence! Your cutoff for significance was 5%, meaning about 5% of the time a random correlation will cross this threshold. This clearly demonstrates the problem with repeatedly running experiments and assuming that low p-values indicate something meaningful."
   ]
  },
  {
   "attachments": {},
   "cell_type": "markdown",
   "metadata": {},
   "source": [
    "#### EXample(Bonferonni-Holm correction)\n",
    "You've seen that comparing many different datasets, even randomly generated ones, can result in \"statistically significant relationships\" that are anything but! One way around this is to apply a correction to the alpha of your confidence level."
   ]
  },
  {
   "cell_type": "code",
   "execution_count": 202,
   "metadata": {},
   "outputs": [
    {
     "name": "stdout",
     "output_type": "stream",
     "text": [
      "0\n"
     ]
    }
   ],
   "source": [
    "# Compute the Bonferonni-corrected alpha\n",
    "bonf_alpha = 0.05/1000\n",
    "\n",
    "# Check how many p-values were significant at this level\n",
    "sum = 0\n",
    "for i in p_values:\n",
    "    if i < bonf_alpha:\n",
    "        sum = sum + 1\n",
    "print(sum)"
   ]
  },
  {
   "attachments": {},
   "cell_type": "markdown",
   "metadata": {},
   "source": [
    "    What a drastic change from the last exercise! Previously you had quite a few spurious correlations being detected. Now you likely had none, or very close! This means that the bar for what is significant has been raised drastically. This helps reduce the chance of spurious correlations being marked at significant.\n",
    "\n",
    "    When you used the uncorrected alpha, about 50 of the 1000 experiments (or 5% of them) were \"significant\". When using the Bonferonni-Holm correction, none (or close to none) of them were significant. \n",
    "\n",
    "    it's important to know exactly when to apply them. By understanding that the role of the Bonferonni correction is to minimize the chance of spurious correlations being deemed statistically significant, you know exactly when and where to use it!"
   ]
  },
  {
   "attachments": {},
   "cell_type": "markdown",
   "metadata": {},
   "source": [
    "### Power of test\n",
    "Probability of correctly detecting an effect, if indeed an effect is present.\n",
    "\n",
    "We'd like experiments to have: Large sample sizes, a treatment with a big impact, and a reasonable significance level(neither too big nor too small). Together, these three factors will inflence the outcome of an experiment.\n",
    "\n",
    "Imagine a weight loss study where the treatment group participates in exercise, and the control group does nothing. We then measure the weight loss for each group.\n",
    "\n",
    "from scipy.stats import norm\n",
    "\n",
    "Control group: Mean 0 pounds, std 1 pound (no weight loss on average, with a standard deviation of 1 pound)\n",
    "\n",
    ">control = norm.rvs(loc=0, scale=1, size=100)\n",
    "\n",
    "Treatment group: Mean -2 pounds, std 1 pound\n",
    "\n",
    ">treatment = norm.rvs(loc=-2, scale=1, size=100)"
   ]
  },
  {
   "attachments": {},
   "cell_type": "markdown",
   "metadata": {},
   "source": [
    "**Simulations**(small sample size)\n",
    "\n",
    ">$H_{0}$: No difference in weight loss \n",
    "<br>\n",
    ">$H_{A}$: Treatment group loses weight"
   ]
  },
  {
   "cell_type": "code",
   "execution_count": 227,
   "metadata": {},
   "outputs": [
    {
     "name": "stdout",
     "output_type": "stream",
     "text": [
      "reject the Null Hypothesis\n"
     ]
    }
   ],
   "source": [
    "control = stats.norm.rvs(loc=0, scale=1, size=100)\n",
    "treatment = stats.norm.rvs(loc=-2, scale=1, size=100)\n",
    "\n",
    "alpha = 0.05\n",
    "t_test = stats.ttest_ind(treatment,control,alternative='less') #less:the mean of the distribution underlying the first sample is less than that of the second sample\n",
    "print('{}'.format('reject the Null Hypothesis' if t_test.pvalue < alpha else 'fail to reject Null Hypothesis'))"
   ]
  },
  {
   "attachments": {},
   "cell_type": "markdown",
   "metadata": {},
   "source": [
    "What if instead of 100 people, we had just five people in each group?"
   ]
  },
  {
   "cell_type": "code",
   "execution_count": 235,
   "metadata": {},
   "outputs": [
    {
     "name": "stdout",
     "output_type": "stream",
     "text": [
      "fail to reject Null Hypothesis\n"
     ]
    }
   ],
   "source": [
    "control = stats.norm.rvs(loc=0, scale=1, size=5)\n",
    "treatment = stats.norm.rvs(loc=-2, scale=1, size=5)\n",
    "\n",
    "alpha = 0.05\n",
    "tt = stats.ttest_ind(treatment,control,alternative='less') \n",
    "print('{}'.format('reject the Null Hypothesis' if tt.pvalue < alpha else 'fail to reject Null Hypothesis'))"
   ]
  },
  {
   "attachments": {},
   "cell_type": "markdown",
   "metadata": {},
   "source": [
    "**Simulations**(small effect size)"
   ]
  },
  {
   "cell_type": "code",
   "execution_count": 238,
   "metadata": {},
   "outputs": [
    {
     "name": "stdout",
     "output_type": "stream",
     "text": [
      "fail to reject Null Hypothesis\n"
     ]
    }
   ],
   "source": [
    "control = stats.norm.rvs(loc=0, scale=1, size=100)\n",
    "treatment = stats.norm.rvs(loc=-0.2, scale=1, size=100)\n",
    "\n",
    "alpha = 0.05\n",
    "t_test = stats.ttest_ind(treatment,control,alternative='less') #less:the mean of the distribution underlying the first sample is less than that of the second sample\n",
    "print('{}'.format('reject the Null Hypothesis' if t_test.pvalue < alpha else 'fail to reject Null Hypothesis'))"
   ]
  },
  {
   "cell_type": "code",
   "execution_count": 239,
   "metadata": {},
   "outputs": [
    {
     "name": "stdout",
     "output_type": "stream",
     "text": [
      "reject the Null Hypothesis\n"
     ]
    }
   ],
   "source": [
    "control = stats.norm.rvs(loc=0, scale=1, size=1000)\n",
    "treatment = stats.norm.rvs(loc=-0.2, scale=1, size=1000)\n",
    "\n",
    "alpha = 0.05\n",
    "t_test = stats.ttest_ind(treatment,control,alternative='less') #less:the mean of the distribution underlying the first sample is less than that of the second sample\n",
    "print('{}'.format('reject the Null Hypothesis' if t_test.pvalue < alpha else 'fail to reject Null Hypothesis'))"
   ]
  },
  {
   "attachments": {},
   "cell_type": "markdown",
   "metadata": {},
   "source": [
    "Again, our test comes to the incorrect conclusion of no difference!\n",
    "\n",
    "**Small effect,Big sample**\n",
    "\n",
    "The problem is that our effect size is too small for our sample size and significance level.\n",
    "\n",
    ">By incease the sample size we can combat the effect size."
   ]
  },
  {
   "attachments": {},
   "cell_type": "markdown",
   "metadata": {},
   "source": [
    "#### Defining the power of a test\n",
    "**If there is a significant effect, will our test be able to detect it?**\n",
    ">Power of a test: if the alternative hypothesis is true, how likely is our test to reject the Null in favor of the alternative?\n",
    "\n",
    "When designing an experiment, it's best to calculate power before collecting a sample."
   ]
  },
  {
   "cell_type": "code",
   "execution_count": 257,
   "metadata": {},
   "outputs": [
    {
     "name": "stdout",
     "output_type": "stream",
     "text": [
      "0.290645871104774\n",
      "The probability that our test detects this difference and rejects the null is only 29.06%, low chance of detection!\n"
     ]
    }
   ],
   "source": [
    "from statsmodels.stats import power\n",
    "# Power function\n",
    "tt_power = power.TTestIndPower()\n",
    "\n",
    "# Calculate power\n",
    "pwr = tt_power.power(effect_size=0.2, # 0.2 pounds weight loss\n",
    "                    nobs1 = 100, # 100 people in each group\n",
    "                    alpha = 0.05)\n",
    "print(pwr)\n",
    "print(f'The probability that our test detects this difference and rejects the null is only {round(pwr*100,2)}%,\\\n",
    " low chance of detection!')"
   ]
  },
  {
   "attachments": {},
   "cell_type": "markdown",
   "metadata": {},
   "source": [
    "    Power is important when making inference, because it helps us determine just how likely we are to detect a significant effect, if one exists."
   ]
  },
  {
   "attachments": {},
   "cell_type": "markdown",
   "metadata": {},
   "source": [
    "We can also solve for any one missing parameter using the ***solve_power*** function.\n",
    "\n",
    "Here we mark the sample size nobs1 as **None** to indicate we want to solve for it."
   ]
  },
  {
   "cell_type": "code",
   "execution_count": 258,
   "metadata": {},
   "outputs": [
    {
     "name": "stdout",
     "output_type": "stream",
     "text": [
      "We need at least 393.0 people in each group to achieve a power of 80%\n"
     ]
    }
   ],
   "source": [
    "nobs1 = power.TTestIndPower().solve_power(\n",
    "                                            effect_size = - 0.2,\n",
    "                                            nobs1 = None, # solve for\n",
    "                                            alpha = 0.05,\n",
    "                                            power = 0.8\n",
    ")\n",
    "nobs1\n",
    "print(f'We need at least {round(nobs1,0)} people in each group to achieve a power of 80%')"
   ]
  },
  {
   "attachments": {},
   "cell_type": "markdown",
   "metadata": {},
   "source": [
    "Power for experimental design\n",
    "Imagine that you collecedt a sample of 100 people for your study and spend time and money executing it. After your study was done, you realized that the power of your test was only 10%. In other words, even if there was a difference between your groups, there is only a 10% chance your test would detect it, given the data you supplied. What a waste of effort!\n",
    "\n",
    "Therefore, the best practice is to estimate power before collecting data and running an experiment. \n",
    "\n",
    "1. Start by determining a desired power\n",
    "2. Research effect sizes seen in similar situations, or estimate a realistic effect size.\n",
    "3. Estimate the sample size needed to achieve the desired power at a given confidence level and effect size using the statsmodel function power()\n",
    "4. Collect a sample of data using the parameters determined in power analysis.\n",
    "5. Conduct the desired hypothesis test to test for significance."
   ]
  },
  {
   "cell_type": "code",
   "execution_count": 259,
   "metadata": {},
   "outputs": [
    {
     "data": {
      "text/html": [
       "<div>\n",
       "<style scoped>\n",
       "    .dataframe tbody tr th:only-of-type {\n",
       "        vertical-align: middle;\n",
       "    }\n",
       "\n",
       "    .dataframe tbody tr th {\n",
       "        vertical-align: top;\n",
       "    }\n",
       "\n",
       "    .dataframe thead th {\n",
       "        text-align: right;\n",
       "    }\n",
       "</style>\n",
       "<table border=\"1\" class=\"dataframe\">\n",
       "  <thead>\n",
       "    <tr style=\"text-align: right;\">\n",
       "      <th></th>\n",
       "      <th>market</th>\n",
       "      <th>funding_total_usd</th>\n",
       "      <th>status</th>\n",
       "      <th>country_code</th>\n",
       "      <th>funding_rounds</th>\n",
       "      <th>seed</th>\n",
       "      <th>venture</th>\n",
       "      <th>equity_crowdfunding</th>\n",
       "      <th>private_equity</th>\n",
       "      <th>log_funding</th>\n",
       "    </tr>\n",
       "  </thead>\n",
       "  <tbody>\n",
       "    <tr>\n",
       "      <th>0</th>\n",
       "      <td>Games</td>\n",
       "      <td>4000000</td>\n",
       "      <td>operating</td>\n",
       "      <td>USA</td>\n",
       "      <td>2</td>\n",
       "      <td>0</td>\n",
       "      <td>4000000</td>\n",
       "      <td>0</td>\n",
       "      <td>0</td>\n",
       "      <td>15.201805</td>\n",
       "    </tr>\n",
       "    <tr>\n",
       "      <th>1</th>\n",
       "      <td>Software</td>\n",
       "      <td>7000000</td>\n",
       "      <td>NaN</td>\n",
       "      <td>USA</td>\n",
       "      <td>1</td>\n",
       "      <td>0</td>\n",
       "      <td>7000000</td>\n",
       "      <td>0</td>\n",
       "      <td>0</td>\n",
       "      <td>15.761421</td>\n",
       "    </tr>\n",
       "    <tr>\n",
       "      <th>2</th>\n",
       "      <td>Advertising</td>\n",
       "      <td>4912393</td>\n",
       "      <td>closed</td>\n",
       "      <td>ARG</td>\n",
       "      <td>1</td>\n",
       "      <td>0</td>\n",
       "      <td>0</td>\n",
       "      <td>0</td>\n",
       "      <td>0</td>\n",
       "      <td>15.407272</td>\n",
       "    </tr>\n",
       "    <tr>\n",
       "      <th>3</th>\n",
       "      <td>Curated Web</td>\n",
       "      <td>2000000</td>\n",
       "      <td>operating</td>\n",
       "      <td>NaN</td>\n",
       "      <td>1</td>\n",
       "      <td>0</td>\n",
       "      <td>2000000</td>\n",
       "      <td>0</td>\n",
       "      <td>0</td>\n",
       "      <td>14.508658</td>\n",
       "    </tr>\n",
       "    <tr>\n",
       "      <th>4</th>\n",
       "      <td>Games</td>\n",
       "      <td>41250</td>\n",
       "      <td>operating</td>\n",
       "      <td>HKG</td>\n",
       "      <td>1</td>\n",
       "      <td>41250</td>\n",
       "      <td>0</td>\n",
       "      <td>0</td>\n",
       "      <td>0</td>\n",
       "      <td>10.627406</td>\n",
       "    </tr>\n",
       "    <tr>\n",
       "      <th>...</th>\n",
       "      <td>...</td>\n",
       "      <td>...</td>\n",
       "      <td>...</td>\n",
       "      <td>...</td>\n",
       "      <td>...</td>\n",
       "      <td>...</td>\n",
       "      <td>...</td>\n",
       "      <td>...</td>\n",
       "      <td>...</td>\n",
       "      <td>...</td>\n",
       "    </tr>\n",
       "    <tr>\n",
       "      <th>23675</th>\n",
       "      <td>Biotechnology</td>\n",
       "      <td>2686600</td>\n",
       "      <td>operating</td>\n",
       "      <td>AUT</td>\n",
       "      <td>1</td>\n",
       "      <td>0</td>\n",
       "      <td>2686600</td>\n",
       "      <td>0</td>\n",
       "      <td>0</td>\n",
       "      <td>14.803787</td>\n",
       "    </tr>\n",
       "    <tr>\n",
       "      <th>23676</th>\n",
       "      <td>Education</td>\n",
       "      <td>320000</td>\n",
       "      <td>operating</td>\n",
       "      <td>GBR</td>\n",
       "      <td>1</td>\n",
       "      <td>320000</td>\n",
       "      <td>0</td>\n",
       "      <td>0</td>\n",
       "      <td>0</td>\n",
       "      <td>12.676076</td>\n",
       "    </tr>\n",
       "    <tr>\n",
       "      <th>23677</th>\n",
       "      <td>Enterprise Software</td>\n",
       "      <td>1587301</td>\n",
       "      <td>operating</td>\n",
       "      <td>CHN</td>\n",
       "      <td>1</td>\n",
       "      <td>0</td>\n",
       "      <td>1587301</td>\n",
       "      <td>0</td>\n",
       "      <td>0</td>\n",
       "      <td>14.277546</td>\n",
       "    </tr>\n",
       "    <tr>\n",
       "      <th>23678</th>\n",
       "      <td>Games</td>\n",
       "      <td>9300000</td>\n",
       "      <td>operating</td>\n",
       "      <td>NaN</td>\n",
       "      <td>1</td>\n",
       "      <td>9300000</td>\n",
       "      <td>0</td>\n",
       "      <td>0</td>\n",
       "      <td>0</td>\n",
       "      <td>16.045525</td>\n",
       "    </tr>\n",
       "    <tr>\n",
       "      <th>23679</th>\n",
       "      <td>Enterprise Software</td>\n",
       "      <td>45000000</td>\n",
       "      <td>operating</td>\n",
       "      <td>USA</td>\n",
       "      <td>4</td>\n",
       "      <td>0</td>\n",
       "      <td>28000000</td>\n",
       "      <td>0</td>\n",
       "      <td>0</td>\n",
       "      <td>17.622173</td>\n",
       "    </tr>\n",
       "  </tbody>\n",
       "</table>\n",
       "<p>23680 rows × 10 columns</p>\n",
       "</div>"
      ],
      "text/plain": [
       "                    market  funding_total_usd     status country_code  \\\n",
       "0                    Games            4000000  operating          USA   \n",
       "1                 Software            7000000        NaN          USA   \n",
       "2              Advertising            4912393     closed          ARG   \n",
       "3              Curated Web            2000000  operating          NaN   \n",
       "4                    Games              41250  operating          HKG   \n",
       "...                    ...                ...        ...          ...   \n",
       "23675        Biotechnology            2686600  operating          AUT   \n",
       "23676            Education             320000  operating          GBR   \n",
       "23677  Enterprise Software            1587301  operating          CHN   \n",
       "23678                Games            9300000  operating          NaN   \n",
       "23679  Enterprise Software           45000000  operating          USA   \n",
       "\n",
       "       funding_rounds     seed   venture  equity_crowdfunding  private_equity  \\\n",
       "0                   2        0   4000000                    0               0   \n",
       "1                   1        0   7000000                    0               0   \n",
       "2                   1        0         0                    0               0   \n",
       "3                   1        0   2000000                    0               0   \n",
       "4                   1    41250         0                    0               0   \n",
       "...               ...      ...       ...                  ...             ...   \n",
       "23675               1        0   2686600                    0               0   \n",
       "23676               1   320000         0                    0               0   \n",
       "23677               1        0   1587301                    0               0   \n",
       "23678               1  9300000         0                    0               0   \n",
       "23679               4        0  28000000                    0               0   \n",
       "\n",
       "       log_funding  \n",
       "0        15.201805  \n",
       "1        15.761421  \n",
       "2        15.407272  \n",
       "3        14.508658  \n",
       "4        10.627406  \n",
       "...            ...  \n",
       "23675    14.803787  \n",
       "23676    12.676076  \n",
       "23677    14.277546  \n",
       "23678    16.045525  \n",
       "23679    17.622173  \n",
       "\n",
       "[23680 rows x 10 columns]"
      ]
     },
     "execution_count": 259,
     "metadata": {},
     "output_type": "execute_result"
    }
   ],
   "source": []
  },
  {
   "attachments": {},
   "cell_type": "markdown",
   "metadata": {},
   "source": [
    "**computing the power of a two sample t-test**\n",
    "\n",
    "You want to compare average funding per investment round for games companies versus advertising companies. "
   ]
  },
  {
   "cell_type": "code",
   "execution_count": 273,
   "metadata": {},
   "outputs": [
    {
     "data": {
      "text/plain": [
       "0.11314383002768333"
      ]
     },
     "execution_count": 273,
     "metadata": {},
     "output_type": "execute_result"
    }
   ],
   "source": [
    "ads_acquired_avg_funding = invest[invest['market']=='Advertising']['funding_total_usd']\n",
    "games_acquired_avg_funding = invest[invest['market']=='Games']['funding_total_usd']\n",
    "\n",
    "# Compute the ratio of games to advertising companies\n",
    "games_ads_ratio = len(games_acquired_avg_funding) / len(ads_acquired_avg_funding)\n",
    "\n",
    "# Cohen's d (standardized effect size) for advertising versus games company's\n",
    "ads_games_cohensd = 0.03380764912794999\n",
    "\n",
    "# Compute the power of the test\n",
    "power.TTestIndPower().power(effect_size=ads_games_cohensd, \n",
    "            nobs1=len(ads_acquired_avg_funding),\n",
    "            alpha=0.05,\n",
    "            ratio=games_ads_ratio)"
   ]
  },
  {
   "cell_type": "code",
   "execution_count": 270,
   "metadata": {},
   "outputs": [
    {
     "name": "stdout",
     "output_type": "stream",
     "text": [
      "13735.264811811767\n"
     ]
    }
   ],
   "source": [
    "# Solve for the sample size needed to achieve a power of 80%\n",
    "nobs1 = power.TTestIndPower().solve_power(effect_size=ads_games_cohensd, \n",
    "                      nobs1= None,\n",
    "                      alpha=0.05,\n",
    "                      \n",
    "                      power = 0.8)\n",
    "\n",
    "# Print the number of participants needed in one group\n",
    "print(nobs1)"
   ]
  },
  {
   "attachments": {},
   "cell_type": "markdown",
   "metadata": {},
   "source": [
    "### Bootstrapping\n",
    "- Bootstrapping = sampling with replacement\n",
    "    1. Randomly choose a sample\n",
    "    2. Write it down\n",
    "    3. Put it back in the data (replacement)\n",
    "    4. Repeat\n",
    "- Boostrapped sample = Sample generated from boostrapping\n",
    "\n",
    "#### Non-parametric confidence interval\n",
    "For the purposes of inference, our primary interest in bootstrapping is creating booststrapped confidence intervals, which is a non-parametric analogue of the confidence intervals that assume normality.\n",
    "- Non-parametric analogue of stats.norm.interval\n",
    "    - Sample with replacement\n",
    "    - Compute test statistic\n",
    "- Creates an empirical distribution"
   ]
  },
  {
   "cell_type": "code",
   "execution_count": 276,
   "metadata": {},
   "outputs": [
    {
     "data": {
      "text/plain": [
       "0     6\n",
       "1    11\n",
       "2    14\n",
       "3     3\n",
       "4     2\n",
       "Name: Years of Employment, dtype: int64"
      ]
     },
     "execution_count": 276,
     "metadata": {},
     "output_type": "execute_result"
    }
   ],
   "source": [
    "salary_df['Years of Employment'].head()"
   ]
  },
  {
   "attachments": {},
   "cell_type": "markdown",
   "metadata": {},
   "source": [
    "Suppose we put employees into groups of ten. How much would the experience levels vary within these groups? Would we expect most employees to be around the same experience, or would it be reasonable to expect drastic swings in experience level?\n",
    "\n",
    "We'll measure this by randomly selecting ten employees and finding the difference between the most and least experienced employees by looking at their years of employment"
   ]
  },
  {
   "cell_type": "code",
   "execution_count": 277,
   "metadata": {},
   "outputs": [
    {
     "name": "stdout",
     "output_type": "stream",
     "text": [
      "16\n"
     ]
    }
   ],
   "source": [
    "sample_1 = salary_df['Years of Employment'].sample(n=10)\n",
    "print(max(sample_1)-min(sample_1))"
   ]
  },
  {
   "attachments": {},
   "cell_type": "markdown",
   "metadata": {},
   "source": [
    "In this one example we saw a spread of 16 years. We could repeat this many times and form a sampling distribution. By then taking the middle 95% of outcomes, we could form a bootstrapped 95% confidence interval."
   ]
  },
  {
   "cell_type": "code",
   "execution_count": 288,
   "metadata": {},
   "outputs": [
    {
     "name": "stdout",
     "output_type": "stream",
     "text": [
      "BootstrapResult(confidence_interval=ConfidenceInterval(low=33.0, high=38.0), standard_error=1.3957120089803672)\n"
     ]
    }
   ],
   "source": [
    "# Statistic function\n",
    "def max_min(x):\n",
    "    return max(x)-min(x)\n",
    "\n",
    "# Data as a tuple\n",
    "data = (salary_df['Years of Employment'],)\n",
    "\n",
    "bootstrap_ci = stats.bootstrap(data,statistic = max_min,vectorized=False,n_resamples=1000)\n",
    "\n",
    "print(bootstrap_ci)"
   ]
  },
  {
   "attachments": {},
   "cell_type": "markdown",
   "metadata": {},
   "source": [
    "***\n",
    "**Normal confidence intervals**      $~~~~~~~~~~~~~~~~~~~~~~~~~~~~~~~~~~~~~~~~~~~~~~~~~~~~~~~~~$ **Bootstrap confidence intervals** \n",
    "***\n",
    "\n",
    "Requires data to be normally distributed  $~~~~~~~~~~~~~~~~~~~~~~~~~~~~~~~~~~~~~~~~~~~~~$ Allows for any distribution \n",
    "\n",
    "Computed based only on mean and standard error  $~~~~~~~~~~~~~~~~~~~~~~~~~~~~~$ Computed directlu from data by resampling  \n",
    "\n",
    "Inference valid only for normal data  $~~~~~~~~~~~~~~~~~~~~~~~~~~~~~~~~~~~~~~~~~~~~~~~~~~~~$ Inference valid for any data \n",
    "\n",
    "Very fast to compute  $~~~~~~~~~~~~~~~~~~~~~~~~~~~~~~~~~~~~~~~~~~~~~~~~~~~~~~~~~~~~~~~~~~~~~~~~~~$ Much slower to compute\n",
    "\n",
    "\n",
    "\n",
    "#### **Use cases for bootstrapping**\n",
    "- When working with non-normal data\n",
    "    - ranked data\n",
    "    - skewed data\n",
    "- When normal confidence intervals returns questionable values\n",
    "- Work with any statistic we like"
   ]
  },
  {
   "attachments": {},
   "cell_type": "markdown",
   "metadata": {},
   "source": [
    "#### Example(Bootstrap confidence intervals)\n",
    "You previously saw that there is some degree of correlation between the S&P 500 and Bitcoin. One way to measure this would be to look at the correlation coefficient Pearson's R between the two. However, doing so results in only a point estimate. Presumably, at some points in time the correlation between the two is quite close, while at other times they behave very differently. How can you characterize the variability? One approach is to create a bootstrap confidence interval for the correlation coefficient between the two. "
   ]
  },
  {
   "cell_type": "code",
   "execution_count": 290,
   "metadata": {},
   "outputs": [
    {
     "name": "stdout",
     "output_type": "stream",
     "text": [
      "ConfidenceInterval(low=0.17970541935949022, high=0.3439271426526015)\n"
     ]
    }
   ],
   "source": [
    "# Compute the daily percent change of each asset\n",
    "btc_sp_df['Pct_Daily_Change_BTC'] = (btc_sp_df['Open_BTC'] - btc_sp_df['Close_BTC']) / btc_sp_df['Open_BTC']\n",
    "btc_sp_df['Pct_Daily_Change_SP500'] = (btc_sp_df['Open_SP500'] - btc_sp_df['Close_SP500']) / btc_sp_df['Open_SP500']\n",
    "\n",
    "# Write a function which returns the correlation coefficient\n",
    "def pearson_r(x, y):\n",
    "    return stats.pearsonr(x, y)[0]\n",
    "  \n",
    "# Compute a bootstrap confidence interval\n",
    "ci = stats.bootstrap((btc_sp_df['Pct_Daily_Change_BTC'], btc_sp_df['Pct_Daily_Change_SP500']), \n",
    "                     statistic=pearson_r, \n",
    "                     vectorized=False, paired=True, n_resamples=1000, random_state=1)\n",
    "\n",
    "print(ci.confidence_interval)"
   ]
  },
  {
   "attachments": {},
   "cell_type": "markdown",
   "metadata": {},
   "source": [
    "\n",
    "    95% of the time, the correlation between the daily change in the two assets is between about 18% and 34%."
   ]
  },
  {
   "attachments": {},
   "cell_type": "markdown",
   "metadata": {},
   "source": [
    "You've seen the results of a bootstrap confidence interval for Pearson's R. But what about common situations like making a confidence interval for a mean? Why would you use a bootstrap confidence interval over a \"normal\" confidence interval coming from stats.norm?"
   ]
  },
  {
   "cell_type": "code",
   "execution_count": 293,
   "metadata": {},
   "outputs": [
    {
     "name": "stdout",
     "output_type": "stream",
     "text": [
      "Normal CI: (-695062.1822300977, 4049988.4410101348)\n",
      "Bootstrap CI: ConfidenceInterval(low=346677.20573773247, high=7516727.078923329)\n"
     ]
    }
   ],
   "source": [
    "# Select just the companies in the Analytics market\n",
    "analytics_df = invest[invest['market'] == 'Analytics']\n",
    "\n",
    "# Construct a 95% confidence interval for the mean private equity funding using the confidence interval function\n",
    "norm_ci = stats.norm.interval(confidence=0.95,\n",
    "                             loc=analytics_df['private_equity'].mean(),\n",
    "                             scale=analytics_df['private_equity'].std() / np.sqrt(analytics_df.shape[0]))\n",
    "\n",
    "# Construct a bootstrapped confidence interval\n",
    "bootstrap_ci = stats.bootstrap(data=(analytics_df['private_equity'], ),\n",
    "                              statistic=np.mean)\n",
    "\n",
    "print('Normal CI:', norm_ci)\n",
    "print('Bootstrap CI:', bootstrap_ci.confidence_interval)"
   ]
  },
  {
   "attachments": {},
   "cell_type": "markdown",
   "metadata": {},
   "source": [
    "    These two return quite different results, even though they're estimating the same thing! The primary reason for the difference is that the mean is relatively small and spread out, so the standard error is large. That causes the normal confidence interval to contain negative values.\n",
    "\n",
    "    Since the average private equity funding cannot be negative, conclusions from this confidence interval are questionable.\n",
    "\n",
    "    A bootstrap confidence interval is created by sampling from the original data, which does not contain negative values.\n",
    "\n",
    "    The bootstrap confidence interval is also quite broad, spanning roughly six million dollars! However, this reflects the fact that the private equity funding is highly variable, with one company receiving over six hundred million dollars! And yet, the bootstrap confidence interval avoided negative values and only returned plausible values.\n",
    "\n"
   ]
  },
  {
   "attachments": {},
   "cell_type": "markdown",
   "metadata": {},
   "source": [
    "### Combining evidence from p-value\n",
    "\n",
    "#### Testing p-values\n",
    "- Fisher's method\n",
    "    - Different samples/studies\n",
    "    - Same null hypothesis\n",
    "    - Different p-values\n",
    "    - At least one should reject the null\n",
    "- Combines evidence from multiple studies\n",
    "- Studies all testing the same null hypothesis\n"
   ]
  },
  {
   "cell_type": "code",
   "execution_count": 304,
   "metadata": {},
   "outputs": [
    {
     "name": "stdout",
     "output_type": "stream",
     "text": [
      "True\n"
     ]
    }
   ],
   "source": [
    "p_values = [0.052,0.12,0.09,0.051]\n",
    "fishers_stat,p_value = stats.combine_pvalues(p_values)\n",
    "print(p_value < 0.05)"
   ]
  },
  {
   "attachments": {},
   "cell_type": "markdown",
   "metadata": {},
   "source": [
    "    While no test individually showed statistical significance, the combination of evidence from all of the tests suggest there is indeed a significant effect present.\n",
    "    Based on the p-value in the console, out of all four studies at least one of them should have rejected the null hypothesis."
   ]
  },
  {
   "cell_type": "code",
   "execution_count": 305,
   "metadata": {},
   "outputs": [
    {
     "name": "stdout",
     "output_type": "stream",
     "text": [
      "False\n"
     ]
    }
   ],
   "source": [
    "p_values = [0.01,0.51,0.81,0.49]\n",
    "fishers_stat,p_value = stats.combine_pvalues(p_values)\n",
    "print(p_value < 0.05)"
   ]
  },
  {
   "attachments": {},
   "cell_type": "markdown",
   "metadata": {},
   "source": [
    "    Contrast that with the case where one study had a low p-value of 0.01, and yet all others had significantly larger p-values. In this case, Fisher's method suggests that none of the studies should have rejected the null, and perhaps the one study which did is merely a fluke."
   ]
  },
  {
   "attachments": {},
   "cell_type": "markdown",
   "metadata": {},
   "source": [
    "#### Example\n",
    ">Consider an example where you are testing the effectiveness of a certain diet on weight loss. This diet has been studied by multiple researchers in different settings, but all are testing the null hypothesis that the diet does not induce weight loss. All researchers report their p-values, and you use them in Fisher's method. Why would it make sense to reject some, but not necessarily all, of the null hypotheses?\n",
    "\n",
    "The samples were different for each researcher, and the diet might have worked better for certain samples than others. Another way to say this is that there may have been different effect sizes for each sample. This is a natural part of experimentation, and may yield slightly different results for each group. So while one group may have responded very well to the treatment, another group, through no fault of the researcher, may not have."
   ]
  },
  {
   "attachments": {},
   "cell_type": "markdown",
   "metadata": {},
   "source": [
    "### Permutation tests\n",
    "- shuffles samples\n",
    "- observes outcome\n",
    "- observed difference looks like a random outcome?"
   ]
  },
  {
   "cell_type": "code",
   "execution_count": 307,
   "metadata": {},
   "outputs": [
    {
     "name": "stdout",
     "output_type": "stream",
     "text": [
      "False\n"
     ]
    }
   ],
   "source": [
    "new_satisfaction = [94,85,79,91,82]\n",
    "old_satisfaction = [90,87,77,85,82]\n",
    "\n",
    "# Group together our data\n",
    "data = (new_satisfaction,old_satisfaction)\n",
    "\n",
    "# Define our test statistic\n",
    "def statistic(x,y):\n",
    "    return np.mean(x) - np.mean(y)\n",
    "\n",
    "# Compute a permutation test for the difference in means\n",
    "result = stats.permutation_test(data,\n",
    "                       statistic=statistic,\n",
    "                       n_resamples=1000,# how many times the data should be shuffled to build the null distribution, meaning the distribution of outcomes that occur purely by chance\n",
    "                       vectorized=False,\n",
    "                       alternative='greater')\n",
    "print(result.pvalue<0.05)"
   ]
  },
  {
   "attachments": {},
   "cell_type": "markdown",
   "metadata": {},
   "source": [
    "    The p-value returned from this test is not significant at 5% level, meaning the new_satisfaction greater than old satisfaction could just be due to random chance."
   ]
  },
  {
   "attachments": {},
   "cell_type": "markdown",
   "metadata": {},
   "source": [
    "***\n",
    "**Permutation Tests**      $~~~~~~~~~~~~~~~~~~~~~~~~~~~~~~~~~~~~~~~~~~~~~~~~~~~~~~~~~~~~~~~~~~~~~~~~~~~~~~~~~~~~~~~~~~~$ **Bootstrapping** \n",
    "***\n",
    "\n",
    "Build a null distribution by randomly shuffling data  $~~~~~~~~~~~~~~~~~~~~~~~~~~~~~~~~~~~~~~~~~~~~~$ Build a probability distribution by randomly sampling data\n",
    "\n",
    "Tests for significance of an outcome  $~~~~~~~~~~~~~~~~~~~~~~~~~~~~~~~~~~~~~~~~~~~~~~~~~~~~~~~~~~~~~~~~~~$ Creates a confidence interval showing most likely outcomes \n",
    "\n",
    "e.g.\n",
    "\n",
    "Bootstrap CI :\n",
    "- You want to understand how much the mean difference between two variables can vary\n",
    "- You want to estimate a reasonable range of values for the mean difference between two variables\n",
    "\n",
    "Permutation test:\n",
    "- You want to understand if the mean difference between two values is likely to differ(be non-zero)\n",
    "- You want to determine if an observed value of a mean difference between two variables is unusually large.\n"
   ]
  },
  {
   "attachments": {},
   "cell_type": "markdown",
   "metadata": {},
   "source": [
    "#### Example(Permutation tests for correlations)\n",
    "\n",
    "How does the volatility of Bitcoin compare to the volatility of the S&P 500?\n",
    "\n",
    "You previously computed volatility as the percent daily change, which has been stored for you in the Pct_Daily_Change_BTC and Pct_Daily_Change_SP500 columns in your data. The question you want to answer is the extent to which these two values correlate. One way to answer this is through a permutation test. By randomly shuffling values between the S&P 500 and BTC you are able to see what a random outcome would like like, and then compare this to the observed values.\n",
    "\n",
    ">Conduct a permutation test with this data, statistic, 1000 resamples, and with an alternative hypothesis of greater volatility with Bitcoin."
   ]
  },
  {
   "cell_type": "code",
   "execution_count": 312,
   "metadata": {},
   "outputs": [
    {
     "data": {
      "text/html": [
       "<div>\n",
       "<style scoped>\n",
       "    .dataframe tbody tr th:only-of-type {\n",
       "        vertical-align: middle;\n",
       "    }\n",
       "\n",
       "    .dataframe tbody tr th {\n",
       "        vertical-align: top;\n",
       "    }\n",
       "\n",
       "    .dataframe thead th {\n",
       "        text-align: right;\n",
       "    }\n",
       "</style>\n",
       "<table border=\"1\" class=\"dataframe\">\n",
       "  <thead>\n",
       "    <tr style=\"text-align: right;\">\n",
       "      <th></th>\n",
       "      <th>Date</th>\n",
       "      <th>Open_BTC</th>\n",
       "      <th>High_BTC</th>\n",
       "      <th>Low_BTC</th>\n",
       "      <th>Close_BTC</th>\n",
       "      <th>Close_SP500</th>\n",
       "      <th>Open_SP500</th>\n",
       "      <th>High_SP500</th>\n",
       "      <th>Low_SP500</th>\n",
       "      <th>Volatility_BTC</th>\n",
       "      <th>Volatility_SP500</th>\n",
       "      <th>Pct_Daily_Change_BTC</th>\n",
       "      <th>Pct_Daily_Change_SP500</th>\n",
       "    </tr>\n",
       "  </thead>\n",
       "  <tbody>\n",
       "    <tr>\n",
       "      <th>0</th>\n",
       "      <td>2017-08-07</td>\n",
       "      <td>3212.780029</td>\n",
       "      <td>3397.679932</td>\n",
       "      <td>3180.889893</td>\n",
       "      <td>3378.939941</td>\n",
       "      <td>2480.91</td>\n",
       "      <td>2477.14</td>\n",
       "      <td>2480.95</td>\n",
       "      <td>2475.88</td>\n",
       "      <td>0.064159</td>\n",
       "      <td>0.002044</td>\n",
       "      <td>-0.051718</td>\n",
       "      <td>-0.001522</td>\n",
       "    </tr>\n",
       "    <tr>\n",
       "      <th>1</th>\n",
       "      <td>2017-08-08</td>\n",
       "      <td>3370.219971</td>\n",
       "      <td>3484.850098</td>\n",
       "      <td>3345.830078</td>\n",
       "      <td>3419.939941</td>\n",
       "      <td>2474.92</td>\n",
       "      <td>2478.35</td>\n",
       "      <td>2490.87</td>\n",
       "      <td>2470.32</td>\n",
       "      <td>0.040650</td>\n",
       "      <td>0.008303</td>\n",
       "      <td>-0.014753</td>\n",
       "      <td>0.001384</td>\n",
       "    </tr>\n",
       "    <tr>\n",
       "      <th>2</th>\n",
       "      <td>2017-08-09</td>\n",
       "      <td>3420.399902</td>\n",
       "      <td>3422.760010</td>\n",
       "      <td>3247.669922</td>\n",
       "      <td>3342.469971</td>\n",
       "      <td>2474.02</td>\n",
       "      <td>2465.35</td>\n",
       "      <td>2474.41</td>\n",
       "      <td>2462.08</td>\n",
       "      <td>0.052383</td>\n",
       "      <td>0.004984</td>\n",
       "      <td>0.022784</td>\n",
       "      <td>-0.003517</td>\n",
       "    </tr>\n",
       "    <tr>\n",
       "      <th>3</th>\n",
       "      <td>2017-08-10</td>\n",
       "      <td>3341.840088</td>\n",
       "      <td>3453.449951</td>\n",
       "      <td>3319.469971</td>\n",
       "      <td>3381.280029</td>\n",
       "      <td>2438.21</td>\n",
       "      <td>2465.38</td>\n",
       "      <td>2465.38</td>\n",
       "      <td>2437.75</td>\n",
       "      <td>0.039624</td>\n",
       "      <td>0.011332</td>\n",
       "      <td>-0.011802</td>\n",
       "      <td>0.011021</td>\n",
       "    </tr>\n",
       "    <tr>\n",
       "      <th>4</th>\n",
       "      <td>2017-08-11</td>\n",
       "      <td>3373.820068</td>\n",
       "      <td>3679.719971</td>\n",
       "      <td>3372.120117</td>\n",
       "      <td>3650.620117</td>\n",
       "      <td>2441.32</td>\n",
       "      <td>2441.04</td>\n",
       "      <td>2448.09</td>\n",
       "      <td>2437.85</td>\n",
       "      <td>0.084260</td>\n",
       "      <td>0.004194</td>\n",
       "      <td>-0.082044</td>\n",
       "      <td>-0.000115</td>\n",
       "    </tr>\n",
       "  </tbody>\n",
       "</table>\n",
       "</div>"
      ],
      "text/plain": [
       "         Date     Open_BTC     High_BTC      Low_BTC    Close_BTC  \\\n",
       "0  2017-08-07  3212.780029  3397.679932  3180.889893  3378.939941   \n",
       "1  2017-08-08  3370.219971  3484.850098  3345.830078  3419.939941   \n",
       "2  2017-08-09  3420.399902  3422.760010  3247.669922  3342.469971   \n",
       "3  2017-08-10  3341.840088  3453.449951  3319.469971  3381.280029   \n",
       "4  2017-08-11  3373.820068  3679.719971  3372.120117  3650.620117   \n",
       "\n",
       "   Close_SP500  Open_SP500  High_SP500  Low_SP500  Volatility_BTC  \\\n",
       "0      2480.91     2477.14     2480.95    2475.88        0.064159   \n",
       "1      2474.92     2478.35     2490.87    2470.32        0.040650   \n",
       "2      2474.02     2465.35     2474.41    2462.08        0.052383   \n",
       "3      2438.21     2465.38     2465.38    2437.75        0.039624   \n",
       "4      2441.32     2441.04     2448.09    2437.85        0.084260   \n",
       "\n",
       "   Volatility_SP500  Pct_Daily_Change_BTC  Pct_Daily_Change_SP500  \n",
       "0          0.002044             -0.051718               -0.001522  \n",
       "1          0.008303             -0.014753                0.001384  \n",
       "2          0.004984              0.022784               -0.003517  \n",
       "3          0.011332             -0.011802                0.011021  \n",
       "4          0.004194             -0.082044               -0.000115  "
      ]
     },
     "execution_count": 312,
     "metadata": {},
     "output_type": "execute_result"
    }
   ],
   "source": [
    "btc_sp_df['Pct_Daily_Change_BTC'] = (btc_sp_df['Open_BTC'] -  btc_sp_df['Close_BTC'])/btc_sp_df['Open_BTC']\n",
    "btc_sp_df['Pct_Daily_Change_SP500'] = (btc_sp_df['Open_SP500'] -  btc_sp_df['Close_SP500'])/btc_sp_df['Open_SP500']\n",
    "btc_sp_df.head()"
   ]
  },
  {
   "cell_type": "code",
   "execution_count": 313,
   "metadata": {},
   "outputs": [
    {
     "name": "stdout",
     "output_type": "stream",
     "text": [
      "True\n"
     ]
    }
   ],
   "source": [
    "# Define a function which returns the Pearson R value\n",
    "def statistic(x, y):\n",
    "\treturn stats.pearsonr(x,y)[0]\n",
    "\n",
    "# Define the data as the percent daily change from each asset\n",
    "data = (btc_sp_df['Pct_Daily_Change_BTC'],btc_sp_df['Pct_Daily_Change_SP500'])\n",
    "\n",
    "# Compute a permutation test for the percent daily change of each asset\n",
    "res = stats.permutation_test(data, statistic, \n",
    "           n_resamples=1000,\n",
    "           vectorized=False, \n",
    "           alternative='greater')\n",
    "\n",
    "# Print if the p-value is significant at 5%\n",
    "print(res.pvalue < 0.05)"
   ]
  },
  {
   "attachments": {},
   "cell_type": "markdown",
   "metadata": {},
   "source": [
    "    We put absolutely no assumptions on your data, and yet you were still able to conclude that the observed greater volatility in Bitcoin over SP500 is indeed statistically significant."
   ]
  },
  {
   "attachments": {},
   "cell_type": "markdown",
   "metadata": {},
   "source": [
    "#### Example(Analyzing skewed data with a permutation test)\n",
    "You're interested in comparing the average number of funding rounds between between companies in the analytics space and all other venture-funded companies. While you may be tempted to use a t-test, you can be sure that the number of funding rounds is not normally distributed. Instead, the majority of companies have only one round, with the number of companies with two or more rounds quickly dropping off."
   ]
  },
  {
   "cell_type": "code",
   "execution_count": 317,
   "metadata": {},
   "outputs": [],
   "source": [
    "analytics_df = invest.loc[invest['market']=='Analytics']\n",
    "non_analytics_df = invest.loc[~(invest['market']=='Analytics')]"
   ]
  },
  {
   "cell_type": "code",
   "execution_count": 320,
   "metadata": {},
   "outputs": [
    {
     "name": "stdout",
     "output_type": "stream",
     "text": [
      "0.019801980198019802\n"
     ]
    }
   ],
   "source": [
    "# Write a \"statistic\" function which calculates the difference in means\n",
    "def statistic(funding_group_1, funding_group_2):\n",
    "  return np.mean(funding_group_1) - np.mean(funding_group_2)\n",
    "\n",
    "# Conduct a permutation test using 100 resamples\n",
    "perm_result = stats.permutation_test((analytics_df['funding_rounds'], non_analytics_df['funding_rounds']),\n",
    "                                    statistic=statistic,\n",
    "                                    n_resamples=100,\n",
    "                                    vectorized=False)\n",
    "\n",
    "# Print the p-value\n",
    "print(perm_result.pvalue)"
   ]
  },
  {
   "cell_type": "code",
   "execution_count": null,
   "metadata": {},
   "outputs": [],
   "source": []
  }
 ],
 "metadata": {
  "kernelspec": {
   "display_name": "venv",
   "language": "python",
   "name": "python3"
  },
  "language_info": {
   "codemirror_mode": {
    "name": "ipython",
    "version": 3
   },
   "file_extension": ".py",
   "mimetype": "text/x-python",
   "name": "python",
   "nbconvert_exporter": "python",
   "pygments_lexer": "ipython3",
   "version": "3.11.0"
  },
  "orig_nbformat": 4,
  "vscode": {
   "interpreter": {
    "hash": "b56102e69f978b9d9eb581d737c7d835de3b67b03c7af637c3b4cd0cef8a3a3b"
   }
  }
 },
 "nbformat": 4,
 "nbformat_minor": 2
}
